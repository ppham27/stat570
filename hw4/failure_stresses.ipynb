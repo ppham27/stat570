{
 "cells": [
  {
   "cell_type": "code",
   "execution_count": 1,
   "metadata": {},
   "outputs": [],
   "source": [
    "import matplotlib.pyplot as plt\n",
    "import numpy as np\n",
    "import pandas as pd\n",
    "from scipy import stats\n",
    "import statsmodels.api as sm\n",
    "\n",
    "failure_stresses = pd.DataFrame(\n",
    "    [\n",
    "        [2.247, 2.640, 2.842, 2.908, 3.099, 3.126, 3.245, 3.328, 3.355, 3.383, 3.572, 3.581, 3.681],\n",
    "        [1.901, 2.132, 2.203, 2.228, 2.257, 2.35, 2.361, 2.396, 2.397, 2.445, 2.454, 2.454, 2.474],\n",
    "        [1.312, 1.314, 1.479, 1.552, 1.700, 1.803, 1.861, 1.865, 1.944, 1.958, 1.966, 1.997, 2.006],\n",
    "        [1.339, 1.434, 1.549, 1.574, 1.589, 1.613, 1.746, 1.753, 1.764, 1.807, 1.812, 1.840, 1.852],\n",
    "    ],    \n",
    "    index=pd.Series([1, 10, 20, 50], name='Length (mm)'))"
   ]
  },
  {
   "cell_type": "code",
   "execution_count": 2,
   "metadata": {
    "scrolled": true
   },
   "outputs": [
    {
     "data": {
      "text/html": [
       "<div>\n",
       "<style scoped>\n",
       "    .dataframe tbody tr th:only-of-type {\n",
       "        vertical-align: middle;\n",
       "    }\n",
       "\n",
       "    .dataframe tbody tr th {\n",
       "        vertical-align: top;\n",
       "    }\n",
       "\n",
       "    .dataframe thead th {\n",
       "        text-align: right;\n",
       "    }\n",
       "</style>\n",
       "<table border=\"1\" class=\"dataframe\">\n",
       "  <thead>\n",
       "    <tr style=\"text-align: right;\">\n",
       "      <th></th>\n",
       "      <th>0</th>\n",
       "      <th>1</th>\n",
       "      <th>2</th>\n",
       "      <th>3</th>\n",
       "      <th>4</th>\n",
       "      <th>5</th>\n",
       "      <th>6</th>\n",
       "      <th>7</th>\n",
       "      <th>8</th>\n",
       "      <th>9</th>\n",
       "      <th>10</th>\n",
       "      <th>11</th>\n",
       "      <th>12</th>\n",
       "    </tr>\n",
       "    <tr>\n",
       "      <th>Length (mm)</th>\n",
       "      <th></th>\n",
       "      <th></th>\n",
       "      <th></th>\n",
       "      <th></th>\n",
       "      <th></th>\n",
       "      <th></th>\n",
       "      <th></th>\n",
       "      <th></th>\n",
       "      <th></th>\n",
       "      <th></th>\n",
       "      <th></th>\n",
       "      <th></th>\n",
       "      <th></th>\n",
       "    </tr>\n",
       "  </thead>\n",
       "  <tbody>\n",
       "    <tr>\n",
       "      <th>1</th>\n",
       "      <td>2.247</td>\n",
       "      <td>2.640</td>\n",
       "      <td>2.842</td>\n",
       "      <td>2.908</td>\n",
       "      <td>3.099</td>\n",
       "      <td>3.126</td>\n",
       "      <td>3.245</td>\n",
       "      <td>3.328</td>\n",
       "      <td>3.355</td>\n",
       "      <td>3.383</td>\n",
       "      <td>3.572</td>\n",
       "      <td>3.581</td>\n",
       "      <td>3.681</td>\n",
       "    </tr>\n",
       "    <tr>\n",
       "      <th>10</th>\n",
       "      <td>1.901</td>\n",
       "      <td>2.132</td>\n",
       "      <td>2.203</td>\n",
       "      <td>2.228</td>\n",
       "      <td>2.257</td>\n",
       "      <td>2.350</td>\n",
       "      <td>2.361</td>\n",
       "      <td>2.396</td>\n",
       "      <td>2.397</td>\n",
       "      <td>2.445</td>\n",
       "      <td>2.454</td>\n",
       "      <td>2.454</td>\n",
       "      <td>2.474</td>\n",
       "    </tr>\n",
       "    <tr>\n",
       "      <th>20</th>\n",
       "      <td>1.312</td>\n",
       "      <td>1.314</td>\n",
       "      <td>1.479</td>\n",
       "      <td>1.552</td>\n",
       "      <td>1.700</td>\n",
       "      <td>1.803</td>\n",
       "      <td>1.861</td>\n",
       "      <td>1.865</td>\n",
       "      <td>1.944</td>\n",
       "      <td>1.958</td>\n",
       "      <td>1.966</td>\n",
       "      <td>1.997</td>\n",
       "      <td>2.006</td>\n",
       "    </tr>\n",
       "    <tr>\n",
       "      <th>50</th>\n",
       "      <td>1.339</td>\n",
       "      <td>1.434</td>\n",
       "      <td>1.549</td>\n",
       "      <td>1.574</td>\n",
       "      <td>1.589</td>\n",
       "      <td>1.613</td>\n",
       "      <td>1.746</td>\n",
       "      <td>1.753</td>\n",
       "      <td>1.764</td>\n",
       "      <td>1.807</td>\n",
       "      <td>1.812</td>\n",
       "      <td>1.840</td>\n",
       "      <td>1.852</td>\n",
       "    </tr>\n",
       "  </tbody>\n",
       "</table>\n",
       "</div>"
      ],
      "text/plain": [
       "                0      1      2      3      4      5      6      7      8   \\\n",
       "Length (mm)                                                                  \n",
       "1            2.247  2.640  2.842  2.908  3.099  3.126  3.245  3.328  3.355   \n",
       "10           1.901  2.132  2.203  2.228  2.257  2.350  2.361  2.396  2.397   \n",
       "20           1.312  1.314  1.479  1.552  1.700  1.803  1.861  1.865  1.944   \n",
       "50           1.339  1.434  1.549  1.574  1.589  1.613  1.746  1.753  1.764   \n",
       "\n",
       "                9      10     11     12  \n",
       "Length (mm)                              \n",
       "1            3.383  3.572  3.581  3.681  \n",
       "10           2.445  2.454  2.454  2.474  \n",
       "20           1.958  1.966  1.997  2.006  \n",
       "50           1.807  1.812  1.840  1.852  "
      ]
     },
     "execution_count": 2,
     "metadata": {},
     "output_type": "execute_result"
    }
   ],
   "source": [
    "with open('p2_data.tex', 'w') as f:\n",
    "    f.write(failure_stresses.reset_index().to_latex(index=False))\n",
    "failure_stresses"
   ]
  },
  {
   "cell_type": "markdown",
   "metadata": {},
   "source": [
    "# Choosing Hyperparameters\n",
    "\n",
    "We want a Gamma distribution such that the mean is 0.5 and $\\mathbb{P}\\left([0.05,1]\\right) = 0.95$."
   ]
  },
  {
   "cell_type": "code",
   "execution_count": 39,
   "metadata": {},
   "outputs": [
    {
     "name": "stdout",
     "output_type": "stream",
     "text": [
      "shape=3.634062529831774, rate=7.268125059663548\n"
     ]
    }
   ],
   "source": [
    "from scipy import optimize\n",
    "\n",
    "def get_gamma_hyperparameters(mean, lower=0.05, upper=1, p=0.95):\n",
    "    \"\"\"Fits a gamma distribution with P([lower,upper]) = p with specified mean.\n",
    "    \n",
    "    Args:\n",
    "      mean: Desired expectation of distribution.\n",
    "      lower: Lower bound of interval.\n",
    "      upper: Upper bound of interval.\n",
    "      p: The desired probability of the interval.\n",
    "      \n",
    "    Returns:\n",
    "      The shape and rate parameter of desired gamma distribution.\n",
    "    \"\"\"    \n",
    "    assert 0.05 < mean and mean < upper, 'The mean must between lower and upper.'\n",
    "    \n",
    "    def compute_probability(k):\n",
    "        return (stats.gamma.cdf(upper, mean*k, scale=1/k) -\n",
    "                stats.gamma.cdf(lower, mean*k, scale=1/k))\n",
    "    \n",
    "    scaling_factor = optimize.fsolve(\n",
    "        lambda k: compute_probability(k) - p, 1)[0]\n",
    "        \n",
    "    return mean*scaling_factor, scaling_factor\n",
    "\n",
    "PRIOR_SHAPE, PRIOR_RATE = get_gamma_hyperparameters(0.5)\n",
    "\n",
    "print('shape={}, rate={}'.format(PRIOR_SHAPE, PRIOR_RATE))"
   ]
  },
  {
   "cell_type": "code",
   "execution_count": 30,
   "metadata": {},
   "outputs": [
    {
     "data": {
      "text/plain": [
       "0.950000000003446"
      ]
     },
     "execution_count": 30,
     "metadata": {},
     "output_type": "execute_result"
    }
   ],
   "source": [
    "stats.gamma.cdf(1, 0.5*7.26812506, scale=1/7.26812506) - stats.gamma.cdf(0.05, 0.5*7.26812506, scale=1/7.26812506)"
   ]
  }
 ],
 "metadata": {
  "kernelspec": {
   "display_name": "Python 3",
   "language": "python",
   "name": "python3"
  },
  "language_info": {
   "codemirror_mode": {
    "name": "ipython",
    "version": 3
   },
   "file_extension": ".py",
   "mimetype": "text/x-python",
   "name": "python",
   "nbconvert_exporter": "python",
   "pygments_lexer": "ipython3",
   "version": "3.5.2"
  }
 },
 "nbformat": 4,
 "nbformat_minor": 2
}
