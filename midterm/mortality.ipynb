{
 "cells": [
  {
   "cell_type": "code",
   "execution_count": 1,
   "metadata": {},
   "outputs": [],
   "source": [
    "import collections\n",
    "\n",
    "import numpy as np\n",
    "import pandas as pd\n",
    "from scipy import linalg\n",
    "from scipy import stats\n",
    "\n",
    "from stat570.linear_model import linear_regression\n",
    "\n",
    "np.set_printoptions(suppress=True)"
   ]
  },
  {
   "cell_type": "code",
   "execution_count": 2,
   "metadata": {},
   "outputs": [
    {
     "data": {
      "text/html": [
       "<div>\n",
       "<style scoped>\n",
       "    .dataframe tbody tr th:only-of-type {\n",
       "        vertical-align: middle;\n",
       "    }\n",
       "\n",
       "    .dataframe tbody tr th {\n",
       "        vertical-align: top;\n",
       "    }\n",
       "\n",
       "    .dataframe thead th {\n",
       "        text-align: right;\n",
       "    }\n",
       "</style>\n",
       "<table border=\"1\" class=\"dataframe\">\n",
       "  <thead>\n",
       "    <tr style=\"text-align: right;\">\n",
       "      <th></th>\n",
       "      <th>log.s1</th>\n",
       "      <th>log.s3</th>\n",
       "    </tr>\n",
       "  </thead>\n",
       "  <tbody>\n",
       "    <tr>\n",
       "      <th>1</th>\n",
       "      <td>-0.027825</td>\n",
       "      <td>-0.042655</td>\n",
       "    </tr>\n",
       "    <tr>\n",
       "      <th>2</th>\n",
       "      <td>-0.019877</td>\n",
       "      <td>-0.031257</td>\n",
       "    </tr>\n",
       "    <tr>\n",
       "      <th>3</th>\n",
       "      <td>-0.067820</td>\n",
       "      <td>-0.091980</td>\n",
       "    </tr>\n",
       "    <tr>\n",
       "      <th>4</th>\n",
       "      <td>-0.119681</td>\n",
       "      <td>-0.159399</td>\n",
       "    </tr>\n",
       "    <tr>\n",
       "      <th>5</th>\n",
       "      <td>-0.028417</td>\n",
       "      <td>-0.037638</td>\n",
       "    </tr>\n",
       "  </tbody>\n",
       "</table>\n",
       "</div>"
      ],
      "text/plain": [
       "     log.s1    log.s3\n",
       "1 -0.027825 -0.042655\n",
       "2 -0.019877 -0.031257\n",
       "3 -0.067820 -0.091980\n",
       "4 -0.119681 -0.159399\n",
       "5 -0.028417 -0.037638"
      ]
     },
     "execution_count": 2,
     "metadata": {},
     "output_type": "execute_result"
    }
   ],
   "source": [
    "mortality_data = pd.read_csv('mortality.txt')\n",
    "mortality_data.head()"
   ]
  },
  {
   "cell_type": "code",
   "execution_count": 3,
   "metadata": {},
   "outputs": [
    {
     "data": {
      "text/html": [
       "<div>\n",
       "<style scoped>\n",
       "    .dataframe tbody tr th:only-of-type {\n",
       "        vertical-align: middle;\n",
       "    }\n",
       "\n",
       "    .dataframe tbody tr th {\n",
       "        vertical-align: top;\n",
       "    }\n",
       "\n",
       "    .dataframe thead th {\n",
       "        text-align: right;\n",
       "    }\n",
       "</style>\n",
       "<table border=\"1\" class=\"dataframe\">\n",
       "  <thead>\n",
       "    <tr style=\"text-align: right;\">\n",
       "      <th></th>\n",
       "      <th>estimate</th>\n",
       "      <th>std_error</th>\n",
       "      <th>t-statistic</th>\n",
       "      <th>p-value</th>\n",
       "    </tr>\n",
       "  </thead>\n",
       "  <tbody>\n",
       "    <tr>\n",
       "      <th>$\\hat{\\beta}_0$</th>\n",
       "      <td>-0.002178</td>\n",
       "      <td>0.002584</td>\n",
       "      <td>-0.842783</td>\n",
       "      <td>4.038069e-01</td>\n",
       "    </tr>\n",
       "    <tr>\n",
       "      <th>$\\hat{\\beta}_1$</th>\n",
       "      <td>0.686650</td>\n",
       "      <td>0.030340</td>\n",
       "      <td>22.631990</td>\n",
       "      <td>3.179129e-26</td>\n",
       "    </tr>\n",
       "  </tbody>\n",
       "</table>\n",
       "</div>"
      ],
      "text/plain": [
       "                 estimate  std_error  t-statistic       p-value\n",
       "$\\hat{\\beta}_0$ -0.002178   0.002584    -0.842783  4.038069e-01\n",
       "$\\hat{\\beta}_1$  0.686650   0.030340    22.631990  3.179129e-26"
      ]
     },
     "execution_count": 3,
     "metadata": {},
     "output_type": "execute_result"
    }
   ],
   "source": [
    "estimates = linear_regression.LinearRegression.from_data_frame(mortality_data,['log.s3'], 'log.s1').coefficients_\n",
    "estimates.index = ['$\\\\hat{\\\\beta}_0$', '$\\\\hat{\\\\beta}_1$']\n",
    "with open('p2_estimates.tex', 'w') as f:\n",
    "    f.write(estimates.to_latex(escape=False).replace('std_error', 'standard error'))\n",
    "estimates"
   ]
  },
  {
   "cell_type": "code",
   "execution_count": 4,
   "metadata": {},
   "outputs": [
    {
     "data": {
      "text/plain": [
       "7.627211333009732e-05"
      ]
     },
     "execution_count": 4,
     "metadata": {},
     "output_type": "execute_result"
    }
   ],
   "source": [
    "covariance = np.cov(mortality_data, rowvar=False, ddof=1)\n",
    "residual_variance = (covariance[0,0]*covariance[1,1] - covariance[0,1]**2)/covariance[1,1]\n",
    "residual_variance"
   ]
  },
  {
   "cell_type": "code",
   "execution_count": 5,
   "metadata": {},
   "outputs": [],
   "source": [
    "def compute_prediction_variance(x):    \n",
    "    X = np.column_stack((np.ones_like(mortality_data['log.s3']), mortality_data['log.s3']))\n",
    "    gram_matrix = X.T.dot(X)\n",
    "    inverted_gram_matrix = linalg.cho_solve(\n",
    "        linalg.cho_factor(gram_matrix), np.eye(len(gram_matrix)))\n",
    "    return residual_variance*(1. + 1./len(mortality_data) +\n",
    "                              inverted_gram_matrix[1,1]*(x - np.mean(mortality_data['log.s3']))**2)"
   ]
  },
  {
   "cell_type": "code",
   "execution_count": 6,
   "metadata": {},
   "outputs": [],
   "source": [
    "x0 = np.log(0.95)\n",
    "y0_hat = estimates['estimate'][0] + x0*estimates['estimate'][1]\n",
    "y0_hat_ci_lower_bound = y0_hat + np.sqrt(compute_prediction_variance(x0))*stats.norm.ppf(0.025)\n",
    "y0_hat_ci_upper_bound = y0_hat + np.sqrt(compute_prediction_variance(x0))*stats.norm.ppf(0.975)"
   ]
  },
  {
   "cell_type": "code",
   "execution_count": 7,
   "metadata": {},
   "outputs": [
    {
     "data": {
      "text/html": [
       "<div>\n",
       "<style scoped>\n",
       "    .dataframe tbody tr th:only-of-type {\n",
       "        vertical-align: middle;\n",
       "    }\n",
       "\n",
       "    .dataframe tbody tr th {\n",
       "        vertical-align: top;\n",
       "    }\n",
       "\n",
       "    .dataframe thead th {\n",
       "        text-align: right;\n",
       "    }\n",
       "</style>\n",
       "<table border=\"1\" class=\"dataframe\">\n",
       "  <thead>\n",
       "    <tr style=\"text-align: right;\">\n",
       "      <th></th>\n",
       "      <th>Estimate</th>\n",
       "      <th>95% CI lower bound</th>\n",
       "      <th>95% CI upper bound</th>\n",
       "    </tr>\n",
       "  </thead>\n",
       "  <tbody>\n",
       "    <tr>\n",
       "      <th>Surviving the first year</th>\n",
       "      <td>0.963292</td>\n",
       "      <td>0.946724</td>\n",
       "      <td>0.980150</td>\n",
       "    </tr>\n",
       "    <tr>\n",
       "      <th>Death within the first year</th>\n",
       "      <td>0.036708</td>\n",
       "      <td>0.019850</td>\n",
       "      <td>0.053276</td>\n",
       "    </tr>\n",
       "    <tr>\n",
       "      <th>Death between ages 1 and 5, given survival until age 1</th>\n",
       "      <td>0.986201</td>\n",
       "      <td>0.969239</td>\n",
       "      <td>1.003460</td>\n",
       "    </tr>\n",
       "    <tr>\n",
       "      <th>Death between ages 1 and 5</th>\n",
       "      <td>0.013292</td>\n",
       "      <td>-0.003276</td>\n",
       "      <td>0.030150</td>\n",
       "    </tr>\n",
       "  </tbody>\n",
       "</table>\n",
       "</div>"
      ],
      "text/plain": [
       "                                                    Estimate  \\\n",
       "Surviving the first year                            0.963292   \n",
       "Death within the first year                         0.036708   \n",
       "Death between ages 1 and 5, given survival unti...  0.986201   \n",
       "Death between ages 1 and 5                          0.013292   \n",
       "\n",
       "                                                    95% CI lower bound  \\\n",
       "Surviving the first year                                      0.946724   \n",
       "Death within the first year                                   0.019850   \n",
       "Death between ages 1 and 5, given survival unti...            0.969239   \n",
       "Death between ages 1 and 5                                   -0.003276   \n",
       "\n",
       "                                                    95% CI upper bound  \n",
       "Surviving the first year                                      0.980150  \n",
       "Death within the first year                                   0.053276  \n",
       "Death between ages 1 and 5, given survival unti...            1.003460  \n",
       "Death between ages 1 and 5                                    0.030150  "
      ]
     },
     "execution_count": 7,
     "metadata": {},
     "output_type": "execute_result"
    }
   ],
   "source": [
    "paramters_of_interest = pd.DataFrame(collections.OrderedDict([\n",
    "    ('Estimate', [0, 0, 0, 0]),\n",
    "    ('95% CI lower bound', [0, 0, 0, 0]),\n",
    "    ('95% CI upper bound', [0, 0, 0, 0])\n",
    "]), index=[\n",
    "    'Surviving the first year',\n",
    "    'Death within the first year',\n",
    "    'Death between ages 1 and 5, given survival until age 1',\n",
    "    'Death between ages 1 and 5',\n",
    "])\n",
    "\n",
    "paramters_of_interest.loc['Surviving the first year'] = np.exp([\n",
    "    y0_hat, y0_hat_ci_lower_bound, y0_hat_ci_upper_bound,\n",
    "])\n",
    "\n",
    "paramters_of_interest.loc['Death within the first year'] = 1 - np.exp([\n",
    "    y0_hat, y0_hat_ci_upper_bound, y0_hat_ci_lower_bound,\n",
    "])\n",
    "\n",
    "paramters_of_interest.loc['Death between ages 1 and 5, given survival until age 1'] = np.exp(x0)/np.exp([\n",
    "    y0_hat, y0_hat_ci_upper_bound, y0_hat_ci_lower_bound,\n",
    "])\n",
    "\n",
    "paramters_of_interest.loc['Death between ages 1 and 5'] = np.exp([\n",
    "    y0_hat, y0_hat_ci_lower_bound, y0_hat_ci_upper_bound,\n",
    "]) - np.exp(x0)\n",
    "\n",
    "with open('p2_parameters_of_interest.tex', 'w') as f:\n",
    "    f.write(paramters_of_interest.to_latex())\n",
    "    \n",
    "paramters_of_interest"
   ]
  }
 ],
 "metadata": {
  "kernelspec": {
   "display_name": "Python 3",
   "language": "python",
   "name": "python3"
  },
  "language_info": {
   "codemirror_mode": {
    "name": "ipython",
    "version": 3
   },
   "file_extension": ".py",
   "mimetype": "text/x-python",
   "name": "python",
   "nbconvert_exporter": "python",
   "pygments_lexer": "ipython3",
   "version": "3.5.2"
  }
 },
 "nbformat": 4,
 "nbformat_minor": 2
}
