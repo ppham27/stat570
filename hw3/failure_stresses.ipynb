{
 "cells": [
  {
   "cell_type": "code",
   "execution_count": 1,
   "metadata": {},
   "outputs": [],
   "source": [
    "import matplotlib.pyplot as plt\n",
    "import numpy as np\n",
    "import pandas as pd\n",
    "from scipy import stats\n",
    "import statsmodels.api as sm\n",
    "\n",
    "failure_stresses = pd.DataFrame(\n",
    "    [\n",
    "        [2.247, 2.640, 2.842, 2.908, 3.099, 3.126, 3.245, 3.328, 3.355, 3.383, 3.572, 3.581, 3.681],\n",
    "        [1.901, 2.132, 2.203, 2.228, 2.257, 2.35, 2.361, 2.396, 2.397, 2.445, 2.454, 2.454, 2.474],\n",
    "        [1.312, 1.314, 1.479, 1.552, 1.700, 1.803, 1.861, 1.865, 1.944, 1.958, 1.966, 1.997, 2.006],\n",
    "        [1.339, 1.434, 1.549, 1.574, 1.589, 1.613, 1.746, 1.753, 1.764, 1.807, 1.812, 1.840, 1.852],\n",
    "    ],    \n",
    "    index=pd.Series([1, 10, 20, 50], name='Length (mm)'))"
   ]
  },
  {
   "cell_type": "code",
   "execution_count": 2,
   "metadata": {},
   "outputs": [
    {
     "data": {
      "text/html": [
       "<div>\n",
       "<style scoped>\n",
       "    .dataframe tbody tr th:only-of-type {\n",
       "        vertical-align: middle;\n",
       "    }\n",
       "\n",
       "    .dataframe tbody tr th {\n",
       "        vertical-align: top;\n",
       "    }\n",
       "\n",
       "    .dataframe thead th {\n",
       "        text-align: right;\n",
       "    }\n",
       "</style>\n",
       "<table border=\"1\" class=\"dataframe\">\n",
       "  <thead>\n",
       "    <tr style=\"text-align: right;\">\n",
       "      <th></th>\n",
       "      <th>0</th>\n",
       "      <th>1</th>\n",
       "      <th>2</th>\n",
       "      <th>3</th>\n",
       "      <th>4</th>\n",
       "      <th>5</th>\n",
       "      <th>6</th>\n",
       "      <th>7</th>\n",
       "      <th>8</th>\n",
       "      <th>9</th>\n",
       "      <th>10</th>\n",
       "      <th>11</th>\n",
       "      <th>12</th>\n",
       "    </tr>\n",
       "    <tr>\n",
       "      <th>Length (mm)</th>\n",
       "      <th></th>\n",
       "      <th></th>\n",
       "      <th></th>\n",
       "      <th></th>\n",
       "      <th></th>\n",
       "      <th></th>\n",
       "      <th></th>\n",
       "      <th></th>\n",
       "      <th></th>\n",
       "      <th></th>\n",
       "      <th></th>\n",
       "      <th></th>\n",
       "      <th></th>\n",
       "    </tr>\n",
       "  </thead>\n",
       "  <tbody>\n",
       "    <tr>\n",
       "      <th>1</th>\n",
       "      <td>2.247</td>\n",
       "      <td>2.640</td>\n",
       "      <td>2.842</td>\n",
       "      <td>2.908</td>\n",
       "      <td>3.099</td>\n",
       "      <td>3.126</td>\n",
       "      <td>3.245</td>\n",
       "      <td>3.328</td>\n",
       "      <td>3.355</td>\n",
       "      <td>3.383</td>\n",
       "      <td>3.572</td>\n",
       "      <td>3.581</td>\n",
       "      <td>3.681</td>\n",
       "    </tr>\n",
       "    <tr>\n",
       "      <th>10</th>\n",
       "      <td>1.901</td>\n",
       "      <td>2.132</td>\n",
       "      <td>2.203</td>\n",
       "      <td>2.228</td>\n",
       "      <td>2.257</td>\n",
       "      <td>2.350</td>\n",
       "      <td>2.361</td>\n",
       "      <td>2.396</td>\n",
       "      <td>2.397</td>\n",
       "      <td>2.445</td>\n",
       "      <td>2.454</td>\n",
       "      <td>2.454</td>\n",
       "      <td>2.474</td>\n",
       "    </tr>\n",
       "    <tr>\n",
       "      <th>20</th>\n",
       "      <td>1.312</td>\n",
       "      <td>1.314</td>\n",
       "      <td>1.479</td>\n",
       "      <td>1.552</td>\n",
       "      <td>1.700</td>\n",
       "      <td>1.803</td>\n",
       "      <td>1.861</td>\n",
       "      <td>1.865</td>\n",
       "      <td>1.944</td>\n",
       "      <td>1.958</td>\n",
       "      <td>1.966</td>\n",
       "      <td>1.997</td>\n",
       "      <td>2.006</td>\n",
       "    </tr>\n",
       "    <tr>\n",
       "      <th>50</th>\n",
       "      <td>1.339</td>\n",
       "      <td>1.434</td>\n",
       "      <td>1.549</td>\n",
       "      <td>1.574</td>\n",
       "      <td>1.589</td>\n",
       "      <td>1.613</td>\n",
       "      <td>1.746</td>\n",
       "      <td>1.753</td>\n",
       "      <td>1.764</td>\n",
       "      <td>1.807</td>\n",
       "      <td>1.812</td>\n",
       "      <td>1.840</td>\n",
       "      <td>1.852</td>\n",
       "    </tr>\n",
       "  </tbody>\n",
       "</table>\n",
       "</div>"
      ],
      "text/plain": [
       "                0      1      2      3      4      5      6      7      8   \\\n",
       "Length (mm)                                                                  \n",
       "1            2.247  2.640  2.842  2.908  3.099  3.126  3.245  3.328  3.355   \n",
       "10           1.901  2.132  2.203  2.228  2.257  2.350  2.361  2.396  2.397   \n",
       "20           1.312  1.314  1.479  1.552  1.700  1.803  1.861  1.865  1.944   \n",
       "50           1.339  1.434  1.549  1.574  1.589  1.613  1.746  1.753  1.764   \n",
       "\n",
       "                9      10     11     12  \n",
       "Length (mm)                              \n",
       "1            3.383  3.572  3.581  3.681  \n",
       "10           2.445  2.454  2.454  2.474  \n",
       "20           1.958  1.966  1.997  2.006  \n",
       "50           1.807  1.812  1.840  1.852  "
      ]
     },
     "execution_count": 2,
     "metadata": {},
     "output_type": "execute_result"
    }
   ],
   "source": [
    "with open('p2_data.tex', 'w') as f:\n",
    "    f.write(failure_stresses.reset_index().to_latex(index=False))\n",
    "failure_stresses"
   ]
  },
  {
   "cell_type": "code",
   "execution_count": 281,
   "metadata": {},
   "outputs": [
    {
     "data": {
      "text/plain": [
       "array([10.33405746,  3.31898401])"
      ]
     },
     "execution_count": 281,
     "metadata": {},
     "output_type": "execute_result"
    }
   ],
   "source": [
    "from scipy import optimize\n",
    "\n",
    "def fit_exponential_model(y):\n",
    "    lambda_hat = 1/np.mean(y)\n",
    "    return lambda_hat, np.square(lambda_hat)/len(y)\n",
    "\n",
    "def fit_quasi_likelihood_model(y):\n",
    "    lambda_hat, lambda_hat_variance = fit_exponential_model(y)    \n",
    "    alpha_hat = np.square(lambda_hat)*np.sum(np.square(y - 1/lambda_hat))/(len(y) - 1)    \n",
    "    return lambda_hat, lambda_hat_variance*alpha_hat, alpha_hat\n",
    "\n",
    "def fit_sandwich_model(y):\n",
    "    lambda_hat, _ = fit_exponential_model(y)\n",
    "    return lambda_hat, np.power(lambda_hat, 4)*np.mean(np.square(y - 1/lambda_hat))/len(y)\n",
    "\n",
    "def fit_weibull_model(y):\n",
    "    def score(params):\n",
    "        eta = params[0]\n",
    "        alpha = params[1]\n",
    "        n = len(y)\n",
    "        fixed = n*np.array([\n",
    "            1/eta - np.log(alpha),\n",
    "            -eta/alpha,\n",
    "        ])\n",
    "        summed = np.sum(np.array([\n",
    "            np.log(y)-(np.log(y) - np.log(alpha))*np.power(y/alpha, eta),\n",
    "            (eta/alpha)*np.power(y/alpha, eta)\n",
    "        ]).transpose((1,0)), axis=0)\n",
    "        \n",
    "        return fixed + summed    \n",
    "    params = optimize.root(score, np.array([10,3]))['x']\n",
    "    return params\n",
    "fit_weibull_model(failure_stresses.loc[1])"
   ]
  },
  {
   "cell_type": "code",
   "execution_count": 280,
   "metadata": {},
   "outputs": [
    {
     "data": {
      "text/plain": [
       "3.161869915297437"
      ]
     },
     "execution_count": 280,
     "metadata": {},
     "output_type": "execute_result"
    }
   ],
   "source": [
    "3.31898401*special.gamma(1 + 1/10.33405746)"
   ]
  },
  {
   "cell_type": "code",
   "execution_count": 270,
   "metadata": {},
   "outputs": [
    {
     "data": {
      "text/plain": [
       "0.3166131070214928"
      ]
     },
     "execution_count": 270,
     "metadata": {},
     "output_type": "execute_result"
    }
   ],
   "source": [
    "1/3.15842894"
   ]
  },
  {
   "cell_type": "code",
   "execution_count": 267,
   "metadata": {},
   "outputs": [
    {
     "data": {
      "text/plain": [
       "(10.33408746584655, 0, 3.318985239408275)"
      ]
     },
     "execution_count": 267,
     "metadata": {},
     "output_type": "execute_result"
    }
   ],
   "source": [
    "stats.weibull_min.fit(failure_stresses.loc[1], floc=0)"
   ]
  },
  {
   "cell_type": "code",
   "execution_count": 268,
   "metadata": {},
   "outputs": [
    {
     "data": {
      "text/plain": [
       "0.3012969109131335"
      ]
     },
     "execution_count": 268,
     "metadata": {},
     "output_type": "execute_result"
    }
   ],
   "source": [
    "1/3.318985239408275"
   ]
  },
  {
   "cell_type": "markdown",
   "metadata": {},
   "source": [
    "## Exponential Model"
   ]
  },
  {
   "cell_type": "code",
   "execution_count": 223,
   "metadata": {},
   "outputs": [
    {
     "data": {
      "text/html": [
       "<div>\n",
       "<style scoped>\n",
       "    .dataframe tbody tr th:only-of-type {\n",
       "        vertical-align: middle;\n",
       "    }\n",
       "\n",
       "    .dataframe tbody tr th {\n",
       "        vertical-align: top;\n",
       "    }\n",
       "\n",
       "    .dataframe thead th {\n",
       "        text-align: right;\n",
       "    }\n",
       "</style>\n",
       "<table border=\"1\" class=\"dataframe\">\n",
       "  <thead>\n",
       "    <tr style=\"text-align: right;\">\n",
       "      <th></th>\n",
       "      <th>$\\hat{\\lambda}$</th>\n",
       "      <th>Standard error</th>\n",
       "    </tr>\n",
       "    <tr>\n",
       "      <th>Length (mm)</th>\n",
       "      <th></th>\n",
       "      <th></th>\n",
       "    </tr>\n",
       "  </thead>\n",
       "  <tbody>\n",
       "    <tr>\n",
       "      <th>1</th>\n",
       "      <td>0.317019</td>\n",
       "      <td>0.087925</td>\n",
       "    </tr>\n",
       "    <tr>\n",
       "      <th>10</th>\n",
       "      <td>0.432584</td>\n",
       "      <td>0.119977</td>\n",
       "    </tr>\n",
       "    <tr>\n",
       "      <th>20</th>\n",
       "      <td>0.571253</td>\n",
       "      <td>0.158437</td>\n",
       "    </tr>\n",
       "    <tr>\n",
       "      <th>50</th>\n",
       "      <td>0.599852</td>\n",
       "      <td>0.166369</td>\n",
       "    </tr>\n",
       "  </tbody>\n",
       "</table>\n",
       "</div>"
      ],
      "text/plain": [
       "             $\\hat{\\lambda}$  Standard error\n",
       "Length (mm)                                 \n",
       "1                   0.317019        0.087925\n",
       "10                  0.432584        0.119977\n",
       "20                  0.571253        0.158437\n",
       "50                  0.599852        0.166369"
      ]
     },
     "execution_count": 223,
     "metadata": {},
     "output_type": "execute_result"
    }
   ],
   "source": [
    "def exponential_model_as_dict(fit, y):\n",
    "    lambda_hat, lambda_hat_variance = fit(y)\n",
    "    return {\n",
    "        '$\\\\hat{\\\\lambda}$': lambda_hat,\n",
    "        'Standard error': np.sqrt(lambda_hat_variance),\n",
    "    }\n",
    "\n",
    "failure_stresses_exponential_estimates = failure_stresses.apply(\n",
    "    lambda y: exponential_model_as_dict(fit_exponential_model, y), axis=1, result_type='expand')\n",
    "\n",
    "with open('p2_exponential_estimates.tex', 'w') as f:\n",
    "    f.write(failure_stresses_exponential_estimates.reset_index().to_latex(\n",
    "        index=False, escape=False))\n",
    "    \n",
    "failure_stresses_exponential_estimates"
   ]
  },
  {
   "cell_type": "markdown",
   "metadata": {},
   "source": [
    "## Quasi-likelihood Model"
   ]
  },
  {
   "cell_type": "code",
   "execution_count": 224,
   "metadata": {},
   "outputs": [
    {
     "data": {
      "text/html": [
       "<div>\n",
       "<style scoped>\n",
       "    .dataframe tbody tr th:only-of-type {\n",
       "        vertical-align: middle;\n",
       "    }\n",
       "\n",
       "    .dataframe tbody tr th {\n",
       "        vertical-align: top;\n",
       "    }\n",
       "\n",
       "    .dataframe thead th {\n",
       "        text-align: right;\n",
       "    }\n",
       "</style>\n",
       "<table border=\"1\" class=\"dataframe\">\n",
       "  <thead>\n",
       "    <tr style=\"text-align: right;\">\n",
       "      <th></th>\n",
       "      <th>$\\hat{\\lambda}$</th>\n",
       "      <th>$\\hat{\\alpha}$</th>\n",
       "      <th>Standard error</th>\n",
       "    </tr>\n",
       "    <tr>\n",
       "      <th>Length (mm)</th>\n",
       "      <th></th>\n",
       "      <th></th>\n",
       "      <th></th>\n",
       "    </tr>\n",
       "  </thead>\n",
       "  <tbody>\n",
       "    <tr>\n",
       "      <th>1</th>\n",
       "      <td>0.317019</td>\n",
       "      <td>0.016873</td>\n",
       "      <td>0.011421</td>\n",
       "    </tr>\n",
       "    <tr>\n",
       "      <th>10</th>\n",
       "      <td>0.432584</td>\n",
       "      <td>0.005078</td>\n",
       "      <td>0.008550</td>\n",
       "    </tr>\n",
       "    <tr>\n",
       "      <th>20</th>\n",
       "      <td>0.571253</td>\n",
       "      <td>0.021199</td>\n",
       "      <td>0.023068</td>\n",
       "    </tr>\n",
       "    <tr>\n",
       "      <th>50</th>\n",
       "      <td>0.599852</td>\n",
       "      <td>0.009633</td>\n",
       "      <td>0.016329</td>\n",
       "    </tr>\n",
       "  </tbody>\n",
       "</table>\n",
       "</div>"
      ],
      "text/plain": [
       "             $\\hat{\\lambda}$  $\\hat{\\alpha}$  Standard error\n",
       "Length (mm)                                                 \n",
       "1                   0.317019        0.016873        0.011421\n",
       "10                  0.432584        0.005078        0.008550\n",
       "20                  0.571253        0.021199        0.023068\n",
       "50                  0.599852        0.009633        0.016329"
      ]
     },
     "execution_count": 224,
     "metadata": {},
     "output_type": "execute_result"
    }
   ],
   "source": [
    "from collections import OrderedDict\n",
    "\n",
    "def quasi_likelihood_model_as_dict(fit, y):\n",
    "    lambda_hat, lambda_hat_variance, alpha_hat = fit(y)\n",
    "    return OrderedDict([\n",
    "        ('$\\\\hat{\\\\lambda}$', lambda_hat),\n",
    "        ('$\\\\hat{\\\\alpha}$', alpha_hat),\n",
    "        ('Standard error', np.sqrt(lambda_hat_variance)),\n",
    "    ])\n",
    "\n",
    "failure_stresses_quasi_likelihood_estimates = failure_stresses.apply(\n",
    "    lambda y: quasi_likelihood_model_as_dict(fit_quasi_likelihood_model, y), axis=1, result_type='expand')\n",
    "failure_stresses_quasi_likelihood_estimates = failure_stresses_quasi_likelihood_estimates[\n",
    "    failure_stresses_quasi_likelihood_estimates.columns[[1,0,2]]]\n",
    "\n",
    "with open('p2_quasi_likelihood_estimates.tex', 'w') as f:\n",
    "    f.write(failure_stresses_quasi_likelihood_estimates.reset_index().to_latex(\n",
    "        index=False, escape=False))\n",
    "\n",
    "failure_stresses_quasi_likelihood_estimates"
   ]
  },
  {
   "cell_type": "markdown",
   "metadata": {},
   "source": [
    "## Sandwich Estimation"
   ]
  },
  {
   "cell_type": "code",
   "execution_count": 225,
   "metadata": {},
   "outputs": [
    {
     "data": {
      "text/html": [
       "<div>\n",
       "<style scoped>\n",
       "    .dataframe tbody tr th:only-of-type {\n",
       "        vertical-align: middle;\n",
       "    }\n",
       "\n",
       "    .dataframe tbody tr th {\n",
       "        vertical-align: top;\n",
       "    }\n",
       "\n",
       "    .dataframe thead th {\n",
       "        text-align: right;\n",
       "    }\n",
       "</style>\n",
       "<table border=\"1\" class=\"dataframe\">\n",
       "  <thead>\n",
       "    <tr style=\"text-align: right;\">\n",
       "      <th></th>\n",
       "      <th>$\\hat{\\lambda}$</th>\n",
       "      <th>Standard error</th>\n",
       "    </tr>\n",
       "    <tr>\n",
       "      <th>Length (mm)</th>\n",
       "      <th></th>\n",
       "      <th></th>\n",
       "    </tr>\n",
       "  </thead>\n",
       "  <tbody>\n",
       "    <tr>\n",
       "      <th>1</th>\n",
       "      <td>0.317019</td>\n",
       "      <td>0.010973</td>\n",
       "    </tr>\n",
       "    <tr>\n",
       "      <th>10</th>\n",
       "      <td>0.432584</td>\n",
       "      <td>0.008215</td>\n",
       "    </tr>\n",
       "    <tr>\n",
       "      <th>20</th>\n",
       "      <td>0.571253</td>\n",
       "      <td>0.022163</td>\n",
       "    </tr>\n",
       "    <tr>\n",
       "      <th>50</th>\n",
       "      <td>0.599852</td>\n",
       "      <td>0.015688</td>\n",
       "    </tr>\n",
       "  </tbody>\n",
       "</table>\n",
       "</div>"
      ],
      "text/plain": [
       "             $\\hat{\\lambda}$  Standard error\n",
       "Length (mm)                                 \n",
       "1                   0.317019        0.010973\n",
       "10                  0.432584        0.008215\n",
       "20                  0.571253        0.022163\n",
       "50                  0.599852        0.015688"
      ]
     },
     "execution_count": 225,
     "metadata": {},
     "output_type": "execute_result"
    }
   ],
   "source": [
    "failure_stresses_sandwich_estimates = failure_stresses.apply(\n",
    "    lambda y: exponential_model_as_dict(fit_sandwich_model, y), axis=1, result_type='expand')\n",
    "\n",
    "with open('p2_sandwich_estimates.tex', 'w') as f:\n",
    "    f.write(failure_stresses_sandwich_estimates.reset_index().to_latex(\n",
    "        index=False, escape=False))\n",
    "\n",
    "failure_stresses_sandwich_estimates"
   ]
  },
  {
   "cell_type": "code",
   "execution_count": 210,
   "metadata": {},
   "outputs": [],
   "source": [
    "def plot_estimate_quantiles(axes, plot_fn, estimates):\n",
    "    for i, (length, estimate) in enumerate(estimates.iterrows()):\n",
    "        ax = axes[i//2][i % 2]\n",
    "        plot_fn(ax, length, estimate)       \n",
    "        ax.set_title('Length = {}mm'.format(length))\n",
    "        ax.grid(True)\n",
    "        ax.set_aspect('equal', adjustable='datalim')    \n",
    "        min_datalim = np.min([ax.get_xlim(), ax.get_ylim()])\n",
    "        max_datalim = np.max([ax.get_xlim(), ax.get_ylim()])\n",
    "        ax.plot([min_datalim, max_datalim], [min_datalim, max_datalim], '--k')        "
   ]
  },
  {
   "cell_type": "code",
   "execution_count": 211,
   "metadata": {},
   "outputs": [
    {
     "data": {
      "image/png": "[encoded data removed]",
      "text/plain": [
       "<Figure size 432x360 with 4 Axes>"
      ]
     },
     "metadata": {
      "needs_background": "light"
     },
     "output_type": "display_data"
    }
   ],
   "source": [
    "fig, axes = plt.subplots(figsize=(6,5), ncols=2, nrows=2)\n",
    "\n",
    "def plot_exponential_model_quantiles(ax, length, estimate):\n",
    "    lambda_hat = estimate[0]\n",
    "    sm.qqplot(failure_stresses.loc[length], dist=stats.expon, loc=0, scale=1/lambda_hat, ax=ax)\n",
    "    \n",
    "plot_estimate_quantiles(axes, plot_exponential_model_quantiles, failure_stresses_exponential_estimates)\n",
    "\n",
    "fig.suptitle('Q-Q Plots for an Exponential Model')\n",
    "fig.tight_layout()\n",
    "fig.subplots_adjust(top=0.875)\n",
    "fig.savefig('p2_qq_exponential.pdf', bbox_inches='tight')"
   ]
  },
  {
   "cell_type": "code",
   "execution_count": 209,
   "metadata": {},
   "outputs": [
    {
     "data": {
      "image/png": "[encoded data removed]",
      "text/plain": [
       "<Figure size 432x360 with 4 Axes>"
      ]
     },
     "metadata": {
      "needs_background": "light"
     },
     "output_type": "display_data"
    }
   ],
   "source": [
    "fig, axes = plt.subplots(figsize=(6,5), ncols=2, nrows=2)\n",
    "\n",
    "def plot_quasi_likelihood_quantiles(ax, length, estimate):\n",
    "    lambda_hat = estimate[0]\n",
    "    alpha_hat = estimate[1]\n",
    "    sm.qqplot(failure_stresses.loc[length], dist=stats.gamma,\n",
    "              distargs=(1/alpha_hat,),\n",
    "              loc=0, scale=alpha_hat/lambda_hat, ax=ax)\n",
    "\n",
    "plot_estimate_quantiles(axes, plot_quasi_likelihood_quantiles,\n",
    "                        failure_stresses_quasi_likelihood_estimates)\n",
    "\n",
    "fig.suptitle('Q-Q Plots for an Quasi-likelihood Model')\n",
    "fig.tight_layout()\n",
    "fig.subplots_adjust(top=0.875)\n",
    "fig.savefig('p2_qq_quasi_likelihood.pdf', bbox_inches='tight')"
   ]
  },
  {
   "cell_type": "code",
   "execution_count": 145,
   "metadata": {},
   "outputs": [
    {
     "data": {
      "image/png": "[encoded data removed]",
      "text/plain": [
       "<Figure size 432x288 with 1 Axes>"
      ]
     },
     "metadata": {
      "needs_background": "light"
     },
     "output_type": "display_data"
    }
   ],
   "source": [
    "x = failure_stresses.loc[1]\n",
    "#x = stats.expon.rvs(scale=1/0.317019, size=1000)\n",
    "#x = stats.gamma.rvs(1/0.8933964103452493, scale=1/0.317019, size=1000)\n",
    "theoretical_quantiles = stats.gamma.ppf(np.linspace(start=0.5, stop=len(x) - 0.5, num=len(x))/len(x),\n",
    "                                        1/0.8933964103452493, scale=0.8933964103452493/0.317019)\n",
    "plt.plot(theoretical_quantiles, np.sort(x), 'o');\n",
    "#plt.set_aspect('equal', adjustable='datalim')\n",
    "#plt.plot([0, 20], [0, 20], 'k--');"
   ]
  },
  {
   "cell_type": "code",
   "execution_count": 259,
   "metadata": {},
   "outputs": [
    {
     "data": {
      "text/plain": [
       "(10.33408746584655, 0, 3.318985239408275)"
      ]
     },
     "execution_count": 259,
     "metadata": {},
     "output_type": "execute_result"
    }
   ],
   "source": [
    "stats.weibull_min.fit(failure_stresses.loc[1], floc=0)"
   ]
  },
  {
   "cell_type": "code",
   "execution_count": 237,
   "metadata": {},
   "outputs": [
    {
     "data": {
      "text/plain": [
       "3.161871467095595"
      ]
     },
     "execution_count": 237,
     "metadata": {},
     "output_type": "execute_result"
    }
   ],
   "source": [
    "from scipy import special\n",
    "\n",
    "3.318985239408275*special.gamma(1 + 1/10.33408746584655)"
   ]
  },
  {
   "cell_type": "code",
   "execution_count": 235,
   "metadata": {},
   "outputs": [
    {
     "data": {
      "text/plain": [
       "2.311689752741664"
      ]
     },
     "execution_count": 235,
     "metadata": {},
     "output_type": "execute_result"
    }
   ],
   "source": [
    "1/0.432584"
   ]
  },
  {
   "cell_type": "code",
   "execution_count": 177,
   "metadata": {},
   "outputs": [
    {
     "data": {
      "text/plain": [
       "59.26545784515079"
      ]
     },
     "execution_count": 177,
     "metadata": {},
     "output_type": "execute_result"
    }
   ],
   "source": [
    "1/0.01687323504043126"
   ]
  },
  {
   "cell_type": "code",
   "execution_count": 148,
   "metadata": {},
   "outputs": [
    {
     "data": {
      "text/plain": [
       "1.1193239511826045"
      ]
     },
     "execution_count": 148,
     "metadata": {},
     "output_type": "execute_result"
    }
   ],
   "source": [
    "1/0.8933964103452493"
   ]
  },
  {
   "cell_type": "code",
   "execution_count": 167,
   "metadata": {},
   "outputs": [
    {
     "data": {
      "text/plain": [
       "0.016873230193941668"
      ]
     },
     "execution_count": 167,
     "metadata": {},
     "output_type": "execute_result"
    }
   ],
   "source": [
    "#tmp = np.concatenate(\n",
    "#    (failure_stresses.loc[1],\n",
    "#     failure_stresses.loc[1])) - 1/0.317019\n",
    "tmp = failure_stresses.loc[1] - 1/0.317019\n",
    "\n",
    "np.square(0.317019)*np.sum(np.square(tmp))/(len(tmp) - 1)"
   ]
  },
  {
   "cell_type": "code",
   "execution_count": 124,
   "metadata": {},
   "outputs": [
    {
     "data": {
      "text/plain": [
       "3.502560254404734"
      ]
     },
     "execution_count": 124,
     "metadata": {},
     "output_type": "execute_result"
    }
   ],
   "source": [
    "np.mean(stats.gamma.rvs(1/0.8933964103452493, scale=1/0.317019, size=1000))"
   ]
  },
  {
   "cell_type": "code",
   "execution_count": 121,
   "metadata": {},
   "outputs": [
    {
     "data": {
      "text/plain": [
       "array([ 0.12371723,  0.38673493,  0.67369495,  0.98939672,  1.3402452 ,\n",
       "        1.73505795,  2.18645312,  2.71340603,  3.34639867,  4.13914115,\n",
       "        5.20050415,  6.81184487, 10.27729107])"
      ]
     },
     "execution_count": 121,
     "metadata": {},
     "output_type": "execute_result"
    }
   ],
   "source": [
    "theoretical_quantiles"
   ]
  },
  {
   "cell_type": "code",
   "execution_count": 60,
   "metadata": {},
   "outputs": [
    {
     "data": {
      "text/plain": [
       "22.228730375471372"
      ]
     },
     "execution_count": 60,
     "metadata": {},
     "output_type": "execute_result"
    },
    {
     "data": {
      "image/png": "[encoded data removed]",
      "text/plain": [
       "<Figure size 432x288 with 1 Axes>"
      ]
     },
     "metadata": {
      "needs_background": "light"
     },
     "output_type": "display_data"
    }
   ],
   "source": [
    "fig = plt.figure()\n",
    "ax = fig.gca()\n",
    "sm.qqplot(x, dist=stats.expon, loc=0, scale=1/0.317019, ax=ax);\n",
    "ax.grid(True)\n",
    "ax.grid(True)\n",
    "ax.set_aspect('equal', adjustable='datalim')\n",
    "ax.plot([0, 20], [0, 20], 'k--');\n",
    "np.max([ax.get_xlim(), ax.get_ylim()])"
   ]
  },
  {
   "cell_type": "code",
   "execution_count": 16,
   "metadata": {},
   "outputs": [
    {
     "data": {
      "text/plain": [
       "(0.0003401704439788388, 3.2886255453876836)"
      ]
     },
     "execution_count": 16,
     "metadata": {},
     "output_type": "execute_result"
    }
   ],
   "source": [
    "stats.expon.fit(x)"
   ]
  },
  {
   "cell_type": "code",
   "execution_count": 87,
   "metadata": {},
   "outputs": [
    {
     "data": {
      "text/plain": [
       "3.1479472556089343"
      ]
     },
     "execution_count": 87,
     "metadata": {},
     "output_type": "execute_result"
    }
   ],
   "source": [
    "np.mean(stats.expon.rvs(scale=1/0.317019, size=100000))"
   ]
  },
  {
   "cell_type": "code",
   "execution_count": 74,
   "metadata": {},
   "outputs": [
    {
     "data": {
      "text/plain": [
       "3.1543846153846156"
      ]
     },
     "execution_count": 74,
     "metadata": {},
     "output_type": "execute_result"
    }
   ],
   "source": [
    "np.mean(failure_stresses.loc[1])"
   ]
  },
  {
   "cell_type": "code",
   "execution_count": 150,
   "metadata": {},
   "outputs": [
    {
     "data": {
      "text/plain": [
       "0.016948830482687596"
      ]
     },
     "execution_count": 150,
     "metadata": {},
     "output_type": "execute_result"
    }
   ],
   "source": [
    "1/59.0011211110673"
   ]
  }
 ],
 "metadata": {
  "kernelspec": {
   "display_name": "Python 3",
   "language": "python",
   "name": "python3"
  },
  "language_info": {
   "codemirror_mode": {
    "name": "ipython",
    "version": 3
   },
   "file_extension": ".py",
   "mimetype": "text/x-python",
   "name": "python",
   "nbconvert_exporter": "python",
   "pygments_lexer": "ipython3",
   "version": "3.5.2"
  }
 },
 "nbformat": 4,
 "nbformat_minor": 2
}
