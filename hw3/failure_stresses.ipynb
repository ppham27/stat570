{
 "cells": [
  {
   "cell_type": "code",
   "execution_count": 1,
   "metadata": {},
   "outputs": [],
   "source": [
    "import matplotlib.pyplot as plt\n",
    "import numpy as np\n",
    "import pandas as pd\n",
    "from scipy import stats\n",
    "import statsmodels.api as sm\n",
    "\n",
    "failure_stresses = pd.DataFrame(\n",
    "    [\n",
    "        [2.247, 2.640, 2.842, 2.908, 3.099, 3.126, 3.245, 3.328, 3.355, 3.383, 3.572, 3.581, 3.681],\n",
    "        [1.901, 2.132, 2.203, 2.228, 2.257, 2.35, 2.361, 2.396, 2.397, 2.445, 2.454, 2.454, 2.474],\n",
    "        [1.312, 1.314, 1.479, 1.552, 1.700, 1.803, 1.861, 1.865, 1.944, 1.958, 1.966, 1.997, 2.006],\n",
    "        [1.339, 1.434, 1.549, 1.574, 1.589, 1.613, 1.746, 1.753, 1.764, 1.807, 1.812, 1.840, 1.852],\n",
    "    ],    \n",
    "    index=pd.Series([1, 10, 20, 50], name='Length (mm)'))"
   ]
  },
  {
   "cell_type": "code",
   "execution_count": 2,
   "metadata": {},
   "outputs": [
    {
     "data": {
      "text/html": [
       "<div>\n",
       "<style scoped>\n",
       "    .dataframe tbody tr th:only-of-type {\n",
       "        vertical-align: middle;\n",
       "    }\n",
       "\n",
       "    .dataframe tbody tr th {\n",
       "        vertical-align: top;\n",
       "    }\n",
       "\n",
       "    .dataframe thead th {\n",
       "        text-align: right;\n",
       "    }\n",
       "</style>\n",
       "<table border=\"1\" class=\"dataframe\">\n",
       "  <thead>\n",
       "    <tr style=\"text-align: right;\">\n",
       "      <th></th>\n",
       "      <th>0</th>\n",
       "      <th>1</th>\n",
       "      <th>2</th>\n",
       "      <th>3</th>\n",
       "      <th>4</th>\n",
       "      <th>5</th>\n",
       "      <th>6</th>\n",
       "      <th>7</th>\n",
       "      <th>8</th>\n",
       "      <th>9</th>\n",
       "      <th>10</th>\n",
       "      <th>11</th>\n",
       "      <th>12</th>\n",
       "    </tr>\n",
       "    <tr>\n",
       "      <th>Length (mm)</th>\n",
       "      <th></th>\n",
       "      <th></th>\n",
       "      <th></th>\n",
       "      <th></th>\n",
       "      <th></th>\n",
       "      <th></th>\n",
       "      <th></th>\n",
       "      <th></th>\n",
       "      <th></th>\n",
       "      <th></th>\n",
       "      <th></th>\n",
       "      <th></th>\n",
       "      <th></th>\n",
       "    </tr>\n",
       "  </thead>\n",
       "  <tbody>\n",
       "    <tr>\n",
       "      <th>1</th>\n",
       "      <td>2.247</td>\n",
       "      <td>2.640</td>\n",
       "      <td>2.842</td>\n",
       "      <td>2.908</td>\n",
       "      <td>3.099</td>\n",
       "      <td>3.126</td>\n",
       "      <td>3.245</td>\n",
       "      <td>3.328</td>\n",
       "      <td>3.355</td>\n",
       "      <td>3.383</td>\n",
       "      <td>3.572</td>\n",
       "      <td>3.581</td>\n",
       "      <td>3.681</td>\n",
       "    </tr>\n",
       "    <tr>\n",
       "      <th>10</th>\n",
       "      <td>1.901</td>\n",
       "      <td>2.132</td>\n",
       "      <td>2.203</td>\n",
       "      <td>2.228</td>\n",
       "      <td>2.257</td>\n",
       "      <td>2.350</td>\n",
       "      <td>2.361</td>\n",
       "      <td>2.396</td>\n",
       "      <td>2.397</td>\n",
       "      <td>2.445</td>\n",
       "      <td>2.454</td>\n",
       "      <td>2.454</td>\n",
       "      <td>2.474</td>\n",
       "    </tr>\n",
       "    <tr>\n",
       "      <th>20</th>\n",
       "      <td>1.312</td>\n",
       "      <td>1.314</td>\n",
       "      <td>1.479</td>\n",
       "      <td>1.552</td>\n",
       "      <td>1.700</td>\n",
       "      <td>1.803</td>\n",
       "      <td>1.861</td>\n",
       "      <td>1.865</td>\n",
       "      <td>1.944</td>\n",
       "      <td>1.958</td>\n",
       "      <td>1.966</td>\n",
       "      <td>1.997</td>\n",
       "      <td>2.006</td>\n",
       "    </tr>\n",
       "    <tr>\n",
       "      <th>50</th>\n",
       "      <td>1.339</td>\n",
       "      <td>1.434</td>\n",
       "      <td>1.549</td>\n",
       "      <td>1.574</td>\n",
       "      <td>1.589</td>\n",
       "      <td>1.613</td>\n",
       "      <td>1.746</td>\n",
       "      <td>1.753</td>\n",
       "      <td>1.764</td>\n",
       "      <td>1.807</td>\n",
       "      <td>1.812</td>\n",
       "      <td>1.840</td>\n",
       "      <td>1.852</td>\n",
       "    </tr>\n",
       "  </tbody>\n",
       "</table>\n",
       "</div>"
      ],
      "text/plain": [
       "                0      1      2      3      4      5      6      7      8   \\\n",
       "Length (mm)                                                                  \n",
       "1            2.247  2.640  2.842  2.908  3.099  3.126  3.245  3.328  3.355   \n",
       "10           1.901  2.132  2.203  2.228  2.257  2.350  2.361  2.396  2.397   \n",
       "20           1.312  1.314  1.479  1.552  1.700  1.803  1.861  1.865  1.944   \n",
       "50           1.339  1.434  1.549  1.574  1.589  1.613  1.746  1.753  1.764   \n",
       "\n",
       "                9      10     11     12  \n",
       "Length (mm)                              \n",
       "1            3.383  3.572  3.581  3.681  \n",
       "10           2.445  2.454  2.454  2.474  \n",
       "20           1.958  1.966  1.997  2.006  \n",
       "50           1.807  1.812  1.840  1.852  "
      ]
     },
     "execution_count": 2,
     "metadata": {},
     "output_type": "execute_result"
    }
   ],
   "source": [
    "with open('p2_data.tex', 'w') as f:\n",
    "    f.write(failure_stresses.reset_index().to_latex(index=False))\n",
    "failure_stresses"
   ]
  },
  {
   "cell_type": "code",
   "execution_count": 3,
   "metadata": {},
   "outputs": [],
   "source": [
    "def fit_exponential_model(y):\n",
    "    lambda_hat = 1/np.mean(y)\n",
    "    return lambda_hat, np.square(lambda_hat/len(y))"
   ]
  },
  {
   "cell_type": "code",
   "execution_count": 4,
   "metadata": {},
   "outputs": [
    {
     "data": {
      "text/html": [
       "<div>\n",
       "<style scoped>\n",
       "    .dataframe tbody tr th:only-of-type {\n",
       "        vertical-align: middle;\n",
       "    }\n",
       "\n",
       "    .dataframe tbody tr th {\n",
       "        vertical-align: top;\n",
       "    }\n",
       "\n",
       "    .dataframe thead th {\n",
       "        text-align: right;\n",
       "    }\n",
       "</style>\n",
       "<table border=\"1\" class=\"dataframe\">\n",
       "  <thead>\n",
       "    <tr style=\"text-align: right;\">\n",
       "      <th></th>\n",
       "      <th>$\\hat{\\lambda}$</th>\n",
       "      <th>Standard error</th>\n",
       "    </tr>\n",
       "    <tr>\n",
       "      <th>Length (mm)</th>\n",
       "      <th></th>\n",
       "      <th></th>\n",
       "    </tr>\n",
       "  </thead>\n",
       "  <tbody>\n",
       "    <tr>\n",
       "      <th>1</th>\n",
       "      <td>0.317019</td>\n",
       "      <td>0.024386</td>\n",
       "    </tr>\n",
       "    <tr>\n",
       "      <th>10</th>\n",
       "      <td>0.432584</td>\n",
       "      <td>0.033276</td>\n",
       "    </tr>\n",
       "    <tr>\n",
       "      <th>20</th>\n",
       "      <td>0.571253</td>\n",
       "      <td>0.043943</td>\n",
       "    </tr>\n",
       "    <tr>\n",
       "      <th>50</th>\n",
       "      <td>0.599852</td>\n",
       "      <td>0.046142</td>\n",
       "    </tr>\n",
       "  </tbody>\n",
       "</table>\n",
       "</div>"
      ],
      "text/plain": [
       "             $\\hat{\\lambda}$  Standard error\n",
       "Length (mm)                                 \n",
       "1                   0.317019        0.024386\n",
       "10                  0.432584        0.033276\n",
       "20                  0.571253        0.043943\n",
       "50                  0.599852        0.046142"
      ]
     },
     "execution_count": 4,
     "metadata": {},
     "output_type": "execute_result"
    }
   ],
   "source": [
    "def fit_exponential_model_as_dict(y):\n",
    "    lambda_hat, lambda_hat_variance = fit_exponential_model(y)\n",
    "    return {\n",
    "        '$\\\\hat{\\\\lambda}$': lambda_hat,\n",
    "        'Standard error': np.sqrt(lambda_hat_variance),\n",
    "    }\n",
    "\n",
    "failure_stresses_exponential_estimates = failure_stresses.apply(\n",
    "    fit_exponential_model_as_dict, axis=1, result_type='expand')\n",
    "\n",
    "with open('p2_exponential_estimates.tex', 'w') as f:\n",
    "    f.write(failure_stresses_exponential_estimates.reset_index().to_latex(\n",
    "        index=False, escape=False))\n",
    "    \n",
    "failure_stresses_exponential_estimates"
   ]
  },
  {
   "cell_type": "code",
   "execution_count": 65,
   "metadata": {},
   "outputs": [
    {
     "data": {
      "image/png": "[encoded data removed]",
      "text/plain": [
       "<Figure size 432x360 with 4 Axes>"
      ]
     },
     "metadata": {
      "needs_background": "light"
     },
     "output_type": "display_data"
    }
   ],
   "source": [
    "fig, axes = plt.subplots(figsize=(6,5), ncols=2, nrows=2)\n",
    "\n",
    "for i, (length, estimate) in enumerate(failure_stresses_exponential_estimates.iterrows()):\n",
    "    ax = axes[i//2][i % 2]\n",
    "    lambda_hat = estimate[0]\n",
    "    sm.qqplot(failure_stresses.loc[length], dist=stats.expon, loc=0, scale=1/lambda_hat, ax=ax)\n",
    "    ax.set_title('Length = {}mm'.format(length))\n",
    "    ax.grid(True)\n",
    "    ax.set_aspect('equal', adjustable='datalim')\n",
    "    ax.plot([0, np.max(ax.get_xlim())], [0, np.max(ax.get_xlim())], '--k')\n",
    "\n",
    "fig.suptitle('Q-Q Plots for an Exponential Model')\n",
    "fig.tight_layout()\n",
    "fig.subplots_adjust(top=0.875)\n",
    "#sm.qqplot(failure_stresses.loc[10], fit=stats.expon);"
   ]
  },
  {
   "cell_type": "code",
   "execution_count": 21,
   "metadata": {},
   "outputs": [
    {
     "data": {
      "image/png": "[encoded data removed]",
      "text/plain": [
       "<Figure size 432x288 with 1 Axes>"
      ]
     },
     "metadata": {
      "needs_background": "light"
     },
     "output_type": "display_data"
    }
   ],
   "source": [
    "x = failure_stresses.loc[1]\n",
    "x = stats.expon.rvs(scale=1/0.317019, size=1000)\n",
    "theoretical_quantiles = stats.expon.ppf(np.linspace(start=0.5, stop=len(x) - 0.5, num=len(x))/len(x), scale=1/0.317019)\n",
    "plt.plot(theoretical_quantiles, np.sort(x), 'o');"
   ]
  },
  {
   "cell_type": "code",
   "execution_count": 60,
   "metadata": {},
   "outputs": [
    {
     "data": {
      "text/plain": [
       "22.228730375471372"
      ]
     },
     "execution_count": 60,
     "metadata": {},
     "output_type": "execute_result"
    },
    {
     "data": {
      "image/png": "[encoded data removed]",
      "text/plain": [
       "<Figure size 432x288 with 1 Axes>"
      ]
     },
     "metadata": {
      "needs_background": "light"
     },
     "output_type": "display_data"
    }
   ],
   "source": [
    "fig = plt.figure()\n",
    "ax = fig.gca()\n",
    "sm.qqplot(x, dist=stats.expon, loc=0, scale=1/0.317019, ax=ax);\n",
    "ax.grid(True)\n",
    "ax.grid(True)\n",
    "ax.set_aspect('equal', adjustable='datalim')\n",
    "ax.plot([0, 20], [0, 20], 'k--');\n",
    "np.max([ax.get_xlim(), ax.get_ylim()])"
   ]
  },
  {
   "cell_type": "code",
   "execution_count": 16,
   "metadata": {},
   "outputs": [
    {
     "data": {
      "text/plain": [
       "(0.0003401704439788388, 3.2886255453876836)"
      ]
     },
     "execution_count": 16,
     "metadata": {},
     "output_type": "execute_result"
    }
   ],
   "source": [
    "stats.expon.fit(x)"
   ]
  },
  {
   "cell_type": "code",
   "execution_count": 87,
   "metadata": {},
   "outputs": [
    {
     "data": {
      "text/plain": [
       "3.1479472556089343"
      ]
     },
     "execution_count": 87,
     "metadata": {},
     "output_type": "execute_result"
    }
   ],
   "source": [
    "np.mean(stats.expon.rvs(scale=1/0.317019, size=100000))"
   ]
  },
  {
   "cell_type": "code",
   "execution_count": 74,
   "metadata": {},
   "outputs": [
    {
     "data": {
      "text/plain": [
       "3.1543846153846156"
      ]
     },
     "execution_count": 74,
     "metadata": {},
     "output_type": "execute_result"
    }
   ],
   "source": [
    "np.mean(failure_stresses.loc[1])"
   ]
  },
  {
   "cell_type": "code",
   "execution_count": 57,
   "metadata": {},
   "outputs": [
    {
     "data": {
      "text/plain": [
       "3.1543850684028403"
      ]
     },
     "execution_count": 57,
     "metadata": {},
     "output_type": "execute_result"
    }
   ],
   "source": [
    "1/0.317019"
   ]
  }
 ],
 "metadata": {
  "kernelspec": {
   "display_name": "Python 3",
   "language": "python",
   "name": "python3"
  },
  "language_info": {
   "codemirror_mode": {
    "name": "ipython",
    "version": 3
   },
   "file_extension": ".py",
   "mimetype": "text/x-python",
   "name": "python",
   "nbconvert_exporter": "python",
   "pygments_lexer": "ipython3",
   "version": "3.5.2"
  }
 },
 "nbformat": 4,
 "nbformat_minor": 2
}
