{
 "cells": [
  {
   "cell_type": "code",
   "execution_count": 45,
   "metadata": {},
   "outputs": [],
   "source": [
    "import numpy as np\n",
    "import pandas as pd\n",
    "from scipy import linalg\n",
    "from scipy import stats\n",
    "\n",
    "from stat570.linear_model.linear_regression import LinearRegression\n",
    "\n",
    "np.set_printoptions(suppress=True)"
   ]
  },
  {
   "cell_type": "code",
   "execution_count": 25,
   "metadata": {},
   "outputs": [],
   "source": [
    "BETA_0 = -2\n",
    "BETA_1 = np.log(2)"
   ]
  },
  {
   "cell_type": "code",
   "execution_count": 72,
   "metadata": {},
   "outputs": [],
   "source": [
    "experiments = pd.DataFrame(index=pd.MultiIndex.from_product([\n",
    "    [0.2, 1, 10, 1000],\n",
    "    [10, 20, 50, 100, 250],\n",
    "], names=['b', 'n']))"
   ]
  },
  {
   "cell_type": "code",
   "execution_count": 78,
   "metadata": {},
   "outputs": [],
   "source": [
    "def generate_data(b, n):\n",
    "    x = stats.norm.rvs(loc=0, scale=1, size=n)    \n",
    "    mu = np.exp(x*BETA_1 + BETA_0)\n",
    "    theta = stats.gamma.rvs(b, scale=1/b, size=n)\n",
    "    return x, stats.poisson.rvs(theta*mu, size=n)\n",
    "\n",
    "def estimate_by_poisson_model(x, y):\n",
    "    pass\n",
    "\n",
    "def estimate_by_quasi_likelihood(x, y):\n",
    "    pass\n",
    "\n",
    "def estimate_by_sandwich(x, y):\n",
    "    pass"
   ]
  },
  {
   "cell_type": "code",
   "execution_count": null,
   "metadata": {},
   "outputs": [
    {
     "name": "stdout",
     "output_type": "stream",
     "text": [
      "b=0.2, n=10\n"
     ]
    },
    {
     "name": "stderr",
     "output_type": "stream",
     "text": [
      "/usr/local/lib/python3.5/dist-packages/ipykernel_launcher.py:24: RuntimeWarning: divide by zero encountered in true_divide\n"
     ]
    },
    {
     "name": "stdout",
     "output_type": "stream",
     "text": [
      "949\n",
      "981\n",
      "[-142.46299267   10.98308239]\n",
      "b=0.2, n=20\n",
      "943\n",
      "927\n",
      "[-55.79391065   2.80701793]\n",
      "b=0.2, n=50\n",
      "947\n",
      "855\n",
      "[-4.7377488   0.74169047]\n",
      "b=0.2, n=100\n",
      "894\n",
      "810\n",
      "[-2.13483663  0.65428888]\n",
      "b=0.2, n=250\n",
      "878\n",
      "797\n",
      "[-2.03853705  0.67805529]\n",
      "b=1.0, n=10\n",
      "970\n",
      "986\n",
      "[-104.95182527   13.20492089]\n",
      "b=1.0, n=20\n",
      "964\n",
      "957\n",
      "[-21.88632147   1.91940514]\n",
      "b=1.0, n=50\n"
     ]
    }
   ],
   "source": [
    "from scipy import optimize\n",
    "\n",
    "np.random.seed(2018)\n",
    "for b, n in experiments.index:\n",
    "    print('b={}, n={}'.format(b, n))\n",
    "    estimates = []\n",
    "    variances = []\n",
    "    for i in range(1000):                \n",
    "        x, y = generate_data(b, n)\n",
    "    \n",
    "        def score(beta):\n",
    "            beta_0 = beta[0]\n",
    "            beta_1 = beta[1]\n",
    "            return np.array([\n",
    "                np.sum(y - np.exp(beta_0 + beta_1*x)),\n",
    "                np.sum(x*y - x*np.exp(beta_0 + beta_1*x)),\n",
    "            ])\n",
    "    \n",
    "        beta_hat = optimize.root(score, np.array([-2, np.log(2)]))['x']        \n",
    "        mu_hat = np.exp(beta_hat[0] + beta_hat[1]*x)\n",
    "        beta_hat_variance = np.array([\n",
    "            np.sum(x*x*mu_hat),\n",
    "            np.sum(mu_hat)\n",
    "        ])/(np.sum(mu_hat)*np.sum(x*x*mu_hat) - np.square(np.sum(x*mu_hat)))\n",
    "        \n",
    "        estimates.append(beta_hat)\n",
    "        variances.append(beta_hat_variance)\n",
    "        \n",
    "    estimates = np.array(estimates)\n",
    "    variances = np.array(variances)\n",
    "    \n",
    "    print(np.sum(np.abs(estimates[:,0] - BETA_0) <= np.sqrt(variances[:,0])*stats.norm.isf((1 - 0.95)/2)))\n",
    "    print(np.sum(np.abs(estimates[:,1] - BETA_1) <= np.sqrt(variances[:,1])*stats.norm.isf((1 - 0.95)/2)))    \n",
    "    print(np.mean(estimates, axis=0))"
   ]
  },
  {
   "cell_type": "code",
   "execution_count": 66,
   "metadata": {},
   "outputs": [
    {
     "data": {
      "text/plain": [
       "1.959963984540054"
      ]
     },
     "execution_count": 66,
     "metadata": {},
     "output_type": "execute_result"
    }
   ],
   "source": [
    "stats.norm.isf((1 - 0.95)/2)"
   ]
  }
 ],
 "metadata": {
  "kernelspec": {
   "display_name": "Python 3",
   "language": "python",
   "name": "python3"
  },
  "language_info": {
   "codemirror_mode": {
    "name": "ipython",
    "version": 3
   },
   "file_extension": ".py",
   "mimetype": "text/x-python",
   "name": "python",
   "nbconvert_exporter": "python",
   "pygments_lexer": "ipython3",
   "version": "3.5.2"
  }
 },
 "nbformat": 4,
 "nbformat_minor": 2
}
