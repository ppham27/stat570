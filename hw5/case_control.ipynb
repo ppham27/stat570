{
 "cells": [
  {
   "cell_type": "code",
   "execution_count": 52,
   "metadata": {},
   "outputs": [],
   "source": [
    "import matplotlib.pyplot as plt\n",
    "import numpy as np\n",
    "from scipy import stats\n",
    "import seaborn as sns"
   ]
  },
  {
   "cell_type": "code",
   "execution_count": 81,
   "metadata": {},
   "outputs": [],
   "source": [
    "POSTERIOR_ALPHA_P1 = 97\n",
    "POSTERIOR_BETA_P1 = 105\n",
    "POSTERIOR_ALPHA_P2 = 110\n",
    "POSTERIOR_BETA_P2 = 667\n",
    "\n",
    "def compute_posterior_interval(alpha, beta, density):\n",
    "    return stats.beta.interval(density, alpha, beta)\n",
    "\n",
    "def compute_asymptotic_interval(alpha, beta, density):\n",
    "    mean = alpha/(alpha + beta)\n",
    "    variance = alpha*beta/np.power(alpha + beta, 3)\n",
    "    delta = np.sqrt(variance)*stats.norm.isf((1-density)/2)\n",
    "    return (mean - delta, mean + delta)\n",
    "\n",
    "def compute_beta_sample_interval(alpha, beta, density, n=1000):\n",
    "    samples = np.sort(stats.beta.rvs(alpha, beta, size=(n,)))\n",
    "    return compute_sample_interval(samples, density), samples\n",
    "\n",
    "def compute_sample_interval(samples, density):\n",
    "    n = len(samples)\n",
    "    num_tails = np.round(n*(1-density)/2).astype(np.int64)\n",
    "    return (samples[num_tails],samples[-num_tails])\n",
    "\n",
    "def plot_sample_distribution(ax, samples):\n",
    "    sns.distplot(samples, ax=ax, kde=False)\n",
    "    ax.grid(True)"
   ]
  },
  {
   "cell_type": "code",
   "execution_count": 82,
   "metadata": {},
   "outputs": [
    {
     "data": {
      "text/plain": [
       "(0.42261190387657527, 0.5380076538906422)"
      ]
     },
     "execution_count": 82,
     "metadata": {},
     "output_type": "execute_result"
    }
   ],
   "source": [
    "compute_posterior_interval(POSTERIOR_ALPHA_P1, POSTERIOR_BETA_P1, 0.9)"
   ]
  },
  {
   "cell_type": "code",
   "execution_count": 83,
   "metadata": {},
   "outputs": [
    {
     "data": {
      "text/plain": [
       "(0.4223776693941238, 0.5380183702098366)"
      ]
     },
     "execution_count": 83,
     "metadata": {},
     "output_type": "execute_result"
    }
   ],
   "source": [
    "compute_asymptotic_interval(POSTERIOR_ALPHA_P1, POSTERIOR_BETA_P1, 0.9)"
   ]
  },
  {
   "cell_type": "code",
   "execution_count": 84,
   "metadata": {},
   "outputs": [
    {
     "name": "stderr",
     "output_type": "stream",
     "text": [
      "/usr/local/lib/python3.5/dist-packages/scipy/stats/stats.py:1713: FutureWarning: Using a non-tuple sequence for multidimensional indexing is deprecated; use `arr[tuple(seq)]` instead of `arr[seq]`. In the future this will be interpreted as an array index, `arr[np.array(seq)]`, which will result either in an error or a different result.\n",
      "  return np.add.reduce(sorted[indexer] * weights, axis=axis) / sumval\n"
     ]
    },
    {
     "data": {
      "text/plain": [
       "(0.42547121922268305, 0.5392616822220141)"
      ]
     },
     "execution_count": 84,
     "metadata": {},
     "output_type": "execute_result"
    },
    {
     "data": {
      "image/png": "[encoded data removed]",
      "text/plain": [
       "<Figure size 288x216 with 1 Axes>"
      ]
     },
     "metadata": {
      "needs_background": "light"
     },
     "output_type": "display_data"
    }
   ],
   "source": [
    "np.random.seed(2018)\n",
    "interval, samples = compute_beta_sample_interval(POSTERIOR_ALPHA_P1, POSTERIOR_BETA_P1, 0.9)\n",
    "\n",
    "fig = plt.figure(figsize=(4,3))\n",
    "ax = fig.gca()\n",
    "plot_sample_distribution(ax, samples)\n",
    "ax.set_title('Posterior Samples for $p_1$')\n",
    "fig.savefig('p1_p1.pdf')\n",
    "interval"
   ]
  },
  {
   "cell_type": "code",
   "execution_count": 85,
   "metadata": {},
   "outputs": [
    {
     "data": {
      "text/plain": [
       "(0.12154851125370263, 0.1626412114257485)"
      ]
     },
     "execution_count": 85,
     "metadata": {},
     "output_type": "execute_result"
    }
   ],
   "source": [
    "compute_posterior_interval(POSTERIOR_ALPHA_P2, POSTERIOR_BETA_P2, 0.9)"
   ]
  },
  {
   "cell_type": "code",
   "execution_count": 86,
   "metadata": {},
   "outputs": [
    {
     "data": {
      "text/plain": [
       "(0.12099916127723108, 0.16214112186305207)"
      ]
     },
     "execution_count": 86,
     "metadata": {},
     "output_type": "execute_result"
    }
   ],
   "source": [
    "compute_asymptotic_interval(POSTERIOR_ALPHA_P2, POSTERIOR_BETA_P2, 0.9)"
   ]
  },
  {
   "cell_type": "code",
   "execution_count": 87,
   "metadata": {},
   "outputs": [
    {
     "name": "stderr",
     "output_type": "stream",
     "text": [
      "/usr/local/lib/python3.5/dist-packages/scipy/stats/stats.py:1713: FutureWarning: Using a non-tuple sequence for multidimensional indexing is deprecated; use `arr[tuple(seq)]` instead of `arr[seq]`. In the future this will be interpreted as an array index, `arr[np.array(seq)]`, which will result either in an error or a different result.\n",
      "  return np.add.reduce(sorted[indexer] * weights, axis=axis) / sumval\n"
     ]
    },
    {
     "data": {
      "text/plain": [
       "(0.12092804249574873, 0.16337525399804356)"
      ]
     },
     "execution_count": 87,
     "metadata": {},
     "output_type": "execute_result"
    },
    {
     "data": {
      "image/png": "[encoded data removed]",
      "text/plain": [
       "<Figure size 288x216 with 1 Axes>"
      ]
     },
     "metadata": {
      "needs_background": "light"
     },
     "output_type": "display_data"
    }
   ],
   "source": [
    "np.random.seed(2018)\n",
    "interval, samples = compute_beta_sample_interval(POSTERIOR_ALPHA_P2, POSTERIOR_BETA_P2, 0.9)\n",
    "\n",
    "fig = plt.figure(figsize=(4,3))\n",
    "ax = fig.gca()\n",
    "plot_sample_distribution(ax, samples)\n",
    "ax.set_title('Posterior Samples for $p_2$')\n",
    "fig.savefig('p1_p2.pdf')\n",
    "interval"
   ]
  },
  {
   "cell_type": "code",
   "execution_count": 90,
   "metadata": {},
   "outputs": [
    {
     "name": "stdout",
     "output_type": "stream",
     "text": [
      "5.648589514021282\n"
     ]
    },
    {
     "name": "stderr",
     "output_type": "stream",
     "text": [
      "/usr/local/lib/python3.5/dist-packages/scipy/stats/stats.py:1713: FutureWarning: Using a non-tuple sequence for multidimensional indexing is deprecated; use `arr[tuple(seq)]` instead of `arr[seq]`. In the future this will be interpreted as an array index, `arr[np.array(seq)]`, which will result either in an error or a different result.\n",
      "  return np.add.reduce(sorted[indexer] * weights, axis=axis) / sumval\n"
     ]
    },
    {
     "data": {
      "text/plain": [
       "(6.313684765774096, 6.47549282845376)"
      ]
     },
     "execution_count": 90,
     "metadata": {},
     "output_type": "execute_result"
    },
    {
     "data": {
      "image/png": "[encoded data removed]",
      "text/plain": [
       "<Figure size 288x216 with 1 Axes>"
      ]
     },
     "metadata": {
      "needs_background": "light"
     },
     "output_type": "display_data"
    }
   ],
   "source": [
    "np.random.seed(2018)\n",
    "joint_beta_samples = stats.beta.rvs(\n",
    "    np.expand_dims([POSTERIOR_ALPHA_P1, POSTERIOR_ALPHA_P2], -1),\n",
    "    np.expand_dims([POSTERIOR_BETA_P1, POSTERIOR_BETA_P2], -1), size=(2, 1000))\n",
    "theta_samples = (joint_beta_samples[0]/(1 - joint_beta_samples[0]))/(joint_beta_samples[1]/(1 - joint_beta_samples[1]))\n",
    "\n",
    "fig = plt.figure(figsize=(4,3))\n",
    "ax = fig.gca()\n",
    "plot_sample_distribution(ax, theta_samples)\n",
    "ax.set_title('Posterior Samples for $\\\\theta$')\n",
    "fig.savefig('p1_theta.pdf')\n",
    "print(np.median(theta_samples))\n",
    "compute_sample_interval(theta_samples, 0.9)"
   ]
  }
 ],
 "metadata": {
  "kernelspec": {
   "display_name": "Python 3",
   "language": "python",
   "name": "python3"
  },
  "language_info": {
   "codemirror_mode": {
    "name": "ipython",
    "version": 3
   },
   "file_extension": ".py",
   "mimetype": "text/x-python",
   "name": "python",
   "nbconvert_exporter": "python",
   "pygments_lexer": "ipython3",
   "version": "3.5.2"
  }
 },
 "nbformat": 4,
 "nbformat_minor": 2
}
