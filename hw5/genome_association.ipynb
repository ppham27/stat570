{
 "cells": [
  {
   "cell_type": "code",
   "execution_count": 5,
   "metadata": {},
   "outputs": [],
   "source": [
    "import numpy as np\n",
    "from scipy import stats\n",
    "\n",
    "np.set_printoptions(suppress=True)"
   ]
  },
  {
   "cell_type": "code",
   "execution_count": 45,
   "metadata": {},
   "outputs": [
    {
     "data": {
      "text/plain": [
       "array([[5.98230907, 3.9940795 ],\n",
       "       [3.9940795 , 7.00049771]])"
      ]
     },
     "execution_count": 45,
     "metadata": {},
     "output_type": "execute_result"
    }
   ],
   "source": [
    "def simulate(n):\n",
    "    theta = stats.norm.rvs(loc=0, scale=2, size=(n,))\n",
    "    return stats.norm.rvs(loc=np.expand_dims(theta, 0),\n",
    "                          scale=np.expand_dims([np.sqrt(2), np.sqrt(3)], -1),\n",
    "                          size=(2, n))\n",
    "\n",
    "def estimate_posterior_parameters(n):\n",
    "    samples = simulate(n)\n",
    "    return np.mean(samples, axis=-1), np.cov(samples, ddof=1)\n",
    "    \n",
    "estimate_posterior_parameters(1000000)[1]\n",
    "#for i in range(1)"
   ]
  }
 ],
 "metadata": {
  "kernelspec": {
   "display_name": "Python 3",
   "language": "python",
   "name": "python3"
  },
  "language_info": {
   "codemirror_mode": {
    "name": "ipython",
    "version": 3
   },
   "file_extension": ".py",
   "mimetype": "text/x-python",
   "name": "python",
   "nbconvert_exporter": "python",
   "pygments_lexer": "ipython3",
   "version": "3.5.2"
  }
 },
 "nbformat": 4,
 "nbformat_minor": 2
}
