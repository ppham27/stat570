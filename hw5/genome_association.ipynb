{
 "cells": [
  {
   "cell_type": "code",
   "execution_count": 1,
   "metadata": {},
   "outputs": [],
   "source": [
    "import numpy as np\n",
    "from scipy import stats\n",
    "\n",
    "np.set_printoptions(suppress=True)"
   ]
  },
  {
   "cell_type": "code",
   "execution_count": 2,
   "metadata": {},
   "outputs": [
    {
     "data": {
      "text/plain": [
       "(0.001801781425594234, 0.0009502544425991485, 0.04279675028859458)"
      ]
     },
     "execution_count": 2,
     "metadata": {},
     "output_type": "execute_result"
    }
   ],
   "source": [
    "def compute_prior_variance(l, u, density):\n",
    "    l = np.log(l)\n",
    "    u = np.log(u)\n",
    "    mid = l + (u - l)/2\n",
    "    delta = u - mid\n",
    "    return np.square(delta/stats.norm.isf((1 - density)/2))\n",
    "    \n",
    "W = compute_prior_variance(2/3, 3/2, 0.95)\n",
    "V1 = compute_prior_variance(1.16, 1.37, 0.95)\n",
    "V2 = compute_prior_variance(1.09, 1.23, 0.95)\n",
    "PI1 = 1/5000\n",
    "theta1 = np.log(1.27)\n",
    "theta2 = np.log(1.15)\n",
    "V1, V2, W"
   ]
  },
  {
   "cell_type": "code",
   "execution_count": 3,
   "metadata": {},
   "outputs": [
    {
     "name": "stdout",
     "output_type": "stream",
     "text": [
      "0.22936061370234512 0.001728989425928838\n",
      "(0.1478631187646404, 0.3108581086400498)\n"
     ]
    }
   ],
   "source": [
    "mean, variance = theta1*W/(V1 + W), V1*W/(V1 + W)\n",
    "print(mean, variance)\n",
    "print(stats.norm.interval(0.95, mean, np.sqrt(variance)))"
   ]
  },
  {
   "cell_type": "code",
   "execution_count": 4,
   "metadata": {},
   "outputs": [
    {
     "data": {
      "text/plain": [
       "1.2299285538087382e-06"
      ]
     },
     "execution_count": 4,
     "metadata": {},
     "output_type": "execute_result"
    }
   ],
   "source": [
    "K = 1/np.sqrt(1 - W/(V1+W))*np.exp(-np.square(theta1/np.sqrt(V1))*W/(V1+W)/2)\n",
    "K"
   ]
  },
  {
   "cell_type": "code",
   "execution_count": 5,
   "metadata": {},
   "outputs": [
    {
     "data": {
      "text/plain": [
       "0.9938891591319693"
      ]
     },
     "execution_count": 5,
     "metadata": {},
     "output_type": "execute_result"
    }
   ],
   "source": [
    "PI1/(K*(1-PI1) + PI1)"
   ]
  },
  {
   "cell_type": "code",
   "execution_count": 6,
   "metadata": {},
   "outputs": [
    {
     "name": "stdout",
     "output_type": "stream",
     "text": [
      "0.17154013788761782 0.0006132252097299771\n",
      "(0.12300479621797233, 0.2200754795572633)\n"
     ]
    }
   ],
   "source": [
    "mean, variance = (theta1*V2*W + theta2*V1*W)/(V1*V2 + V1*W + V2*W), V1*V2*W/(V1*V2 + V1*W + V2*W)\n",
    "print(mean, variance)\n",
    "print(stats.norm.interval(0.95, mean, np.sqrt(variance)))"
   ]
  },
  {
   "cell_type": "code",
   "execution_count": 7,
   "metadata": {},
   "outputs": [
    {
     "data": {
      "text/plain": [
       "4.408920321325868e-12"
      ]
     },
     "execution_count": 7,
     "metadata": {},
     "output_type": "execute_result"
    }
   ],
   "source": [
    "PRECISION = np.array([[1/V1, 0], [0, 1/V2]]) + 1/(V1*V2+V1*W + V2*W)*np.array([[V2+W, -W], [-W, V1+W]])\n",
    "THETA = np.array([theta1, theta2])\n",
    "K = np.sqrt((V1*V2 + V1*W + V2*W)/(V1*V2))*np.exp(-THETA.dot(PRECISION).dot(THETA)/2)\n",
    "K"
   ]
  },
  {
   "cell_type": "code",
   "execution_count": 8,
   "metadata": {},
   "outputs": [
    {
     "data": {
      "text/plain": [
       "0.9999999779598078"
      ]
     },
     "execution_count": 8,
     "metadata": {},
     "output_type": "execute_result"
    }
   ],
   "source": [
    "PI1/(K*(1-PI1) + PI1)"
   ]
  }
 ],
 "metadata": {
  "kernelspec": {
   "display_name": "Python 3",
   "language": "python",
   "name": "python3"
  },
  "language_info": {
   "codemirror_mode": {
    "name": "ipython",
    "version": 3
   },
   "file_extension": ".py",
   "mimetype": "text/x-python",
   "name": "python",
   "nbconvert_exporter": "python",
   "pygments_lexer": "ipython3",
   "version": "3.5.2"
  }
 },
 "nbformat": 4,
 "nbformat_minor": 2
}
