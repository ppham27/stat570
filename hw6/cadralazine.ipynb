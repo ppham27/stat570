{
 "cells": [
  {
   "cell_type": "code",
   "execution_count": 155,
   "metadata": {},
   "outputs": [],
   "source": [
    "import collections\n",
    "import numpy as np\n",
    "import pandas as pd\n",
    "from scipy import stats\n",
    "\n",
    "np.set_printoptions(suppress=True)"
   ]
  },
  {
   "cell_type": "code",
   "execution_count": 4,
   "metadata": {},
   "outputs": [
    {
     "data": {
      "text/html": [
       "<div>\n",
       "<style scoped>\n",
       "    .dataframe tbody tr th:only-of-type {\n",
       "        vertical-align: middle;\n",
       "    }\n",
       "\n",
       "    .dataframe tbody tr th {\n",
       "        vertical-align: top;\n",
       "    }\n",
       "\n",
       "    .dataframe thead th {\n",
       "        text-align: right;\n",
       "    }\n",
       "</style>\n",
       "<table border=\"1\" class=\"dataframe\">\n",
       "  <thead>\n",
       "    <tr style=\"text-align: right;\">\n",
       "      <th></th>\n",
       "      <th>time</th>\n",
       "      <th>drug concentration</th>\n",
       "    </tr>\n",
       "    <tr>\n",
       "      <th>$i$</th>\n",
       "      <th></th>\n",
       "      <th></th>\n",
       "    </tr>\n",
       "  </thead>\n",
       "  <tbody>\n",
       "    <tr>\n",
       "      <th>1</th>\n",
       "      <td>2</td>\n",
       "      <td>1.63</td>\n",
       "    </tr>\n",
       "    <tr>\n",
       "      <th>2</th>\n",
       "      <td>4</td>\n",
       "      <td>1.01</td>\n",
       "    </tr>\n",
       "    <tr>\n",
       "      <th>3</th>\n",
       "      <td>6</td>\n",
       "      <td>0.73</td>\n",
       "    </tr>\n",
       "    <tr>\n",
       "      <th>4</th>\n",
       "      <td>8</td>\n",
       "      <td>0.55</td>\n",
       "    </tr>\n",
       "    <tr>\n",
       "      <th>5</th>\n",
       "      <td>10</td>\n",
       "      <td>0.41</td>\n",
       "    </tr>\n",
       "    <tr>\n",
       "      <th>6</th>\n",
       "      <td>24</td>\n",
       "      <td>0.01</td>\n",
       "    </tr>\n",
       "    <tr>\n",
       "      <th>7</th>\n",
       "      <td>28</td>\n",
       "      <td>0.06</td>\n",
       "    </tr>\n",
       "    <tr>\n",
       "      <th>8</th>\n",
       "      <td>32</td>\n",
       "      <td>0.02</td>\n",
       "    </tr>\n",
       "  </tbody>\n",
       "</table>\n",
       "</div>"
      ],
      "text/plain": [
       "     time  drug concentration\n",
       "$i$                          \n",
       "1       2                1.63\n",
       "2       4                1.01\n",
       "3       6                0.73\n",
       "4       8                0.55\n",
       "5      10                0.41\n",
       "6      24                0.01\n",
       "7      28                0.06\n",
       "8      32                0.02"
      ]
     },
     "execution_count": 4,
     "metadata": {},
     "output_type": "execute_result"
    }
   ],
   "source": [
    "cadralazine_data = pd.DataFrame(collections.OrderedDict([\n",
    "    ('time', [2, 4, 6, 8, 10, 24, 28, 32]),\n",
    "    ('drug concentration', [1.63, 1.01, 0.73, 0.55, 0.41, 0.01, 0.06, 0.02])\n",
    "]), index=pd.Series(np.arange(1, 9), name='$i$'))\n",
    "with open('p3_data.tex', 'w') as f:\n",
    "    f.write(cadralazine_data.reset_index().to_latex(escape=False, index=False))\n",
    "cadralazine_data"
   ]
  },
  {
   "cell_type": "code",
   "execution_count": 176,
   "metadata": {},
   "outputs": [
    {
     "data": {
      "text/plain": [
       "(16.663309378983836, 0.1521063544475257, 0.41196270863951295)"
      ]
     },
     "execution_count": 176,
     "metadata": {},
     "output_type": "execute_result"
    }
   ],
   "source": [
    "D = 30\n",
    "\n",
    "def compute_mle_estimates(x, y):\n",
    "    assert len(x) == len(y), 'Inputs must have the same length.'\n",
    "    n = len(x)\n",
    "    log_D = np.log(D)\n",
    "    log_y = np.log(y)\n",
    "    x_sum = np.sum(x)\n",
    "    log_y_sum = np.sum(log_y)    \n",
    "    \n",
    "    k_e = -(n*np.sum(x*log_y) - x_sum*log_y_sum)/(n*np.sum(x*x) - x_sum*x_sum)\n",
    "    log_V = -(log_y_sum + k_e*x_sum)/n + log_D\n",
    "    sigma_2 = np.mean(np.square(log_y - log_D + log_V + k_e*x))\n",
    "    return np.exp(log_V), k_e, sigma_2\n",
    "    \n",
    "V, k_e, sigma_2 = compute_mle_estimates(cadralazine_data['time'], cadralazine_data['drug concentration'])\n",
    "V, k_e, sigma_2"
   ]
  },
  {
   "cell_type": "code",
   "execution_count": 219,
   "metadata": {},
   "outputs": [
    {
     "data": {
      "text/plain": [
       "array([[38.01254725, -0.09986874,  0.        ],\n",
       "       [-0.09986874,  0.00042058,  0.        ],\n",
       "       [ 0.        ,  0.        ,  0.04242832]])"
      ]
     },
     "execution_count": 219,
     "metadata": {},
     "output_type": "execute_result"
    }
   ],
   "source": [
    "def compute_asymptotic_covariances(x, V, k_e, sigma_2):\n",
    "    n, var_x = len(x), np.var(x, ddof=0)    \n",
    "    covariances = np.zeros((3,3))\n",
    "    covariances[0, 0] = np.mean(np.square(x))*sigma_2*V*V/n/var_x\n",
    "    covariances[1, 1] = sigma_2/var_x/n\n",
    "    covariances[2, 2] = 2*sigma_2*sigma_2/n\n",
    "    covariances[0, 1] =  covariances[1, 0] = -sigma_2*V*np.mean(x)/n/var_x\n",
    "    return covariances\n",
    "\n",
    "compute_asymptotic_covariances(cadralazine_data['time'], V, k_e, sigma_2)"
   ]
  },
  {
   "cell_type": "code",
   "execution_count": 218,
   "metadata": {},
   "outputs": [
    {
     "data": {
      "text/plain": [
       "array([[48.69041953, -0.10942584,  0.01603871],\n",
       "       [-0.10942584,  0.00041874,  0.00000027],\n",
       "       [ 0.01603871,  0.00000027,  0.03217829]])"
      ]
     },
     "execution_count": 218,
     "metadata": {},
     "output_type": "execute_result"
    }
   ],
   "source": [
    "params = [[], [], []]\n",
    "for i in range(4096):\n",
    "    x = cadralazine_data['time'].values\n",
    "    y = (D/V*np.exp(-k_e*x))*np.exp(stats.norm.rvs(size=x.shape, scale=np.sqrt(sigma_2)))\n",
    "    V_hat, k_e_hat, sigma_2_hat = compute_mle_estimates(x, y)\n",
    "    params[0].append(V_hat)\n",
    "    params[1].append(k_e_hat)\n",
    "    params[2].append(sigma_2_hat)\n",
    "np.cov(params, ddof=2)"
   ]
  },
  {
   "cell_type": "code",
   "execution_count": 158,
   "metadata": {},
   "outputs": [
    {
     "data": {
      "text/plain": [
       "(-2.813209259207856, array([-0.15210635]))"
      ]
     },
     "execution_count": 158,
     "metadata": {},
     "output_type": "execute_result"
    }
   ],
   "source": [
    "from sklearn import linear_model\n",
    "\n",
    "tmp = linear_model.LinearRegression().fit(cadralazine_data['time'].values[:,np.newaxis],\n",
    "                                          np.log(cadralazine_data['drug concentration']) - np.log(30))\n",
    "tmp.intercept_, tmp.coef_"
   ]
  },
  {
   "cell_type": "code",
   "execution_count": null,
   "metadata": {},
   "outputs": [],
   "source": []
  },
  {
   "cell_type": "code",
   "execution_count": 15,
   "metadata": {},
   "outputs": [
    {
     "data": {
      "text/plain": [
       "$i$\n",
       "1   -2.912617\n",
       "2   -3.391247\n",
       "3   -3.715908\n",
       "4   -3.999034\n",
       "5   -4.292796\n",
       "6   -8.006368\n",
       "7   -6.214608\n",
       "8   -7.313220\n",
       "Name: drug concentration, dtype: float64"
      ]
     },
     "execution_count": 15,
     "metadata": {},
     "output_type": "execute_result"
    }
   ],
   "source": [
    "np.log(cadralazine_data['drug concentration']) - np.log(30)"
   ]
  },
  {
   "cell_type": "code",
   "execution_count": 3,
   "metadata": {},
   "outputs": [
    {
     "data": {
      "text/plain": [
       "$i$\n",
       "1     2\n",
       "2     4\n",
       "3     6\n",
       "4     8\n",
       "5    10\n",
       "6    24\n",
       "7    28\n",
       "8    32\n",
       "Name: time, dtype: int64"
      ]
     },
     "execution_count": 3,
     "metadata": {},
     "output_type": "execute_result"
    }
   ],
   "source": [
    "cadralazine_data['time'] * "
   ]
  }
 ],
 "metadata": {
  "kernelspec": {
   "display_name": "Python 3",
   "language": "python",
   "name": "python3"
  },
  "language_info": {
   "codemirror_mode": {
    "name": "ipython",
    "version": 3
   },
   "file_extension": ".py",
   "mimetype": "text/x-python",
   "name": "python",
   "nbconvert_exporter": "python",
   "pygments_lexer": "ipython3",
   "version": "3.5.2"
  }
 },
 "nbformat": 4,
 "nbformat_minor": 2
}
