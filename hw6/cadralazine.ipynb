{
 "cells": [
  {
   "cell_type": "code",
   "execution_count": 1,
   "metadata": {},
   "outputs": [],
   "source": [
    "import collections\n",
    "import matplotlib\n",
    "import matplotlib.pyplot as plt\n",
    "import numpy as np\n",
    "import pandas as pd\n",
    "from scipy import stats\n",
    "import statsmodels.api as sm\n",
    "\n",
    "np.set_printoptions(suppress=True)"
   ]
  },
  {
   "cell_type": "code",
   "execution_count": 2,
   "metadata": {},
   "outputs": [
    {
     "data": {
      "text/html": [
       "<div>\n",
       "<style scoped>\n",
       "    .dataframe tbody tr th:only-of-type {\n",
       "        vertical-align: middle;\n",
       "    }\n",
       "\n",
       "    .dataframe tbody tr th {\n",
       "        vertical-align: top;\n",
       "    }\n",
       "\n",
       "    .dataframe thead th {\n",
       "        text-align: right;\n",
       "    }\n",
       "</style>\n",
       "<table border=\"1\" class=\"dataframe\">\n",
       "  <thead>\n",
       "    <tr style=\"text-align: right;\">\n",
       "      <th></th>\n",
       "      <th>time</th>\n",
       "      <th>drug concentration</th>\n",
       "    </tr>\n",
       "    <tr>\n",
       "      <th>$i$</th>\n",
       "      <th></th>\n",
       "      <th></th>\n",
       "    </tr>\n",
       "  </thead>\n",
       "  <tbody>\n",
       "    <tr>\n",
       "      <th>1</th>\n",
       "      <td>2</td>\n",
       "      <td>1.63</td>\n",
       "    </tr>\n",
       "    <tr>\n",
       "      <th>2</th>\n",
       "      <td>4</td>\n",
       "      <td>1.01</td>\n",
       "    </tr>\n",
       "    <tr>\n",
       "      <th>3</th>\n",
       "      <td>6</td>\n",
       "      <td>0.73</td>\n",
       "    </tr>\n",
       "    <tr>\n",
       "      <th>4</th>\n",
       "      <td>8</td>\n",
       "      <td>0.55</td>\n",
       "    </tr>\n",
       "    <tr>\n",
       "      <th>5</th>\n",
       "      <td>10</td>\n",
       "      <td>0.41</td>\n",
       "    </tr>\n",
       "    <tr>\n",
       "      <th>6</th>\n",
       "      <td>24</td>\n",
       "      <td>0.01</td>\n",
       "    </tr>\n",
       "    <tr>\n",
       "      <th>7</th>\n",
       "      <td>28</td>\n",
       "      <td>0.06</td>\n",
       "    </tr>\n",
       "    <tr>\n",
       "      <th>8</th>\n",
       "      <td>32</td>\n",
       "      <td>0.02</td>\n",
       "    </tr>\n",
       "  </tbody>\n",
       "</table>\n",
       "</div>"
      ],
      "text/plain": [
       "     time  drug concentration\n",
       "$i$                          \n",
       "1       2                1.63\n",
       "2       4                1.01\n",
       "3       6                0.73\n",
       "4       8                0.55\n",
       "5      10                0.41\n",
       "6      24                0.01\n",
       "7      28                0.06\n",
       "8      32                0.02"
      ]
     },
     "execution_count": 2,
     "metadata": {},
     "output_type": "execute_result"
    }
   ],
   "source": [
    "cadralazine_data = pd.DataFrame(collections.OrderedDict([\n",
    "    ('time', [2, 4, 6, 8, 10, 24, 28, 32]),\n",
    "    ('drug concentration', [1.63, 1.01, 0.73, 0.55, 0.41, 0.01, 0.06, 0.02])\n",
    "]), index=pd.Series(np.arange(1, 9), name='$i$'))\n",
    "with open('p3_data.tex', 'w') as f:\n",
    "    f.write(cadralazine_data.reset_index().to_latex(escape=False, index=False))\n",
    "cadralazine_data"
   ]
  },
  {
   "cell_type": "code",
   "execution_count": 3,
   "metadata": {},
   "outputs": [],
   "source": [
    "D = 30 # Specified in homework\n",
    "\n",
    "def compute_mle_estimates(x, y):\n",
    "    assert len(x) == len(y), 'Inputs must have the same length.'\n",
    "    n = len(x)\n",
    "    log_D = np.log(D)\n",
    "    log_y = np.log(y)\n",
    "    x_sum = np.sum(x)\n",
    "    log_y_sum = np.sum(log_y)    \n",
    "    \n",
    "    k_e = -(n*np.sum(x*log_y) - x_sum*log_y_sum)/(n*np.sum(x*x) - x_sum*x_sum)\n",
    "    log_V = -(log_y_sum + k_e*x_sum)/n + log_D\n",
    "    sigma_2 = np.mean(np.square(log_y - log_D + log_V + k_e*x))\n",
    "    return np.exp(log_V), k_e, sigma_2    \n",
    "estimates = compute_mle_estimates(cadralazine_data['time'], cadralazine_data['drug concentration'])"
   ]
  },
  {
   "cell_type": "code",
   "execution_count": 4,
   "metadata": {},
   "outputs": [],
   "source": [
    "def compute_asymptotic_covariances(x, V, k_e, sigma_2):\n",
    "    n, var_x = len(x), np.var(x, ddof=0)    \n",
    "    covariances = np.zeros((3,3))\n",
    "    covariances[0, 0] = np.mean(np.square(x))*sigma_2*V*V/n/var_x\n",
    "    covariances[1, 1] = sigma_2/var_x/n\n",
    "    covariances[2, 2] = 2*sigma_2*sigma_2/n\n",
    "    covariances[0, 1] =  covariances[1, 0] = -sigma_2*V*np.mean(x)/n/var_x\n",
    "    return covariances\n",
    "\n",
    "asymptotic_covariances = compute_asymptotic_covariances(\n",
    "    cadralazine_data['time'], *estimates)"
   ]
  },
  {
   "cell_type": "code",
   "execution_count": 5,
   "metadata": {},
   "outputs": [
    {
     "data": {
      "text/html": [
       "<div>\n",
       "<style scoped>\n",
       "    .dataframe tbody tr th:only-of-type {\n",
       "        vertical-align: middle;\n",
       "    }\n",
       "\n",
       "    .dataframe tbody tr th {\n",
       "        vertical-align: top;\n",
       "    }\n",
       "\n",
       "    .dataframe thead th {\n",
       "        text-align: right;\n",
       "    }\n",
       "</style>\n",
       "<table border=\"1\" class=\"dataframe\">\n",
       "  <thead>\n",
       "    <tr style=\"text-align: right;\">\n",
       "      <th></th>\n",
       "      <th>Estimate</th>\n",
       "      <th>Standard error</th>\n",
       "      <th>95\\% CI lower bound</th>\n",
       "      <th>95\\% CI upper bound</th>\n",
       "    </tr>\n",
       "  </thead>\n",
       "  <tbody>\n",
       "    <tr>\n",
       "      <th>$\\hat{V}$</th>\n",
       "      <td>16.663309</td>\n",
       "      <td>6.165432</td>\n",
       "      <td>4.579285</td>\n",
       "      <td>28.747333</td>\n",
       "    </tr>\n",
       "    <tr>\n",
       "      <th>$\\hat{k}_e$</th>\n",
       "      <td>0.152106</td>\n",
       "      <td>0.020508</td>\n",
       "      <td>0.111911</td>\n",
       "      <td>0.192302</td>\n",
       "    </tr>\n",
       "    <tr>\n",
       "      <th>$\\hat{\\sigma}^2$</th>\n",
       "      <td>0.411963</td>\n",
       "      <td>0.205981</td>\n",
       "      <td>0.008247</td>\n",
       "      <td>0.815679</td>\n",
       "    </tr>\n",
       "  </tbody>\n",
       "</table>\n",
       "</div>"
      ],
      "text/plain": [
       "                   Estimate  Standard error  95\\% CI lower bound  \\\n",
       "$\\hat{V}$         16.663309        6.165432             4.579285   \n",
       "$\\hat{k}_e$        0.152106        0.020508             0.111911   \n",
       "$\\hat{\\sigma}^2$   0.411963        0.205981             0.008247   \n",
       "\n",
       "                  95\\% CI upper bound  \n",
       "$\\hat{V}$                   28.747333  \n",
       "$\\hat{k}_e$                  0.192302  \n",
       "$\\hat{\\sigma}^2$             0.815679  "
      ]
     },
     "execution_count": 5,
     "metadata": {},
     "output_type": "execute_result"
    }
   ],
   "source": [
    "estimates_summary = pd.DataFrame(collections.OrderedDict([\n",
    "    ('Estimate', estimates),\n",
    "    ('Standard error', np.sqrt(np.diag(asymptotic_covariances))),\n",
    "    ('95\\% CI lower bound', estimates + np.sqrt(np.diag(asymptotic_covariances))*stats.norm.ppf((1 - 0.95)/2)),\n",
    "    ('95\\% CI upper bound', estimates + np.sqrt(np.diag(asymptotic_covariances))*stats.norm.isf((1 - 0.95)/2)),\n",
    "]), index=['$\\hat{V}$', '$\\hat{k}_e$', '$\\hat{\\sigma}^2$'])\n",
    "\n",
    "with open('p3_summary.tex', 'w') as f:\n",
    "    f.write(estimates_summary.to_latex(escape=False))\n",
    "\n",
    "estimates_summary"
   ]
  },
  {
   "cell_type": "code",
   "execution_count": 6,
   "metadata": {},
   "outputs": [
    {
     "data": {
      "image/png": "[encoded data removed]",
      "text/plain": [
       "<Figure size 288x288 with 1 Axes>"
      ]
     },
     "metadata": {
      "needs_background": "light"
     },
     "output_type": "display_data"
    }
   ],
   "source": [
    "def plot_fitted_curve(ax, data, estimates, confidence_level=0.95):    \n",
    "    V, k_e, sigma_2 = estimates\n",
    "    x = np.linspace(data['time'].min() - 1, data['time'].max() + 1)\n",
    "    y = D/V*np.exp(-k_e*x)\n",
    "    y_upper = y*np.exp(np.sqrt(sigma_2)*stats.norm.isf((1 - confidence_level)/2))\n",
    "    y_lower = y*np.exp(np.sqrt(sigma_2)*stats.norm.ppf((1 - confidence_level)/2))\n",
    "\n",
    "    ax.fill_between(x, y_lower, y_upper, alpha=1/4)    \n",
    "    ax.plot(x, y, '-', label='Expected')    \n",
    "    ax.plot(data['time'], data['drug concentration'], 'o', label='Actual')\n",
    "    ax.set_xlabel('Time')\n",
    "    ax.set_ylabel('Drug concentration')\n",
    "    ax.grid(True)\n",
    "    ax.legend()\n",
    "\n",
    "fig = plt.figure(figsize=(4,4))\n",
    "ax = fig.gca()\n",
    "#plot_fitted_curve(ax, cadralazine_data, estimates, stats.norm.cdf(1) - stats.norm.cdf(-1))\n",
    "plot_fitted_curve(ax, cadralazine_data, estimates)\n",
    "ax.set_title('Drug Concentration versus Time')\n",
    "ax.set_ylim(bottom=-0.1, top=2.1)\n",
    "fig.tight_layout()\n",
    "fig.savefig('p3_fitted_curve.pdf', bbox_inches='tight')"
   ]
  },
  {
   "cell_type": "code",
   "execution_count": 7,
   "metadata": {
    "scrolled": true
   },
   "outputs": [
    {
     "data": {
      "image/png": "[encoded data removed]",
      "text/plain": [
       "<Figure size 288x288 with 1 Axes>"
      ]
     },
     "metadata": {
      "needs_background": "light"
     },
     "output_type": "display_data"
    }
   ],
   "source": [
    "fig = plt.figure(figsize=(4,4))\n",
    "ax = fig.gca()\n",
    "plot_fitted_curve(ax, cadralazine_data, estimates)\n",
    "ax.set_yscale('log', basey=np.exp(1))\n",
    "ax.set_yticks([0.01/3, 0.01, 0.03, 0.09, 0.27, 0.81, 2.43, 7.29])\n",
    "ax.get_yaxis().set_major_formatter(matplotlib.ticker.ScalarFormatter())\n",
    "ax.set_title('Drug Concentration versus Time')\n",
    "fig.tight_layout()\n",
    "fig.savefig('p3_fitted_curve_log.pdf', bbox_inches='tight')"
   ]
  },
  {
   "cell_type": "code",
   "execution_count": 8,
   "metadata": {},
   "outputs": [
    {
     "data": {
      "image/png": "[encoded data removed]",
      "text/plain": [
       "<Figure size 432x216 with 2 Axes>"
      ]
     },
     "metadata": {
      "needs_background": "light"
     },
     "output_type": "display_data"
    }
   ],
   "source": [
    "fig, axes = plt.subplots(figsize=(6, 3), ncols=2)\n",
    "\n",
    "def plot_residuals(axes, data, estimates):\n",
    "    ax_residuals, ax_qq = axes\n",
    "    V, k_e, sigma_2 = estimates\n",
    "    log_y_hat = np.log(D) - np.log(V) - k_e*data['time']\n",
    "    log_y = np.log(data['drug concentration'])\n",
    "    residuals = log_y - log_y_hat\n",
    "    \n",
    "    ax_residuals.plot(data['time'], residuals, 'o')\n",
    "    ax_residuals.set_xlabel('Time')\n",
    "    ax_residuals.set_ylabel('Error')\n",
    "    ax_residuals.grid(True)\n",
    "    \n",
    "    sm.qqplot(residuals, ax=ax_qq, line='45', loc=0, scale=np.sqrt(sigma_2), fit=False)    \n",
    "    ax_qq.grid(True)\n",
    "        \n",
    "    return residuals\n",
    "\n",
    "plot_residuals(axes, cadralazine_data, estimates)\n",
    "fig.suptitle('Estimated Residuals')\n",
    "fig.tight_layout()\n",
    "fig.subplots_adjust(top=0.9)\n",
    "fig.savefig('p3_residuals.pdf', bbox_inches='tight')"
   ]
  },
  {
   "cell_type": "code",
   "execution_count": 9,
   "metadata": {},
   "outputs": [
    {
     "data": {
      "text/html": [
       "<div>\n",
       "<style scoped>\n",
       "    .dataframe tbody tr th:only-of-type {\n",
       "        vertical-align: middle;\n",
       "    }\n",
       "\n",
       "    .dataframe tbody tr th {\n",
       "        vertical-align: top;\n",
       "    }\n",
       "\n",
       "    .dataframe thead th {\n",
       "        text-align: right;\n",
       "    }\n",
       "</style>\n",
       "<table border=\"1\" class=\"dataframe\">\n",
       "  <thead>\n",
       "    <tr style=\"text-align: right;\">\n",
       "      <th></th>\n",
       "      <th>Estimate</th>\n",
       "      <th>Standard error</th>\n",
       "      <th>95\\% CI lower bound</th>\n",
       "      <th>95\\% CI upper bound</th>\n",
       "    </tr>\n",
       "  </thead>\n",
       "  <tbody>\n",
       "    <tr>\n",
       "      <th>Clearance ($Cl$)</th>\n",
       "      <td>2.534595</td>\n",
       "      <td>0.700000</td>\n",
       "      <td>1.162621</td>\n",
       "      <td>3.90657</td>\n",
       "    </tr>\n",
       "    <tr>\n",
       "      <th>Elimination half-life ($x_{1/2}$)</th>\n",
       "      <td>4.556990</td>\n",
       "      <td>0.614409</td>\n",
       "      <td>3.352771</td>\n",
       "      <td>5.76121</td>\n",
       "    </tr>\n",
       "  </tbody>\n",
       "</table>\n",
       "</div>"
      ],
      "text/plain": [
       "                                   Estimate  Standard error  \\\n",
       "Clearance ($Cl$)                   2.534595        0.700000   \n",
       "Elimination half-life ($x_{1/2}$)  4.556990        0.614409   \n",
       "\n",
       "                                   95\\% CI lower bound  95\\% CI upper bound  \n",
       "Clearance ($Cl$)                              1.162621              3.90657  \n",
       "Elimination half-life ($x_{1/2}$)             3.352771              5.76121  "
      ]
     },
     "execution_count": 9,
     "metadata": {},
     "output_type": "execute_result"
    }
   ],
   "source": [
    "def compute_parameters_of_interest(x, V, k_e, sigma_2):\n",
    "    n = len(x)\n",
    "    var_x = np.var(x, ddof=0)\n",
    "    clearance_variance = np.squeeze(sigma_2*np.array([k_e, V]).dot(\n",
    "        np.array([[V*V/n*np.sum(np.square(x)), -V*np.mean(x)], [-V*np.mean(x), 1]]).dot(\n",
    "            [[k_e], [V]]))/n/var_x)\n",
    "    elimination_variance = sigma_2/n/var_x*np.square(np.log(2)/k_e**2)\n",
    "\n",
    "    estimates = np.array([V*k_e, np.log(2)/k_e])\n",
    "    standard_errors = np.sqrt([clearance_variance, elimination_variance])\n",
    "\n",
    "    return pd.DataFrame(collections.OrderedDict([\n",
    "        ('Estimate', estimates),\n",
    "        ('Standard error', standard_errors),\n",
    "        ('95\\% CI lower bound', estimates + standard_errors*stats.norm.ppf((1-0.95)/2)),\n",
    "        ('95\\% CI upper bound', estimates + standard_errors*stats.norm.isf((1-0.95)/2))\n",
    "    ]), index=['Clearance ($Cl$)', 'Elimination half-life ($x_{1/2}$)'])\n",
    "\n",
    "parameters_of_interest = compute_parameters_of_interest(cadralazine_data['time'], *estimates)\n",
    "with open('p3_parameters_of_interest.tex', 'w') as f:\n",
    "    f.write(parameters_of_interest.to_latex(escape=False))\n",
    "parameters_of_interest"
   ]
  }
 ],
 "metadata": {
  "kernelspec": {
   "display_name": "Python 3",
   "language": "python",
   "name": "python3"
  },
  "language_info": {
   "codemirror_mode": {
    "name": "ipython",
    "version": 3
   },
   "file_extension": ".py",
   "mimetype": "text/x-python",
   "name": "python",
   "nbconvert_exporter": "python",
   "pygments_lexer": "ipython3",
   "version": "3.5.2"
  }
 },
 "nbformat": 4,
 "nbformat_minor": 2
}
