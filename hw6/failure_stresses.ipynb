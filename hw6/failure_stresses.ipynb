{
 "cells": [
  {
   "cell_type": "markdown",
   "metadata": {},
   "source": [
    "# Failure Stresses"
   ]
  },
  {
   "cell_type": "code",
   "execution_count": 120,
   "metadata": {},
   "outputs": [
    {
     "data": {
      "text/html": [
       "<div>\n",
       "<style scoped>\n",
       "    .dataframe tbody tr th:only-of-type {\n",
       "        vertical-align: middle;\n",
       "    }\n",
       "\n",
       "    .dataframe tbody tr th {\n",
       "        vertical-align: top;\n",
       "    }\n",
       "\n",
       "    .dataframe thead th {\n",
       "        text-align: right;\n",
       "    }\n",
       "</style>\n",
       "<table border=\"1\" class=\"dataframe\">\n",
       "  <thead>\n",
       "    <tr style=\"text-align: right;\">\n",
       "      <th></th>\n",
       "      <th>0</th>\n",
       "      <th>1</th>\n",
       "      <th>2</th>\n",
       "      <th>3</th>\n",
       "      <th>4</th>\n",
       "      <th>5</th>\n",
       "      <th>6</th>\n",
       "      <th>7</th>\n",
       "      <th>8</th>\n",
       "      <th>9</th>\n",
       "      <th>10</th>\n",
       "      <th>11</th>\n",
       "      <th>12</th>\n",
       "    </tr>\n",
       "    <tr>\n",
       "      <th>Length (mm)</th>\n",
       "      <th></th>\n",
       "      <th></th>\n",
       "      <th></th>\n",
       "      <th></th>\n",
       "      <th></th>\n",
       "      <th></th>\n",
       "      <th></th>\n",
       "      <th></th>\n",
       "      <th></th>\n",
       "      <th></th>\n",
       "      <th></th>\n",
       "      <th></th>\n",
       "      <th></th>\n",
       "    </tr>\n",
       "  </thead>\n",
       "  <tbody>\n",
       "    <tr>\n",
       "      <th>1</th>\n",
       "      <td>2.247</td>\n",
       "      <td>2.640</td>\n",
       "      <td>2.842</td>\n",
       "      <td>2.908</td>\n",
       "      <td>3.099</td>\n",
       "      <td>3.126</td>\n",
       "      <td>3.245</td>\n",
       "      <td>3.328</td>\n",
       "      <td>3.355</td>\n",
       "      <td>3.383</td>\n",
       "      <td>3.572</td>\n",
       "      <td>3.581</td>\n",
       "      <td>3.681</td>\n",
       "    </tr>\n",
       "    <tr>\n",
       "      <th>10</th>\n",
       "      <td>1.901</td>\n",
       "      <td>2.132</td>\n",
       "      <td>2.203</td>\n",
       "      <td>2.228</td>\n",
       "      <td>2.257</td>\n",
       "      <td>2.350</td>\n",
       "      <td>2.361</td>\n",
       "      <td>2.396</td>\n",
       "      <td>2.397</td>\n",
       "      <td>2.445</td>\n",
       "      <td>2.454</td>\n",
       "      <td>2.454</td>\n",
       "      <td>2.474</td>\n",
       "    </tr>\n",
       "    <tr>\n",
       "      <th>20</th>\n",
       "      <td>1.312</td>\n",
       "      <td>1.314</td>\n",
       "      <td>1.479</td>\n",
       "      <td>1.552</td>\n",
       "      <td>1.700</td>\n",
       "      <td>1.803</td>\n",
       "      <td>1.861</td>\n",
       "      <td>1.865</td>\n",
       "      <td>1.944</td>\n",
       "      <td>1.958</td>\n",
       "      <td>1.966</td>\n",
       "      <td>1.997</td>\n",
       "      <td>2.006</td>\n",
       "    </tr>\n",
       "    <tr>\n",
       "      <th>50</th>\n",
       "      <td>1.339</td>\n",
       "      <td>1.434</td>\n",
       "      <td>1.549</td>\n",
       "      <td>1.574</td>\n",
       "      <td>1.589</td>\n",
       "      <td>1.613</td>\n",
       "      <td>1.746</td>\n",
       "      <td>1.753</td>\n",
       "      <td>1.764</td>\n",
       "      <td>1.807</td>\n",
       "      <td>1.812</td>\n",
       "      <td>1.840</td>\n",
       "      <td>1.852</td>\n",
       "    </tr>\n",
       "  </tbody>\n",
       "</table>\n",
       "</div>"
      ],
      "text/plain": [
       "                0      1      2      3      4      5      6      7      8   \\\n",
       "Length (mm)                                                                  \n",
       "1            2.247  2.640  2.842  2.908  3.099  3.126  3.245  3.328  3.355   \n",
       "10           1.901  2.132  2.203  2.228  2.257  2.350  2.361  2.396  2.397   \n",
       "20           1.312  1.314  1.479  1.552  1.700  1.803  1.861  1.865  1.944   \n",
       "50           1.339  1.434  1.549  1.574  1.589  1.613  1.746  1.753  1.764   \n",
       "\n",
       "                9      10     11     12  \n",
       "Length (mm)                              \n",
       "1            3.383  3.572  3.581  3.681  \n",
       "10           2.445  2.454  2.454  2.474  \n",
       "20           1.958  1.966  1.997  2.006  \n",
       "50           1.807  1.812  1.840  1.852  "
      ]
     },
     "execution_count": 120,
     "metadata": {},
     "output_type": "execute_result"
    }
   ],
   "source": [
    "import collections\n",
    "import copy\n",
    "import functools\n",
    "import unittest\n",
    "\n",
    "import matplotlib.pyplot as plt\n",
    "import numpy as np\n",
    "import pandas as pd\n",
    "from scipy import special\n",
    "from scipy import stats\n",
    "import tensorflow as tf\n",
    "import tensorflow_probability as tfp\n",
    "\n",
    "from stat570 import datasets\n",
    "\n",
    "failure_stresses = datasets.failure_stresses.load_data()\n",
    "failure_stresses"
   ]
  },
  {
   "cell_type": "markdown",
   "metadata": {},
   "source": [
    "## Model Specification\n",
    "\n",
    "We specify priors for the scale, $\\alpha \\sim \\operatorname{LogNormal}\\left(\\mu_\\alpha, \\sigma_\\alpha\\right)$, and the concentration (or shape), $\\eta \\sim \\operatorname{LogNormal}\\left(\\mu_\\eta, \\sigma_\\eta\\right)$ for Weibull distribution: $Y \\sim \\operatorname{Weibull}\\left(\\alpha,\\eta\\right)$."
   ]
  },
  {
   "cell_type": "code",
   "execution_count": 97,
   "metadata": {},
   "outputs": [],
   "source": [
    "class WeibullModel:\n",
    "    def __init__(self,\n",
    "                 prior_alpha_mean, prior_alpha_standard_deviation,\n",
    "                 prior_eta_mean, prior_eta_standard_deviation) -> None:\n",
    "        self._prior_alpha_mean = prior_alpha_mean\n",
    "        self._prior_alpha_standard_deviation = prior_alpha_standard_deviation\n",
    "        self._prior_eta_mean = prior_eta_mean\n",
    "        self._prior_eta_standard_deviation = prior_eta_standard_deviation\n",
    "    \n",
    "    def __call__(self, shape=()):\n",
    "        alpha = tfp.edward2.as_random_variable(tfp.distributions.LogNormal(\n",
    "            loc=self._prior_alpha_mean,\n",
    "            scale=self._prior_alpha_standard_deviation,\n",
    "            name='alpha'))\n",
    "        \n",
    "        eta = tfp.edward2.as_random_variable(tfp.distributions.LogNormal(\n",
    "            loc=self._prior_eta_mean,\n",
    "            scale=self._prior_eta_standard_deviation,\n",
    "            name='eta'))\n",
    "        \n",
    "        return tfp.edward2.as_random_variable(tfp.distributions.TransformedDistribution(\n",
    "            distribution=tfp.distributions.Uniform(high=1. + 1e-7),\n",
    "            bijector=tfp.bijectors.Invert(\n",
    "                tfp.bijectors.Weibull(scale=alpha, concentration=eta)),\n",
    "            name='response'), sample_shape=shape)\n",
    "    \n",
    "    def make_log_joint_fn(self, labels):\n",
    "        return functools.partial(\n",
    "            tfp.edward2.make_log_joint_fn(lambda: self(tf.shape(labels))),\n",
    "            response=labels)"
   ]
  },
  {
   "cell_type": "markdown",
   "metadata": {},
   "source": [
    "## Inference\n",
    "\n",
    "We construct a posterior over the model parameters and sample with MCMC to do inference on the parameters."
   ]
  },
  {
   "cell_type": "code",
   "execution_count": 110,
   "metadata": {},
   "outputs": [],
   "source": [
    "def model_fn(features, labels, mode, params, config):\n",
    "    del features, config\n",
    "    \n",
    "    prior_alpha_mean = tf.convert_to_tensor(params['prior']['alpha']['mean'], tf.float32)\n",
    "    prior_eta_mean = tf.convert_to_tensor(params['prior']['eta']['mean'], tf.float32)\n",
    "    model = WeibullModel(\n",
    "        prior_alpha_mean, tf.convert_to_tensor(params['prior']['alpha']['standard_deviation'], tf.float32),\n",
    "        prior_eta_mean, tf.convert_to_tensor(params['prior']['eta']['standard_deviation'], tf.float32))\n",
    "    \n",
    "    if mode == tf.estimator.ModeKeys.PREDICT:\n",
    "        return model().value\n",
    "    \n",
    "    log_joint_fn = model.make_log_joint_fn(labels)\n",
    "    if mode == tf.estimator.ModeKeys.EVAL:\n",
    "        return log_joint_fn(alpha=prior_alpha_mean, eta=prior_eta_mean)\n",
    "    \n",
    "    assert mode == tf.estimator.ModeKeys.TRAIN\n",
    "        \n",
    "    kernel = tfp.mcmc.HamiltonianMonteCarlo(\n",
    "        num_leapfrog_steps=params['mcmc']['num_leapfrog_steps'],\n",
    "        step_size=tf.get_variable('hmc_step_size_{}'.format(params['replica']),\n",
    "                                  initializer=params['mcmc']['step_size'],\n",
    "                                  use_resource=True, trainable=False),\n",
    "        step_size_update_fn=tfp.mcmc.make_simple_step_size_update_policy(),\n",
    "        target_log_prob_fn=lambda alpha, eta: log_joint_fn(alpha=alpha, eta=eta),\n",
    "        seed=params['mcmc']['seed'])\n",
    "    \n",
    "    states, _ = tfp.mcmc.sample_chain(\n",
    "        kernel=kernel,  \n",
    "        current_state=(\n",
    "            tf.convert_to_tensor(params['mcmc']['initial_state']['alpha'], tf.float32),\n",
    "            tf.convert_to_tensor(params['mcmc']['initial_state']['eta'], tf.float32)),\n",
    "        num_results=params['mcmc']['num_results'],\n",
    "        num_burnin_steps=params['mcmc']['num_burnin_steps'],\n",
    "        num_steps_between_results=params['mcmc']['num_steps_between_results'],\n",
    "        parallel_iterations=1)\n",
    "    return states"
   ]
  },
  {
   "cell_type": "markdown",
   "metadata": {},
   "source": [
    "## Choosing Prior Hyperparameters"
   ]
  },
  {
   "cell_type": "code",
   "execution_count": 111,
   "metadata": {},
   "outputs": [
    {
     "name": "stderr",
     "output_type": "stream",
     "text": [
      ".\n",
      "----------------------------------------------------------------------\n",
      "Ran 1 test in 0.004s\n",
      "\n",
      "OK\n"
     ]
    }
   ],
   "source": [
    "def compute_log_norm_prior(l, u, density):\n",
    "    \"\"\"Computes the hyperparameters for lognormal distribution.\n",
    "    \n",
    "    Let X = exp(mu + sigma*Z). Computes mu and sigma such that\n",
    "    P(l <= X <= u) = density.\n",
    "    \"\"\"\n",
    "    tail_density = (1 - density)/2\n",
    "    a, b = stats.norm.ppf(tail_density), stats.norm.ppf(1 - tail_density)    \n",
    "    sigma = np.log(u/l)/(b - a)\n",
    "    mu = np.log(u) - b*sigma\n",
    "    return mu, sigma\n",
    "\n",
    "class ComputeLogNormPrior(unittest.TestCase):    \n",
    "    def test_compute_log_norm_prior(self):\n",
    "        l, u = stats.uniform.rvs(0, 10), stats.uniform.rvs(20, 30)\n",
    "        mu, sigma = compute_log_norm_prior(l, u, 0.9)\n",
    "        self.assertAlmostEqual(\n",
    "            stats.lognorm.cdf(l, scale=np.exp(mu), s=sigma), 0.05)\n",
    "        self.assertAlmostEqual(\n",
    "            stats.lognorm.sf(u, scale=np.exp(mu), s=sigma), 0.05)\n",
    "\n",
    "unittest.main(argv=['_'], exit=False);"
   ]
  },
  {
   "cell_type": "markdown",
   "metadata": {},
   "source": [
    "We choose parameters with the values in the homework."
   ]
  },
  {
   "cell_type": "code",
   "execution_count": 118,
   "metadata": {},
   "outputs": [
    {
     "data": {
      "text/plain": [
       "{'mcmc': {'initial_state': {'alpha': 1.7798272858229207,\n",
       "   'eta': 7.990013271262216},\n",
       "  'num_burnin_steps': 512,\n",
       "  'num_leapfrog_steps': 3,\n",
       "  'num_results': 2048,\n",
       "  'num_steps_between_results': 2,\n",
       "  'seed': 2018,\n",
       "  'step_size': 0.01},\n",
       " 'prior': {'alpha': {'mean': 0.6931471805599454,\n",
       "   'standard_deviation': 0.4214035639417993},\n",
       "  'eta': {'mean': 1.3540251005511053,\n",
       "   'standard_deviation': 1.2445923744018637}},\n",
       " 'replica': '0'}"
      ]
     },
     "execution_count": 118,
     "metadata": {},
     "output_type": "execute_result"
    }
   ],
   "source": [
    "PARAMS = {\n",
    "    'prior': {\n",
    "        'eta': {'mean': 0., 'standard_deviation': 1.},\n",
    "        'alpha': {'mean': 0., 'standard_deviation': 1.},\n",
    "    },\n",
    "    'mcmc': {\n",
    "        'num_burnin_steps': 512,\n",
    "        'num_leapfrog_steps': 3,\n",
    "        'num_results': 2048,\n",
    "        'num_steps_between_results': 2,\n",
    "        'step_size': 1e-2,\n",
    "        'initial_state': {\n",
    "            'alpha': 3.5,\n",
    "            'eta': 9.,\n",
    "        },\n",
    "        'seed': 2018,\n",
    "    },\n",
    "    'replica': '0',\n",
    "}\n",
    "\n",
    "# Specify priors according to tail probabilities.\n",
    "PARAMS['prior']['alpha']['mean'], PARAMS['prior']['alpha']['standard_deviation'] = (\n",
    "    compute_log_norm_prior(1., 4., 0.9))\n",
    "PARAMS['prior']['eta']['mean'], PARAMS['prior']['eta']['standard_deviation'] = (\n",
    "    compute_log_norm_prior(1./2., 30., 0.9))\n",
    "# Generate an initial state from the priors.\n",
    "np.random.seed(PARAMS['mcmc']['seed'])\n",
    "PARAMS['mcmc']['initial_state']['alpha'] = stats.lognorm.rvs(\n",
    "    scale=np.exp(PARAMS['prior']['alpha']['mean']),\n",
    "    s=PARAMS['prior']['alpha']['standard_deviation'])\n",
    "PARAMS['mcmc']['initial_state']['eta'] = stats.lognorm.rvs(\n",
    "    scale=np.exp(PARAMS['prior']['eta']['mean']),\n",
    "    s=PARAMS['prior']['eta']['standard_deviation'])\n",
    "\n",
    "PARAMS"
   ]
  },
  {
   "cell_type": "markdown",
   "metadata": {},
   "source": [
    "## Running the Chains\n",
    "\n",
    "We create a chain for each row data and run the chains in parallel."
   ]
  },
  {
   "cell_type": "code",
   "execution_count": 144,
   "metadata": {},
   "outputs": [],
   "source": [
    "from tensorflow.python import debug as tf_debug\n",
    "\n",
    "np.set_printoptions(suppress=True)\n",
    "\n",
    "def get_params(replica):\n",
    "    params = copy.deepcopy(PARAMS)\n",
    "    params['replica'] = replica\n",
    "    return params\n",
    "\n",
    "graph = tf.Graph()\n",
    "with graph.as_default():\n",
    "    features = tf.placeholder(name='features', dtype=tf.float32, shape=(None))\n",
    "    labels_dict = {\n",
    "        idx: tf.constant(data.values.astype(np.float32))\n",
    "        for idx, data in failure_stresses.iterrows()\n",
    "    }\n",
    "    chain_ops = {\n",
    "        idx: model_fn(features, labels, tf.estimator.ModeKeys.TRAIN,\n",
    "                      get_params('train_{}'.format(idx)), tf.estimator.RunConfig())\n",
    "        for idx, labels in labels_dict.items()\n",
    "    }\n",
    "    init_op = tf.group(tf.global_variables_initializer())\n",
    "graph.finalize()\n",
    "\n",
    "with graph.as_default(), tf.Session() as sess:\n",
    "    sess.run(init_op)\n",
    "    states = sess.run(chain_ops)"
   ]
  },
  {
   "cell_type": "code",
   "execution_count": 145,
   "metadata": {},
   "outputs": [],
   "source": [
    "states = pd.DataFrame(np.vstack(states.values()).T,\n",
    "                      columns=pd.MultiIndex.from_product(\n",
    "                          [states.keys(), ['$\\\\alpha$', '$\\\\eta$']],\n",
    "                          names=['Length (mm)', 'Parameter']))"
   ]
  },
  {
   "cell_type": "code",
   "execution_count": 153,
   "metadata": {},
   "outputs": [
    {
     "data": {
      "text/html": [
       "<div>\n",
       "<style scoped>\n",
       "    .dataframe tbody tr th:only-of-type {\n",
       "        vertical-align: middle;\n",
       "    }\n",
       "\n",
       "    .dataframe tbody tr th {\n",
       "        vertical-align: top;\n",
       "    }\n",
       "\n",
       "    .dataframe thead th {\n",
       "        text-align: right;\n",
       "    }\n",
       "</style>\n",
       "<table border=\"1\" class=\"dataframe\">\n",
       "  <thead>\n",
       "    <tr style=\"text-align: right;\">\n",
       "      <th></th>\n",
       "      <th></th>\n",
       "      <th>Posterior mean</th>\n",
       "      <th>Posterior median</th>\n",
       "      <th>5% quantile</th>\n",
       "      <th>95% quantile</th>\n",
       "    </tr>\n",
       "    <tr>\n",
       "      <th>Length (mm)</th>\n",
       "      <th>Parameter</th>\n",
       "      <th></th>\n",
       "      <th></th>\n",
       "      <th></th>\n",
       "      <th></th>\n",
       "    </tr>\n",
       "  </thead>\n",
       "  <tbody>\n",
       "    <tr>\n",
       "      <th rowspan=\"2\" valign=\"top\">1</th>\n",
       "      <th>$\\alpha$</th>\n",
       "      <td>3.311466</td>\n",
       "      <td>3.314193</td>\n",
       "      <td>3.121779</td>\n",
       "      <td>3.494822</td>\n",
       "    </tr>\n",
       "    <tr>\n",
       "      <th>$\\eta$</th>\n",
       "      <td>9.015710</td>\n",
       "      <td>8.916229</td>\n",
       "      <td>5.934068</td>\n",
       "      <td>12.694072</td>\n",
       "    </tr>\n",
       "    <tr>\n",
       "      <th rowspan=\"2\" valign=\"top\">10</th>\n",
       "      <th>$\\alpha$</th>\n",
       "      <td>2.370603</td>\n",
       "      <td>2.369013</td>\n",
       "      <td>2.292519</td>\n",
       "      <td>2.450548</td>\n",
       "    </tr>\n",
       "    <tr>\n",
       "      <th>$\\eta$</th>\n",
       "      <td>14.950272</td>\n",
       "      <td>14.593380</td>\n",
       "      <td>9.399714</td>\n",
       "      <td>21.214439</td>\n",
       "    </tr>\n",
       "    <tr>\n",
       "      <th rowspan=\"2\" valign=\"top\">20</th>\n",
       "      <th>$\\alpha$</th>\n",
       "      <td>1.854666</td>\n",
       "      <td>1.855238</td>\n",
       "      <td>1.738347</td>\n",
       "      <td>1.968997</td>\n",
       "    </tr>\n",
       "    <tr>\n",
       "      <th>$\\eta$</th>\n",
       "      <td>8.104780</td>\n",
       "      <td>8.063134</td>\n",
       "      <td>5.343274</td>\n",
       "      <td>11.050812</td>\n",
       "    </tr>\n",
       "    <tr>\n",
       "      <th rowspan=\"2\" valign=\"top\">50</th>\n",
       "      <th>$\\alpha$</th>\n",
       "      <td>1.735096</td>\n",
       "      <td>1.735402</td>\n",
       "      <td>1.660220</td>\n",
       "      <td>1.809047</td>\n",
       "    </tr>\n",
       "    <tr>\n",
       "      <th>$\\eta$</th>\n",
       "      <td>11.215545</td>\n",
       "      <td>11.451363</td>\n",
       "      <td>7.413225</td>\n",
       "      <td>14.654419</td>\n",
       "    </tr>\n",
       "  </tbody>\n",
       "</table>\n",
       "</div>"
      ],
      "text/plain": [
       "                       Posterior mean  Posterior median  5% quantile  \\\n",
       "Length (mm) Parameter                                                  \n",
       "1           $\\alpha$         3.311466          3.314193     3.121779   \n",
       "            $\\eta$           9.015710          8.916229     5.934068   \n",
       "10          $\\alpha$         2.370603          2.369013     2.292519   \n",
       "            $\\eta$          14.950272         14.593380     9.399714   \n",
       "20          $\\alpha$         1.854666          1.855238     1.738347   \n",
       "            $\\eta$           8.104780          8.063134     5.343274   \n",
       "50          $\\alpha$         1.735096          1.735402     1.660220   \n",
       "            $\\eta$          11.215545         11.451363     7.413225   \n",
       "\n",
       "                       95% quantile  \n",
       "Length (mm) Parameter                \n",
       "1           $\\alpha$       3.494822  \n",
       "            $\\eta$        12.694072  \n",
       "10          $\\alpha$       2.450548  \n",
       "            $\\eta$        21.214439  \n",
       "20          $\\alpha$       1.968997  \n",
       "            $\\eta$        11.050812  \n",
       "50          $\\alpha$       1.809047  \n",
       "            $\\eta$        14.654419  "
      ]
     },
     "execution_count": 153,
     "metadata": {},
     "output_type": "execute_result"
    }
   ],
   "source": [
    "summaries = pd.DataFrame(collections.OrderedDict([\n",
    "    ('Posterior mean', states.mean()),\n",
    "    ('Posterior median', states.median()),\n",
    "    ('5% quantile', states.quantile(0.05)),\n",
    "    ('95% quantile', states.quantile(0.95))\n",
    "]))\n",
    "summaries"
   ]
  },
  {
   "cell_type": "code",
   "execution_count": 115,
   "metadata": {},
   "outputs": [
    {
     "data": {
      "text/plain": [
       "0     2.247\n",
       "1     2.640\n",
       "2     2.842\n",
       "3     2.908\n",
       "4     3.099\n",
       "5     3.126\n",
       "6     3.245\n",
       "7     3.328\n",
       "8     3.355\n",
       "9     3.383\n",
       "10    3.572\n",
       "11    3.581\n",
       "12    3.681\n",
       "Name: 1, dtype: float64"
      ]
     },
     "execution_count": 115,
     "metadata": {},
     "output_type": "execute_result"
    }
   ],
   "source": [
    "failure_stresses.loc[1]"
   ]
  },
  {
   "cell_type": "code",
   "execution_count": null,
   "metadata": {},
   "outputs": [],
   "source": []
  },
  {
   "cell_type": "code",
   "execution_count": 124,
   "metadata": {},
   "outputs": [
    {
     "name": "stdout",
     "output_type": "stream",
     "text": [
      "1 3.1305249 [3.3114686 9.015717 ]\n",
      "10 2.285112 [ 2.370602 14.950271]\n",
      "20 1.744827 [1.8546654 8.10478  ]\n",
      "50 1.656504 [ 1.7350941 11.21555  ]\n"
     ]
    }
   ],
   "source": [
    "for i, samples in states.items():\n",
    "    print(i, np.mean(samples[0]*special.gamma(1 + 1/samples[1])), np.mean(samples, axis=-1))"
   ]
  },
  {
   "cell_type": "code",
   "execution_count": 117,
   "metadata": {},
   "outputs": [
    {
     "data": {
      "text/plain": [
       "[<matplotlib.lines.Line2D at 0x7f744d78a128>]"
      ]
     },
     "execution_count": 117,
     "metadata": {},
     "output_type": "execute_result"
    },
    {
     "data": {
      "image/png": "[encoded data removed]",
      "text/plain": [
       "<Figure size 432x288 with 1 Axes>"
      ]
     },
     "metadata": {
      "needs_background": "light"
     },
     "output_type": "display_data"
    }
   ],
   "source": [
    "plt.plot(states[1][0])"
   ]
  }
 ],
 "metadata": {
  "kernelspec": {
   "display_name": "Python 3",
   "language": "python",
   "name": "python3"
  },
  "language_info": {
   "codemirror_mode": {
    "name": "ipython",
    "version": 3
   },
   "file_extension": ".py",
   "mimetype": "text/x-python",
   "name": "python",
   "nbconvert_exporter": "python",
   "pygments_lexer": "ipython3",
   "version": "3.5.2"
  }
 },
 "nbformat": 4,
 "nbformat_minor": 2
}
