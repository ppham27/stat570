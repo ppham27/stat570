{
 "cells": [
  {
   "cell_type": "markdown",
   "metadata": {},
   "source": [
    "# Mental Impairment\n",
    "\n",
    "In this notebook, we examine the relationship between mental impairment, socioeconomic status (SES), and life events for 40 subjects."
   ]
  },
  {
   "cell_type": "markdown",
   "metadata": {},
   "source": [
    "## Exploratory Analysis"
   ]
  },
  {
   "cell_type": "code",
   "execution_count": 1,
   "metadata": {},
   "outputs": [
    {
     "data": {
      "text/html": [
       "<div>\n",
       "<style scoped>\n",
       "    .dataframe tbody tr th:only-of-type {\n",
       "        vertical-align: middle;\n",
       "    }\n",
       "\n",
       "    .dataframe tbody tr th {\n",
       "        vertical-align: top;\n",
       "    }\n",
       "\n",
       "    .dataframe thead th {\n",
       "        text-align: right;\n",
       "    }\n",
       "</style>\n",
       "<table border=\"1\" class=\"dataframe\">\n",
       "  <thead>\n",
       "    <tr style=\"text-align: right;\">\n",
       "      <th></th>\n",
       "      <th>Mental Impairment</th>\n",
       "      <th>SES</th>\n",
       "      <th>Life Events</th>\n",
       "      <th>Impaired</th>\n",
       "    </tr>\n",
       "    <tr>\n",
       "      <th>Subject</th>\n",
       "      <th></th>\n",
       "      <th></th>\n",
       "      <th></th>\n",
       "      <th></th>\n",
       "    </tr>\n",
       "  </thead>\n",
       "  <tbody>\n",
       "    <tr>\n",
       "      <th>1</th>\n",
       "      <td>Well</td>\n",
       "      <td>1</td>\n",
       "      <td>1</td>\n",
       "      <td>False</td>\n",
       "    </tr>\n",
       "    <tr>\n",
       "      <th>2</th>\n",
       "      <td>Well</td>\n",
       "      <td>1</td>\n",
       "      <td>9</td>\n",
       "      <td>False</td>\n",
       "    </tr>\n",
       "    <tr>\n",
       "      <th>3</th>\n",
       "      <td>Well</td>\n",
       "      <td>1</td>\n",
       "      <td>4</td>\n",
       "      <td>False</td>\n",
       "    </tr>\n",
       "    <tr>\n",
       "      <th>4</th>\n",
       "      <td>Well</td>\n",
       "      <td>1</td>\n",
       "      <td>3</td>\n",
       "      <td>False</td>\n",
       "    </tr>\n",
       "    <tr>\n",
       "      <th>5</th>\n",
       "      <td>Well</td>\n",
       "      <td>0</td>\n",
       "      <td>2</td>\n",
       "      <td>False</td>\n",
       "    </tr>\n",
       "    <tr>\n",
       "      <th>6</th>\n",
       "      <td>Well</td>\n",
       "      <td>1</td>\n",
       "      <td>0</td>\n",
       "      <td>False</td>\n",
       "    </tr>\n",
       "    <tr>\n",
       "      <th>7</th>\n",
       "      <td>Well</td>\n",
       "      <td>0</td>\n",
       "      <td>1</td>\n",
       "      <td>False</td>\n",
       "    </tr>\n",
       "    <tr>\n",
       "      <th>8</th>\n",
       "      <td>Well</td>\n",
       "      <td>1</td>\n",
       "      <td>3</td>\n",
       "      <td>False</td>\n",
       "    </tr>\n",
       "    <tr>\n",
       "      <th>9</th>\n",
       "      <td>Well</td>\n",
       "      <td>1</td>\n",
       "      <td>3</td>\n",
       "      <td>False</td>\n",
       "    </tr>\n",
       "    <tr>\n",
       "      <th>10</th>\n",
       "      <td>Well</td>\n",
       "      <td>1</td>\n",
       "      <td>7</td>\n",
       "      <td>False</td>\n",
       "    </tr>\n",
       "    <tr>\n",
       "      <th>11</th>\n",
       "      <td>Well</td>\n",
       "      <td>0</td>\n",
       "      <td>1</td>\n",
       "      <td>False</td>\n",
       "    </tr>\n",
       "    <tr>\n",
       "      <th>12</th>\n",
       "      <td>Well</td>\n",
       "      <td>0</td>\n",
       "      <td>2</td>\n",
       "      <td>False</td>\n",
       "    </tr>\n",
       "    <tr>\n",
       "      <th>13</th>\n",
       "      <td>Mild</td>\n",
       "      <td>1</td>\n",
       "      <td>5</td>\n",
       "      <td>False</td>\n",
       "    </tr>\n",
       "    <tr>\n",
       "      <th>14</th>\n",
       "      <td>Mild</td>\n",
       "      <td>0</td>\n",
       "      <td>6</td>\n",
       "      <td>False</td>\n",
       "    </tr>\n",
       "    <tr>\n",
       "      <th>15</th>\n",
       "      <td>Mild</td>\n",
       "      <td>1</td>\n",
       "      <td>3</td>\n",
       "      <td>False</td>\n",
       "    </tr>\n",
       "    <tr>\n",
       "      <th>16</th>\n",
       "      <td>Mild</td>\n",
       "      <td>0</td>\n",
       "      <td>1</td>\n",
       "      <td>False</td>\n",
       "    </tr>\n",
       "    <tr>\n",
       "      <th>17</th>\n",
       "      <td>Mild</td>\n",
       "      <td>1</td>\n",
       "      <td>8</td>\n",
       "      <td>False</td>\n",
       "    </tr>\n",
       "    <tr>\n",
       "      <th>18</th>\n",
       "      <td>Mild</td>\n",
       "      <td>1</td>\n",
       "      <td>2</td>\n",
       "      <td>False</td>\n",
       "    </tr>\n",
       "    <tr>\n",
       "      <th>19</th>\n",
       "      <td>Mild</td>\n",
       "      <td>0</td>\n",
       "      <td>5</td>\n",
       "      <td>False</td>\n",
       "    </tr>\n",
       "    <tr>\n",
       "      <th>20</th>\n",
       "      <td>Mild</td>\n",
       "      <td>1</td>\n",
       "      <td>5</td>\n",
       "      <td>False</td>\n",
       "    </tr>\n",
       "    <tr>\n",
       "      <th>21</th>\n",
       "      <td>Mild</td>\n",
       "      <td>1</td>\n",
       "      <td>9</td>\n",
       "      <td>False</td>\n",
       "    </tr>\n",
       "    <tr>\n",
       "      <th>22</th>\n",
       "      <td>Mild</td>\n",
       "      <td>0</td>\n",
       "      <td>3</td>\n",
       "      <td>False</td>\n",
       "    </tr>\n",
       "    <tr>\n",
       "      <th>23</th>\n",
       "      <td>Mild</td>\n",
       "      <td>1</td>\n",
       "      <td>3</td>\n",
       "      <td>False</td>\n",
       "    </tr>\n",
       "    <tr>\n",
       "      <th>24</th>\n",
       "      <td>Mild</td>\n",
       "      <td>1</td>\n",
       "      <td>1</td>\n",
       "      <td>False</td>\n",
       "    </tr>\n",
       "    <tr>\n",
       "      <th>25</th>\n",
       "      <td>Moderate</td>\n",
       "      <td>0</td>\n",
       "      <td>0</td>\n",
       "      <td>True</td>\n",
       "    </tr>\n",
       "    <tr>\n",
       "      <th>26</th>\n",
       "      <td>Moderate</td>\n",
       "      <td>1</td>\n",
       "      <td>4</td>\n",
       "      <td>True</td>\n",
       "    </tr>\n",
       "    <tr>\n",
       "      <th>27</th>\n",
       "      <td>Moderate</td>\n",
       "      <td>0</td>\n",
       "      <td>3</td>\n",
       "      <td>True</td>\n",
       "    </tr>\n",
       "    <tr>\n",
       "      <th>28</th>\n",
       "      <td>Moderate</td>\n",
       "      <td>0</td>\n",
       "      <td>9</td>\n",
       "      <td>True</td>\n",
       "    </tr>\n",
       "    <tr>\n",
       "      <th>29</th>\n",
       "      <td>Moderate</td>\n",
       "      <td>1</td>\n",
       "      <td>6</td>\n",
       "      <td>True</td>\n",
       "    </tr>\n",
       "    <tr>\n",
       "      <th>30</th>\n",
       "      <td>Moderate</td>\n",
       "      <td>0</td>\n",
       "      <td>4</td>\n",
       "      <td>True</td>\n",
       "    </tr>\n",
       "    <tr>\n",
       "      <th>31</th>\n",
       "      <td>Moderate</td>\n",
       "      <td>0</td>\n",
       "      <td>3</td>\n",
       "      <td>True</td>\n",
       "    </tr>\n",
       "    <tr>\n",
       "      <th>32</th>\n",
       "      <td>Impaired</td>\n",
       "      <td>1</td>\n",
       "      <td>8</td>\n",
       "      <td>True</td>\n",
       "    </tr>\n",
       "    <tr>\n",
       "      <th>33</th>\n",
       "      <td>Impaired</td>\n",
       "      <td>1</td>\n",
       "      <td>2</td>\n",
       "      <td>True</td>\n",
       "    </tr>\n",
       "    <tr>\n",
       "      <th>34</th>\n",
       "      <td>Impaired</td>\n",
       "      <td>1</td>\n",
       "      <td>7</td>\n",
       "      <td>True</td>\n",
       "    </tr>\n",
       "    <tr>\n",
       "      <th>35</th>\n",
       "      <td>Impaired</td>\n",
       "      <td>0</td>\n",
       "      <td>5</td>\n",
       "      <td>True</td>\n",
       "    </tr>\n",
       "    <tr>\n",
       "      <th>36</th>\n",
       "      <td>Impaired</td>\n",
       "      <td>0</td>\n",
       "      <td>4</td>\n",
       "      <td>True</td>\n",
       "    </tr>\n",
       "    <tr>\n",
       "      <th>37</th>\n",
       "      <td>Impaired</td>\n",
       "      <td>0</td>\n",
       "      <td>4</td>\n",
       "      <td>True</td>\n",
       "    </tr>\n",
       "    <tr>\n",
       "      <th>38</th>\n",
       "      <td>Impaired</td>\n",
       "      <td>1</td>\n",
       "      <td>8</td>\n",
       "      <td>True</td>\n",
       "    </tr>\n",
       "    <tr>\n",
       "      <th>39</th>\n",
       "      <td>Impaired</td>\n",
       "      <td>0</td>\n",
       "      <td>8</td>\n",
       "      <td>True</td>\n",
       "    </tr>\n",
       "    <tr>\n",
       "      <th>40</th>\n",
       "      <td>Impaired</td>\n",
       "      <td>0</td>\n",
       "      <td>9</td>\n",
       "      <td>True</td>\n",
       "    </tr>\n",
       "  </tbody>\n",
       "</table>\n",
       "</div>"
      ],
      "text/plain": [
       "        Mental Impairment  SES  Life Events  Impaired\n",
       "Subject                                              \n",
       "1                    Well    1            1     False\n",
       "2                    Well    1            9     False\n",
       "3                    Well    1            4     False\n",
       "4                    Well    1            3     False\n",
       "5                    Well    0            2     False\n",
       "6                    Well    1            0     False\n",
       "7                    Well    0            1     False\n",
       "8                    Well    1            3     False\n",
       "9                    Well    1            3     False\n",
       "10                   Well    1            7     False\n",
       "11                   Well    0            1     False\n",
       "12                   Well    0            2     False\n",
       "13                   Mild    1            5     False\n",
       "14                   Mild    0            6     False\n",
       "15                   Mild    1            3     False\n",
       "16                   Mild    0            1     False\n",
       "17                   Mild    1            8     False\n",
       "18                   Mild    1            2     False\n",
       "19                   Mild    0            5     False\n",
       "20                   Mild    1            5     False\n",
       "21                   Mild    1            9     False\n",
       "22                   Mild    0            3     False\n",
       "23                   Mild    1            3     False\n",
       "24                   Mild    1            1     False\n",
       "25               Moderate    0            0      True\n",
       "26               Moderate    1            4      True\n",
       "27               Moderate    0            3      True\n",
       "28               Moderate    0            9      True\n",
       "29               Moderate    1            6      True\n",
       "30               Moderate    0            4      True\n",
       "31               Moderate    0            3      True\n",
       "32               Impaired    1            8      True\n",
       "33               Impaired    1            2      True\n",
       "34               Impaired    1            7      True\n",
       "35               Impaired    0            5      True\n",
       "36               Impaired    0            4      True\n",
       "37               Impaired    0            4      True\n",
       "38               Impaired    1            8      True\n",
       "39               Impaired    0            8      True\n",
       "40               Impaired    0            9      True"
      ]
     },
     "execution_count": 1,
     "metadata": {},
     "output_type": "execute_result"
    }
   ],
   "source": [
    "import matplotlib.pyplot as plt\n",
    "import numpy as np\n",
    "import pandas as pd\n",
    "import seaborn as sns\n",
    "\n",
    "np.set_printoptions(suppress=True)\n",
    "\n",
    "mental_impairment_data = pd.DataFrame([\n",
    "    (1, 'Well', 1, 1),\n",
    "    (2, 'Well', 1, 9),\n",
    "    (3, 'Well', 1, 4),\n",
    "    (4, 'Well', 1, 3),\n",
    "    (5, 'Well', 0, 2),\n",
    "    (6, 'Well', 1, 0),\n",
    "    (7, 'Well', 0, 1),\n",
    "    (8, 'Well', 1, 3),\n",
    "    (9, 'Well', 1, 3),\n",
    "    (10, 'Well', 1, 7),\n",
    "    (11, 'Well', 0, 1),\n",
    "    (12, 'Well', 0, 2),\n",
    "    (13, 'Mild', 1, 5),\n",
    "    (14, 'Mild', 0, 6),\n",
    "    (15, 'Mild', 1, 3),\n",
    "    (16, 'Mild', 0, 1),\n",
    "    (17, 'Mild', 1, 8),\n",
    "    (18, 'Mild', 1, 2),\n",
    "    (19, 'Mild', 0, 5),\n",
    "    (20, 'Mild', 1, 5),\n",
    "    (21, 'Mild', 1, 9),\n",
    "    (22, 'Mild', 0, 3),\n",
    "    (23, 'Mild', 1, 3),\n",
    "    (24, 'Mild', 1, 1),\n",
    "    (25, 'Moderate', 0, 0),\n",
    "    (26, 'Moderate', 1, 4),\n",
    "    (27, 'Moderate', 0, 3),\n",
    "    (28, 'Moderate', 0, 9),\n",
    "    (29, 'Moderate', 1, 6),\n",
    "    (30, 'Moderate', 0, 4),\n",
    "    (31, 'Moderate', 0, 3),\n",
    "    (32, 'Impaired', 1, 8),\n",
    "    (33, 'Impaired', 1, 2),\n",
    "    (34, 'Impaired', 1, 7),\n",
    "    (35, 'Impaired', 0, 5),\n",
    "    (36, 'Impaired', 0, 4),\n",
    "    (37, 'Impaired', 0, 4),\n",
    "    (38, 'Impaired', 1, 8),\n",
    "    (39, 'Impaired', 0, 8),\n",
    "    (40, 'Impaired', 0, 9),\n",
    "], columns=['Subject', 'Mental Impairment', 'SES', 'Life Events'])\n",
    "\n",
    "mental_impairment_data = mental_impairment_data.set_index('Subject')\n",
    "mental_impairment_data.to_csv('mental_impairment.csv')\n",
    "with open('p1_data.tex', 'w') as f:\n",
    "    f.write(mental_impairment_data.reset_index().to_latex(index=False))\n",
    "mental_impairment_data['Impaired'] = np.isin(\n",
    "    mental_impairment_data['Mental Impairment'].values, ['Moderate', 'Impaired'])\n",
    "mental_impairment_data"
   ]
  },
  {
   "cell_type": "code",
   "execution_count": 2,
   "metadata": {},
   "outputs": [
    {
     "data": {
      "image/png": "[encoded data removed]",
      "text/plain": [
       "<Figure size 360x288 with 1 Axes>"
      ]
     },
     "metadata": {
      "needs_background": "light"
     },
     "output_type": "display_data"
    }
   ],
   "source": [
    "fig = plt.figure(figsize=(5,4))\n",
    "ax = fig.gca()\n",
    "ax.grid(True)\n",
    "sns.boxplot(x='SES', y='Life Events', hue='Impaired', data=mental_impairment_data, ax=ax)\n",
    "fig.tight_layout()\n",
    "fig.savefig('p1_descriptive.pdf', bbox_inches='tight')"
   ]
  },
  {
   "cell_type": "markdown",
   "metadata": {},
   "source": [
    "## Logistic Model"
   ]
  },
  {
   "cell_type": "code",
   "execution_count": 3,
   "metadata": {},
   "outputs": [],
   "source": [
    "import collections\n",
    "\n",
    "from scipy import linalg\n",
    "from scipy import optimize\n",
    "from scipy import special\n",
    "from scipy import stats\n",
    "\n",
    "X = np.column_stack((\n",
    "    np.ones_like(mental_impairment_data['Impaired']), mental_impairment_data[['SES', 'Life Events']]))\n",
    "z = mental_impairment_data['Impaired'].values.astype(np.int64)"
   ]
  },
  {
   "cell_type": "code",
   "execution_count": 4,
   "metadata": {},
   "outputs": [
    {
     "data": {
      "text/html": [
       "<div>\n",
       "<style scoped>\n",
       "    .dataframe tbody tr th:only-of-type {\n",
       "        vertical-align: middle;\n",
       "    }\n",
       "\n",
       "    .dataframe tbody tr th {\n",
       "        vertical-align: top;\n",
       "    }\n",
       "\n",
       "    .dataframe thead th {\n",
       "        text-align: right;\n",
       "    }\n",
       "</style>\n",
       "<table border=\"1\" class=\"dataframe\">\n",
       "  <thead>\n",
       "    <tr style=\"text-align: right;\">\n",
       "      <th></th>\n",
       "      <th>Estimate</th>\n",
       "      <th>Standard error</th>\n",
       "      <th>95\\% CI lower bound</th>\n",
       "      <th>95\\% CI upper bound</th>\n",
       "    </tr>\n",
       "  </thead>\n",
       "  <tbody>\n",
       "    <tr>\n",
       "      <th>$\\gamma_0$</th>\n",
       "      <td>-0.925065</td>\n",
       "      <td>0.723346</td>\n",
       "      <td>-2.342797</td>\n",
       "      <td>0.492666</td>\n",
       "    </tr>\n",
       "    <tr>\n",
       "      <th>$\\gamma_1$</th>\n",
       "      <td>-1.629731</td>\n",
       "      <td>0.780849</td>\n",
       "      <td>-3.160167</td>\n",
       "      <td>-0.099296</td>\n",
       "    </tr>\n",
       "    <tr>\n",
       "      <th>$\\gamma_2$</th>\n",
       "      <td>0.309899</td>\n",
       "      <td>0.147920</td>\n",
       "      <td>0.019980</td>\n",
       "      <td>0.599818</td>\n",
       "    </tr>\n",
       "  </tbody>\n",
       "</table>\n",
       "</div>"
      ],
      "text/plain": [
       "            Estimate  Standard error  95\\% CI lower bound  95\\% CI upper bound\n",
       "$\\gamma_0$ -0.925065        0.723346            -2.342797             0.492666\n",
       "$\\gamma_1$ -1.629731        0.780849            -3.160167            -0.099296\n",
       "$\\gamma_2$  0.309899        0.147920             0.019980             0.599818"
      ]
     },
     "execution_count": 4,
     "metadata": {},
     "output_type": "execute_result"
    }
   ],
   "source": [
    "def score(X, z, gamma):\n",
    "    weight = (2*z - 1)/(1 + np.exp((2*z - 1)*np.matmul(X, gamma)))\n",
    "    return np.sum(weight[:,np.newaxis]*X, axis=0)\n",
    "\n",
    "def fisher_information(X, gamma):\n",
    "    outer_products = np.vectorize(lambda x, y: np.outer(x, y), signature='(m),(m)->(m,m)')(X, X)\n",
    "    weights = np.matmul(X, gamma)\n",
    "    weights = 1/(2 + np.exp(weights) + np.exp(-weights))    \n",
    "    return np.sum(weights[:,np.newaxis,np.newaxis]*outer_products, 0)\n",
    "\n",
    "def fit_logistic_regression(X, z):\n",
    "    gamma_hat = optimize.root(lambda gamma: score(X, z, gamma), [0., 0., 0.])\n",
    "    assert gamma_hat.success, 'Estimate should converge.'\n",
    "    gamma_hat = gamma_hat.x\n",
    "    gamma_hat_variance = linalg.cho_solve(linalg.cho_factor(fisher_information(X, gamma_hat)),\n",
    "                                          np.eye(len(gamma_hat)))\n",
    "    return gamma_hat, gamma_hat_variance\n",
    "\n",
    "def summarize_model(gamma_hat, gamma_hat_variance):\n",
    "    return pd.DataFrame(collections.OrderedDict([\n",
    "        ('Estimate', gamma_hat),\n",
    "        ('Standard error', np.sqrt(np.diag(gamma_hat_variance))),\n",
    "        ('95\\% CI lower bound', gamma_hat + np.sqrt(np.diag(gamma_hat_variance))*stats.norm.ppf(0.025)),\n",
    "        ('95\\% CI upper bound', gamma_hat + np.sqrt(np.diag(gamma_hat_variance))*stats.norm.ppf(0.975)),\n",
    "    ]), index=['$\\gamma_{}$'.format(j) for j in range(len(gamma_hat))])\n",
    "\n",
    "gamma_hat, gamma_hat_variance = fit_logistic_regression(X, z)\n",
    "gamma_hat_summary = summarize_model(gamma_hat, gamma_hat_variance)\n",
    "\n",
    "with open('p3_gamma_hat.tex', 'w') as f:\n",
    "    f.write(gamma_hat_summary.to_latex(escape=False))\n",
    "\n",
    "gamma_hat_summary"
   ]
  },
  {
   "cell_type": "markdown",
   "metadata": {},
   "source": [
    "## Prediction"
   ]
  },
  {
   "cell_type": "code",
   "execution_count": 5,
   "metadata": {},
   "outputs": [
    {
     "data": {
      "text/html": [
       "<div>\n",
       "<style scoped>\n",
       "    .dataframe tbody tr th:only-of-type {\n",
       "        vertical-align: middle;\n",
       "    }\n",
       "\n",
       "    .dataframe tbody tr th {\n",
       "        vertical-align: top;\n",
       "    }\n",
       "\n",
       "    .dataframe thead th {\n",
       "        text-align: right;\n",
       "    }\n",
       "</style>\n",
       "<table border=\"1\" class=\"dataframe\">\n",
       "  <thead>\n",
       "    <tr style=\"text-align: right;\">\n",
       "      <th></th>\n",
       "      <th></th>\n",
       "      <th>Count</th>\n",
       "      <th>Estimate</th>\n",
       "      <th>Standard error</th>\n",
       "      <th>95% CI lower bound</th>\n",
       "      <th>95% CI upper bound</th>\n",
       "    </tr>\n",
       "    <tr>\n",
       "      <th>SES</th>\n",
       "      <th>Life Events</th>\n",
       "      <th></th>\n",
       "      <th></th>\n",
       "      <th></th>\n",
       "      <th></th>\n",
       "      <th></th>\n",
       "    </tr>\n",
       "  </thead>\n",
       "  <tbody>\n",
       "    <tr>\n",
       "      <th rowspan=\"9\" valign=\"top\">0</th>\n",
       "      <th>0</th>\n",
       "      <td>1</td>\n",
       "      <td>-0.925065</td>\n",
       "      <td>0.723346</td>\n",
       "      <td>-2.342797</td>\n",
       "      <td>0.492666</td>\n",
       "    </tr>\n",
       "    <tr>\n",
       "      <th>1</th>\n",
       "      <td>3</td>\n",
       "      <td>-0.615166</td>\n",
       "      <td>0.626483</td>\n",
       "      <td>-1.843051</td>\n",
       "      <td>0.612718</td>\n",
       "    </tr>\n",
       "    <tr>\n",
       "      <th>2</th>\n",
       "      <td>2</td>\n",
       "      <td>-0.305268</td>\n",
       "      <td>0.552715</td>\n",
       "      <td>-1.388569</td>\n",
       "      <td>0.778034</td>\n",
       "    </tr>\n",
       "    <tr>\n",
       "      <th>3</th>\n",
       "      <td>3</td>\n",
       "      <td>0.004631</td>\n",
       "      <td>0.512121</td>\n",
       "      <td>-0.999107</td>\n",
       "      <td>1.008370</td>\n",
       "    </tr>\n",
       "    <tr>\n",
       "      <th>4</th>\n",
       "      <td>3</td>\n",
       "      <td>0.314530</td>\n",
       "      <td>0.512643</td>\n",
       "      <td>-0.690231</td>\n",
       "      <td>1.319291</td>\n",
       "    </tr>\n",
       "    <tr>\n",
       "      <th>5</th>\n",
       "      <td>2</td>\n",
       "      <td>0.624429</td>\n",
       "      <td>0.554164</td>\n",
       "      <td>-0.461713</td>\n",
       "      <td>1.710571</td>\n",
       "    </tr>\n",
       "    <tr>\n",
       "      <th>6</th>\n",
       "      <td>1</td>\n",
       "      <td>0.934328</td>\n",
       "      <td>0.628613</td>\n",
       "      <td>-0.297731</td>\n",
       "      <td>2.166387</td>\n",
       "    </tr>\n",
       "    <tr>\n",
       "      <th>8</th>\n",
       "      <td>1</td>\n",
       "      <td>1.554126</td>\n",
       "      <td>0.838183</td>\n",
       "      <td>-0.088683</td>\n",
       "      <td>3.196934</td>\n",
       "    </tr>\n",
       "    <tr>\n",
       "      <th>9</th>\n",
       "      <td>2</td>\n",
       "      <td>1.864024</td>\n",
       "      <td>0.960151</td>\n",
       "      <td>-0.017837</td>\n",
       "      <td>3.745885</td>\n",
       "    </tr>\n",
       "    <tr>\n",
       "      <th rowspan=\"10\" valign=\"top\">1</th>\n",
       "      <th>0</th>\n",
       "      <td>1</td>\n",
       "      <td>-2.554797</td>\n",
       "      <td>0.964303</td>\n",
       "      <td>-4.444795</td>\n",
       "      <td>-0.664798</td>\n",
       "    </tr>\n",
       "    <tr>\n",
       "      <th>1</th>\n",
       "      <td>2</td>\n",
       "      <td>-2.244898</td>\n",
       "      <td>0.842585</td>\n",
       "      <td>-3.896334</td>\n",
       "      <td>-0.593462</td>\n",
       "    </tr>\n",
       "    <tr>\n",
       "      <th>2</th>\n",
       "      <td>2</td>\n",
       "      <td>-1.934999</td>\n",
       "      <td>0.730602</td>\n",
       "      <td>-3.366953</td>\n",
       "      <td>-0.503045</td>\n",
       "    </tr>\n",
       "    <tr>\n",
       "      <th>3</th>\n",
       "      <td>5</td>\n",
       "      <td>-1.625100</td>\n",
       "      <td>0.633538</td>\n",
       "      <td>-2.866812</td>\n",
       "      <td>-0.383388</td>\n",
       "    </tr>\n",
       "    <tr>\n",
       "      <th>4</th>\n",
       "      <td>2</td>\n",
       "      <td>-1.315201</td>\n",
       "      <td>0.559216</td>\n",
       "      <td>-2.411245</td>\n",
       "      <td>-0.219157</td>\n",
       "    </tr>\n",
       "    <tr>\n",
       "      <th>5</th>\n",
       "      <td>2</td>\n",
       "      <td>-1.005302</td>\n",
       "      <td>0.517529</td>\n",
       "      <td>-2.019640</td>\n",
       "      <td>0.009036</td>\n",
       "    </tr>\n",
       "    <tr>\n",
       "      <th>6</th>\n",
       "      <td>1</td>\n",
       "      <td>-0.695404</td>\n",
       "      <td>0.516440</td>\n",
       "      <td>-1.707607</td>\n",
       "      <td>0.316800</td>\n",
       "    </tr>\n",
       "    <tr>\n",
       "      <th>7</th>\n",
       "      <td>2</td>\n",
       "      <td>-0.385505</td>\n",
       "      <td>0.556188</td>\n",
       "      <td>-1.475613</td>\n",
       "      <td>0.704604</td>\n",
       "    </tr>\n",
       "    <tr>\n",
       "      <th>8</th>\n",
       "      <td>3</td>\n",
       "      <td>-0.075606</td>\n",
       "      <td>0.629079</td>\n",
       "      <td>-1.308579</td>\n",
       "      <td>1.157367</td>\n",
       "    </tr>\n",
       "    <tr>\n",
       "      <th>9</th>\n",
       "      <td>2</td>\n",
       "      <td>0.234293</td>\n",
       "      <td>0.725188</td>\n",
       "      <td>-1.187049</td>\n",
       "      <td>1.655635</td>\n",
       "    </tr>\n",
       "  </tbody>\n",
       "</table>\n",
       "</div>"
      ],
      "text/plain": [
       "                 Count  Estimate  Standard error  95% CI lower bound  \\\n",
       "SES Life Events                                                        \n",
       "0   0                1 -0.925065        0.723346           -2.342797   \n",
       "    1                3 -0.615166        0.626483           -1.843051   \n",
       "    2                2 -0.305268        0.552715           -1.388569   \n",
       "    3                3  0.004631        0.512121           -0.999107   \n",
       "    4                3  0.314530        0.512643           -0.690231   \n",
       "    5                2  0.624429        0.554164           -0.461713   \n",
       "    6                1  0.934328        0.628613           -0.297731   \n",
       "    8                1  1.554126        0.838183           -0.088683   \n",
       "    9                2  1.864024        0.960151           -0.017837   \n",
       "1   0                1 -2.554797        0.964303           -4.444795   \n",
       "    1                2 -2.244898        0.842585           -3.896334   \n",
       "    2                2 -1.934999        0.730602           -3.366953   \n",
       "    3                5 -1.625100        0.633538           -2.866812   \n",
       "    4                2 -1.315201        0.559216           -2.411245   \n",
       "    5                2 -1.005302        0.517529           -2.019640   \n",
       "    6                1 -0.695404        0.516440           -1.707607   \n",
       "    7                2 -0.385505        0.556188           -1.475613   \n",
       "    8                3 -0.075606        0.629079           -1.308579   \n",
       "    9                2  0.234293        0.725188           -1.187049   \n",
       "\n",
       "                 95% CI upper bound  \n",
       "SES Life Events                      \n",
       "0   0                      0.492666  \n",
       "    1                      0.612718  \n",
       "    2                      0.778034  \n",
       "    3                      1.008370  \n",
       "    4                      1.319291  \n",
       "    5                      1.710571  \n",
       "    6                      2.166387  \n",
       "    8                      3.196934  \n",
       "    9                      3.745885  \n",
       "1   0                     -0.664798  \n",
       "    1                     -0.593462  \n",
       "    2                     -0.503045  \n",
       "    3                     -0.383388  \n",
       "    4                     -0.219157  \n",
       "    5                      0.009036  \n",
       "    6                      0.316800  \n",
       "    7                      0.704604  \n",
       "    8                      1.157367  \n",
       "    9                      1.655635  "
      ]
     },
     "execution_count": 5,
     "metadata": {},
     "output_type": "execute_result"
    }
   ],
   "source": [
    "log_odds_ratio_estimates = pd.DataFrame(collections.OrderedDict([\n",
    "    ('Count', mental_impairment_data.groupby(['SES', 'Life Events']).size()),    \n",
    "]))\n",
    "\n",
    "X_unique = np.column_stack((np.ones(log_odds_ratio_estimates.count()),\n",
    "                            np.array(list(log_odds_ratio_estimates.index.values))))\n",
    "log_odds_ratio_estimates['Estimate'] = np.matmul(X_unique, gamma_hat)\n",
    "log_odds_ratio_estimates['Standard error'] = (\n",
    "    np.sqrt(np.vectorize(lambda x, y: x.dot(gamma_hat_variance).dot(y), signature='(m),(m)->()')(X_unique, X_unique)))\n",
    "log_odds_ratio_estimates['95% CI lower bound'] = (\n",
    "    log_odds_ratio_estimates['Estimate'] + log_odds_ratio_estimates['Standard error']*stats.norm.ppf(0.025))\n",
    "log_odds_ratio_estimates['95% CI upper bound'] = (\n",
    "    log_odds_ratio_estimates['Estimate'] + log_odds_ratio_estimates['Standard error']*stats.norm.ppf(0.975))\n",
    "\n",
    "log_odds_ratio_estimates"
   ]
  },
  {
   "cell_type": "code",
   "execution_count": 6,
   "metadata": {},
   "outputs": [
    {
     "data": {
      "text/html": [
       "<div>\n",
       "<style scoped>\n",
       "    .dataframe tbody tr th:only-of-type {\n",
       "        vertical-align: middle;\n",
       "    }\n",
       "\n",
       "    .dataframe tbody tr th {\n",
       "        vertical-align: top;\n",
       "    }\n",
       "\n",
       "    .dataframe thead th {\n",
       "        text-align: right;\n",
       "    }\n",
       "</style>\n",
       "<table border=\"1\" class=\"dataframe\">\n",
       "  <thead>\n",
       "    <tr style=\"text-align: right;\">\n",
       "      <th></th>\n",
       "      <th></th>\n",
       "      <th>Count</th>\n",
       "      <th>Estimate</th>\n",
       "      <th>95% CI lower bound</th>\n",
       "      <th>95% CI upper bound</th>\n",
       "    </tr>\n",
       "    <tr>\n",
       "      <th>SES</th>\n",
       "      <th>Life Events</th>\n",
       "      <th></th>\n",
       "      <th></th>\n",
       "      <th></th>\n",
       "      <th></th>\n",
       "    </tr>\n",
       "  </thead>\n",
       "  <tbody>\n",
       "    <tr>\n",
       "      <th rowspan=\"9\" valign=\"top\">0</th>\n",
       "      <th>0</th>\n",
       "      <td>1</td>\n",
       "      <td>0.396506</td>\n",
       "      <td>0.096059</td>\n",
       "      <td>1.636675</td>\n",
       "    </tr>\n",
       "    <tr>\n",
       "      <th>1</th>\n",
       "      <td>3</td>\n",
       "      <td>0.540551</td>\n",
       "      <td>0.158334</td>\n",
       "      <td>1.845440</td>\n",
       "    </tr>\n",
       "    <tr>\n",
       "      <th>2</th>\n",
       "      <td>2</td>\n",
       "      <td>0.736926</td>\n",
       "      <td>0.249432</td>\n",
       "      <td>2.177188</td>\n",
       "    </tr>\n",
       "    <tr>\n",
       "      <th>3</th>\n",
       "      <td>3</td>\n",
       "      <td>1.004642</td>\n",
       "      <td>0.368208</td>\n",
       "      <td>2.741129</td>\n",
       "    </tr>\n",
       "    <tr>\n",
       "      <th>4</th>\n",
       "      <td>3</td>\n",
       "      <td>1.369616</td>\n",
       "      <td>0.501460</td>\n",
       "      <td>3.740769</td>\n",
       "    </tr>\n",
       "    <tr>\n",
       "      <th>5</th>\n",
       "      <td>2</td>\n",
       "      <td>1.867180</td>\n",
       "      <td>0.630203</td>\n",
       "      <td>5.532120</td>\n",
       "    </tr>\n",
       "    <tr>\n",
       "      <th>6</th>\n",
       "      <td>1</td>\n",
       "      <td>2.545502</td>\n",
       "      <td>0.742501</td>\n",
       "      <td>8.726699</td>\n",
       "    </tr>\n",
       "    <tr>\n",
       "      <th>8</th>\n",
       "      <td>1</td>\n",
       "      <td>4.730948</td>\n",
       "      <td>0.915136</td>\n",
       "      <td>24.457420</td>\n",
       "    </tr>\n",
       "    <tr>\n",
       "      <th>9</th>\n",
       "      <td>2</td>\n",
       "      <td>6.449640</td>\n",
       "      <td>0.982321</td>\n",
       "      <td>42.346488</td>\n",
       "    </tr>\n",
       "    <tr>\n",
       "      <th rowspan=\"10\" valign=\"top\">1</th>\n",
       "      <th>0</th>\n",
       "      <td>1</td>\n",
       "      <td>0.077708</td>\n",
       "      <td>0.011740</td>\n",
       "      <td>0.514377</td>\n",
       "    </tr>\n",
       "    <tr>\n",
       "      <th>1</th>\n",
       "      <td>2</td>\n",
       "      <td>0.105938</td>\n",
       "      <td>0.020316</td>\n",
       "      <td>0.552412</td>\n",
       "    </tr>\n",
       "    <tr>\n",
       "      <th>2</th>\n",
       "      <td>2</td>\n",
       "      <td>0.144424</td>\n",
       "      <td>0.034495</td>\n",
       "      <td>0.604687</td>\n",
       "    </tr>\n",
       "    <tr>\n",
       "      <th>3</th>\n",
       "      <td>5</td>\n",
       "      <td>0.196892</td>\n",
       "      <td>0.056880</td>\n",
       "      <td>0.681549</td>\n",
       "    </tr>\n",
       "    <tr>\n",
       "      <th>4</th>\n",
       "      <td>2</td>\n",
       "      <td>0.268420</td>\n",
       "      <td>0.089704</td>\n",
       "      <td>0.803195</td>\n",
       "    </tr>\n",
       "    <tr>\n",
       "      <th>5</th>\n",
       "      <td>2</td>\n",
       "      <td>0.365934</td>\n",
       "      <td>0.132703</td>\n",
       "      <td>1.009076</td>\n",
       "    </tr>\n",
       "    <tr>\n",
       "      <th>6</th>\n",
       "      <td>1</td>\n",
       "      <td>0.498873</td>\n",
       "      <td>0.181299</td>\n",
       "      <td>1.372728</td>\n",
       "    </tr>\n",
       "    <tr>\n",
       "      <th>7</th>\n",
       "      <td>2</td>\n",
       "      <td>0.680107</td>\n",
       "      <td>0.228639</td>\n",
       "      <td>2.023045</td>\n",
       "    </tr>\n",
       "    <tr>\n",
       "      <th>8</th>\n",
       "      <td>3</td>\n",
       "      <td>0.927182</td>\n",
       "      <td>0.270204</td>\n",
       "      <td>3.181546</td>\n",
       "    </tr>\n",
       "    <tr>\n",
       "      <th>9</th>\n",
       "      <td>2</td>\n",
       "      <td>1.264015</td>\n",
       "      <td>0.305120</td>\n",
       "      <td>5.236406</td>\n",
       "    </tr>\n",
       "  </tbody>\n",
       "</table>\n",
       "</div>"
      ],
      "text/plain": [
       "                 Count  Estimate  95% CI lower bound  95% CI upper bound\n",
       "SES Life Events                                                         \n",
       "0   0                1  0.396506            0.096059            1.636675\n",
       "    1                3  0.540551            0.158334            1.845440\n",
       "    2                2  0.736926            0.249432            2.177188\n",
       "    3                3  1.004642            0.368208            2.741129\n",
       "    4                3  1.369616            0.501460            3.740769\n",
       "    5                2  1.867180            0.630203            5.532120\n",
       "    6                1  2.545502            0.742501            8.726699\n",
       "    8                1  4.730948            0.915136           24.457420\n",
       "    9                2  6.449640            0.982321           42.346488\n",
       "1   0                1  0.077708            0.011740            0.514377\n",
       "    1                2  0.105938            0.020316            0.552412\n",
       "    2                2  0.144424            0.034495            0.604687\n",
       "    3                5  0.196892            0.056880            0.681549\n",
       "    4                2  0.268420            0.089704            0.803195\n",
       "    5                2  0.365934            0.132703            1.009076\n",
       "    6                1  0.498873            0.181299            1.372728\n",
       "    7                2  0.680107            0.228639            2.023045\n",
       "    8                3  0.927182            0.270204            3.181546\n",
       "    9                2  1.264015            0.305120            5.236406"
      ]
     },
     "execution_count": 6,
     "metadata": {},
     "output_type": "execute_result"
    }
   ],
   "source": [
    "odds_ratio_estimates = log_odds_ratio_estimates.copy()\n",
    "odds_ratio_estimates = odds_ratio_estimates.drop(columns=['Standard error'])\n",
    "odds_ratio_estimates['Estimate'] = np.exp(odds_ratio_estimates['Estimate'])\n",
    "odds_ratio_estimates['95% CI lower bound'] = np.exp(odds_ratio_estimates['95% CI lower bound'])\n",
    "odds_ratio_estimates['95% CI upper bound'] = np.exp(odds_ratio_estimates['95% CI upper bound'])\n",
    "\n",
    "with open('p3_odds_ratios.tex', 'w') as f:\n",
    "    f.write(odds_ratio_estimates.to_latex())\n",
    "\n",
    "odds_ratio_estimates"
   ]
  },
  {
   "cell_type": "markdown",
   "metadata": {},
   "source": [
    "## Proportional Odds Model"
   ]
  },
  {
   "cell_type": "code",
   "execution_count": 7,
   "metadata": {},
   "outputs": [
    {
     "data": {
      "image/png": "[encoded data removed]",
      "text/plain": [
       "<Figure size 432x288 with 1 Axes>"
      ]
     },
     "metadata": {
      "needs_background": "light"
     },
     "output_type": "display_data"
    }
   ],
   "source": [
    "fig = plt.figure(figsize=(6,4))\n",
    "ax = fig.gca()\n",
    "ax.grid(True)\n",
    "\n",
    "sns.boxplot(x='SES', y='Life Events', hue='Mental Impairment',\n",
    "            data=mental_impairment_data, ax=ax)\n",
    "ax.legend(loc='lower right')\n",
    "\n",
    "fig.tight_layout()\n",
    "fig.savefig('p6_descriptive.pdf', bbox_inches='tight')"
   ]
  },
  {
   "cell_type": "code",
   "execution_count": 44,
   "metadata": {},
   "outputs": [
    {
     "data": {
      "text/plain": [
       "array([0.72334578, 0.62648312, 0.5527151 , 0.51212086, 0.51264264,\n",
       "       0.55416432, 0.62861325, 0.8381828 , 0.96015085, 0.96430273,\n",
       "       0.84258484, 0.7306022 , 0.63353836, 0.55921645, 0.51752887,\n",
       "       0.51643987, 0.55618798, 0.6290794 , 0.725188  ])"
      ]
     },
     "execution_count": 44,
     "metadata": {},
     "output_type": "execute_result"
    }
   ],
   "source": [
    "np.sqrt(np.vectorize(lambda x, y: x.dot(gamma_hat_variance).dot(y), signature='(m),(m)->()')(X_unique, X_unique))"
   ]
  },
  {
   "cell_type": "code",
   "execution_count": 43,
   "metadata": {},
   "outputs": [
    {
     "data": {
      "text/plain": [
       "0.26280247722098693"
      ]
     },
     "execution_count": 43,
     "metadata": {},
     "output_type": "execute_result"
    }
   ],
   "source": [
    "X_unique[4].dot(gamma_hat_variance).dot(X_unique[4])"
   ]
  },
  {
   "cell_type": "code",
   "execution_count": 298,
   "metadata": {},
   "outputs": [
    {
     "data": {
      "text/plain": [
       "0.354974602779418"
      ]
     },
     "execution_count": 298,
     "metadata": {},
     "output_type": "execute_result"
    }
   ],
   "source": [
    "gamma_hat_variance = linalg.cho_solve(linalg.cho_factor(fisher_information(np.vstack((X,X)), gamma)), np.eye(len(gamma)))\n",
    "x = np.array([1,1,1])\n",
    "x.dot(gamma_hat_variance.dot(x))"
   ]
  },
  {
   "cell_type": "code",
   "execution_count": 299,
   "metadata": {},
   "outputs": [
    {
     "data": {
      "text/plain": [
       "-2.2448977871026496"
      ]
     },
     "execution_count": 299,
     "metadata": {},
     "output_type": "execute_result"
    }
   ],
   "source": [
    "gamma_hat_summary['Estimate'].dot(x)"
   ]
  },
  {
   "cell_type": "code",
   "execution_count": 300,
   "metadata": {},
   "outputs": [
    {
     "data": {
      "text/plain": [
       "0.921"
      ]
     },
     "execution_count": 300,
     "metadata": {},
     "output_type": "execute_result"
    }
   ],
   "source": [
    "np.random.seed(2018)\n",
    "success = 0\n",
    "num_trials = 2000\n",
    "for i in range(num_trials):\n",
    "    y = stats.bernoulli.rvs(special.expit(np.matmul(np.vstack((X,X)), gamma_hat_summary['Estimate'])))    \n",
    "    estimates = fit_logistic_regression(np.vstack((X,X)), y) \n",
    "    success += np.abs(estimates['Estimate'].dot(x) - (-2.2448977870557685)) <= stats.norm.ppf(0.975)*np.sqrt(0.354974602779418)\n",
    "    #success += estimates['95\\% CI lower bound'][0] <= gamma_hat_summary['Estimate'][0] and gamma_hat_summary['Estimate'][1] <= estimates['95\\% CI upper bound'][0]\n",
    "    \n",
    "success/num_trials"
   ]
  },
  {
   "cell_type": "code",
   "execution_count": 256,
   "metadata": {},
   "outputs": [
    {
     "data": {
      "text/plain": [
       "(80, 3)"
      ]
     },
     "execution_count": 256,
     "metadata": {},
     "output_type": "execute_result"
    }
   ],
   "source": [
    "np.vstack((X,X)).shape"
   ]
  },
  {
   "cell_type": "code",
   "execution_count": 261,
   "metadata": {},
   "outputs": [
    {
     "data": {
      "text/plain": [
       "0.942"
      ]
     },
     "execution_count": 261,
     "metadata": {},
     "output_type": "execute_result"
    }
   ],
   "source": [
    "success/num_trials"
   ]
  },
  {
   "cell_type": "code",
   "execution_count": 190,
   "metadata": {},
   "outputs": [
    {
     "data": {
      "text/plain": [
       "array([0.01314517, 0.10279626, 0.13366754, 0.23986298, 0.04215337,\n",
       "       0.03638381, 0.09203672, 0.07686816, 0.03806022, 0.02513363,\n",
       "       0.2240548 , 0.05971563, 0.24904511, 0.19873035, 0.12543827,\n",
       "       0.21378295, 0.17567532, 0.24338646, 0.10141109, 0.24968737,\n",
       "       0.24724797, 0.24964683, 0.06271876, 0.23756594, 0.24542109,\n",
       "       0.09002994, 0.23754954, 0.1546219 , 0.15098517, 0.0190094 ,\n",
       "       0.24825827, 0.01883503, 0.03358891, 0.01587927, 0.12363228,\n",
       "       0.20516338, 0.18869308, 0.2370747 , 0.09439047, 0.18812552,\n",
       "       0.02236262, 0.12105226, 0.12749297, 0.24722869, 0.17522108,\n",
       "       0.24904442, 0.23579483, 0.20312271, 0.24757001, 0.09527472,\n",
       "       0.0716536 , 0.22027522, 0.15372657, 0.04406568, 0.14866537,\n",
       "       0.2499941 , 0.20002082, 0.0244127 , 0.05003317, 0.24967862,\n",
       "       0.06061112, 0.07000361, 0.15575888, 0.07422648, 0.24912318,\n",
       "       0.10826981, 0.05223083, 0.19324835, 0.21577934, 0.09274465,\n",
       "       0.21041603, 0.12610562, 0.06004873, 0.1948146 , 0.15652947,\n",
       "       0.24317355, 0.14267881, 0.23930806, 0.02438349, 0.24226358,\n",
       "       0.16936222, 0.24993938, 0.24578581, 0.22444091, 0.24999933,\n",
       "       0.18807755, 0.11683876, 0.18202071, 0.24272761, 0.24979911,\n",
       "       0.04922154, 0.21821807, 0.05976255, 0.09617083, 0.02361709,\n",
       "       0.11057317, 0.14670631, 0.22659502, 0.22471941, 0.02220176])"
      ]
     },
     "execution_count": 190,
     "metadata": {},
     "output_type": "execute_result"
    }
   ],
   "source": [
    "q = special.expit(np.matmul(X, gamma))\n",
    "#np.outer(z - q, z - q)\n",
    "q*(1-q)"
   ]
  },
  {
   "cell_type": "code",
   "execution_count": 192,
   "metadata": {},
   "outputs": [
    {
     "data": {
      "text/plain": [
       "array([0.01314517, 0.10279626, 0.13366754, 0.23986298, 0.04215337,\n",
       "       0.03638381, 0.09203672, 0.07686816, 0.03806022, 0.02513363,\n",
       "       0.2240548 , 0.05971563, 0.24904511, 0.19873035, 0.12543827,\n",
       "       0.21378295, 0.17567532, 0.24338646, 0.10141109, 0.24968737,\n",
       "       0.24724797, 0.24964683, 0.06271876, 0.23756594, 0.24542109,\n",
       "       0.09002994, 0.23754954, 0.1546219 , 0.15098517, 0.0190094 ,\n",
       "       0.24825827, 0.01883503, 0.03358891, 0.01587927, 0.12363228,\n",
       "       0.20516338, 0.18869308, 0.2370747 , 0.09439047, 0.18812552,\n",
       "       0.02236262, 0.12105226, 0.12749297, 0.24722869, 0.17522108,\n",
       "       0.24904442, 0.23579483, 0.20312271, 0.24757001, 0.09527472,\n",
       "       0.0716536 , 0.22027522, 0.15372657, 0.04406568, 0.14866537,\n",
       "       0.2499941 , 0.20002082, 0.0244127 , 0.05003317, 0.24967862,\n",
       "       0.06061112, 0.07000361, 0.15575888, 0.07422648, 0.24912318,\n",
       "       0.10826981, 0.05223083, 0.19324835, 0.21577934, 0.09274465,\n",
       "       0.21041603, 0.12610562, 0.06004873, 0.1948146 , 0.15652947,\n",
       "       0.24317355, 0.14267881, 0.23930806, 0.02438349, 0.24226358,\n",
       "       0.16936222, 0.24993938, 0.24578581, 0.22444091, 0.24999933,\n",
       "       0.18807755, 0.11683876, 0.18202071, 0.24272761, 0.24979911,\n",
       "       0.04922154, 0.21821807, 0.05976255, 0.09617083, 0.02361709,\n",
       "       0.11057317, 0.14670631, 0.22659502, 0.22471941, 0.02220176])"
      ]
     },
     "execution_count": 192,
     "metadata": {},
     "output_type": "execute_result"
    }
   ],
   "source": [
    "1/(2 + np.exp(np.matmul(X, gamma)) + np.exp(-np.matmul(X, gamma)))"
   ]
  },
  {
   "cell_type": "code",
   "execution_count": 132,
   "metadata": {},
   "outputs": [
    {
     "name": "stdout",
     "output_type": "stream",
     "text": [
      "(0, 0)\n",
      "(0, 1)\n",
      "(0, 2)\n",
      "(0, 3)\n",
      "(0, 4)\n",
      "(0, 5)\n",
      "(0, 6)\n",
      "(0, 8)\n",
      "(0, 9)\n",
      "(1, 0)\n",
      "(1, 1)\n",
      "(1, 2)\n",
      "(1, 3)\n",
      "(1, 4)\n",
      "(1, 5)\n",
      "(1, 6)\n",
      "(1, 7)\n",
      "(1, 8)\n",
      "(1, 9)\n"
     ]
    }
   ],
   "source": [
    "odds_ratio_estimates = pd.DataFrame({\n",
    "    'Count': mental_impairment_data.groupby(['SES', 'Life Events']).size(),\n",
    "})\n",
    "for i in odds_ratio_estimates.index:\n",
    "    print(i)"
   ]
  },
  {
   "cell_type": "code",
   "execution_count": 112,
   "metadata": {},
   "outputs": [
    {
     "name": "stdout",
     "output_type": "stream",
     "text": [
      "-22.680460908852503\n"
     ]
    },
    {
     "data": {
      "text/plain": [
       "-45.44860034885251"
      ]
     },
     "execution_count": 112,
     "metadata": {},
     "output_type": "execute_result"
    }
   ],
   "source": [
    "print(log_likelihood(np.negative([ 0.92506522,  1.62973142, -0.30989884])))\n",
    "log_likelihood([ 0.92506522,  1.62973142, -0.30989884])"
   ]
  },
  {
   "cell_type": "code",
   "execution_count": 68,
   "metadata": {},
   "outputs": [
    {
     "data": {
      "text/plain": [
       "array([0.90420952, 0.44169325, 0.78838222, 0.8354973 , 0.5757297 ,\n",
       "       0.9278951 , 0.64911842, 0.8354973 , 0.8354973 , 0.5952001 ,\n",
       "       0.64911842, 0.5757297 , 0.73209982, 0.28204752, 0.8354973 ,\n",
       "       0.64911842, 0.51889248, 0.8738017 , 0.34877482, 0.73209982,\n",
       "       0.44169325, 0.49884218, 0.8354973 , 0.90420952, 0.71607305,\n",
       "       0.78838222, 0.49884218, 0.13423467, 0.6671679 , 0.42200937,\n",
       "       0.49884218, 0.51889248, 0.8738017 , 0.5952001 , 0.34877482,\n",
       "       0.42200937, 0.42200937, 0.51889248, 0.17449122, 0.13423467])"
      ]
     },
     "execution_count": 68,
     "metadata": {},
     "output_type": "execute_result"
    }
   ],
   "source": [
    "1/(1 + np.exp(-np.matmul(X, [0.92506522,  1.62973142, -0.30989884])))"
   ]
  },
  {
   "cell_type": "code",
   "execution_count": 27,
   "metadata": {},
   "outputs": [],
   "source": [
    "from sklearn import linear_model"
   ]
  },
  {
   "cell_type": "code",
   "execution_count": 154,
   "metadata": {},
   "outputs": [
    {
     "name": "stderr",
     "output_type": "stream",
     "text": [
      "/usr/local/lib/python3.5/dist-packages/sklearn/linear_model/logistic.py:432: FutureWarning: Default solver will be changed to 'lbfgs' in 0.22. Specify a solver to silence this warning.\n",
      "  FutureWarning)\n"
     ]
    },
    {
     "data": {
      "text/plain": [
       "array([[-0.92511511, -1.62968645,  0.3099026 ]])"
      ]
     },
     "execution_count": 154,
     "metadata": {},
     "output_type": "execute_result"
    }
   ],
   "source": [
    "tmp = linear_model.LogisticRegression(C=100000000, fit_intercept=False)\n",
    "tmp.fit(X, z)\n",
    "tmp.coef_"
   ]
  },
  {
   "cell_type": "code",
   "execution_count": 188,
   "metadata": {},
   "outputs": [
    {
     "data": {
      "text/plain": [
       "array([[143.33623892,   6.30241789,  32.98148876],\n",
       "       [  6.30241789, 121.63176689,  37.42449724],\n",
       "       [ 32.98148876,  37.42449724, 139.75335225]])"
      ]
     },
     "execution_count": 188,
     "metadata": {},
     "output_type": "execute_result"
    }
   ],
   "source": [
    "X = np.random.normal(size=(100,3))\n",
    "y = np.random.normal(size=(100,))\n",
    "\n",
    "X.T.dot(np.diagonal(np.outer(y, y))*np.eye(len(y))).dot(X)"
   ]
  },
  {
   "cell_type": "code",
   "execution_count": 189,
   "metadata": {},
   "outputs": [
    {
     "data": {
      "text/plain": [
       "array([[143.33623892,   6.30241789,  32.98148876],\n",
       "       [  6.30241789, 121.63176689,  37.42449724],\n",
       "       [ 32.98148876,  37.42449724, 139.75335225]])"
      ]
     },
     "execution_count": 189,
     "metadata": {},
     "output_type": "execute_result"
    }
   ],
   "source": [
    "np.sum(np.vectorize(lambda x, y: np.outer(x, y),\n",
    "             signature='(m),(m)->(m,m)')(X,X)*np.expand_dims(np.expand_dims(y, -1), -1)**2, 0)"
   ]
  },
  {
   "cell_type": "code",
   "execution_count": 178,
   "metadata": {},
   "outputs": [
    {
     "data": {
      "text/plain": [
       "array([[ 0.02017422,  0.01853516, -0.00230682],\n",
       "       [ 0.01853516,  0.01702928, -0.00211941],\n",
       "       [-0.00230682, -0.00211941,  0.00026377]])"
      ]
     },
     "execution_count": 178,
     "metadata": {},
     "output_type": "execute_result"
    }
   ],
   "source": [
    "np.outer(X[0], X[0])*y[0]*y[0]"
   ]
  }
 ],
 "metadata": {
  "kernelspec": {
   "display_name": "Python 3",
   "language": "python",
   "name": "python3"
  },
  "language_info": {
   "codemirror_mode": {
    "name": "ipython",
    "version": 3
   },
   "file_extension": ".py",
   "mimetype": "text/x-python",
   "name": "python",
   "nbconvert_exporter": "python",
   "pygments_lexer": "ipython3",
   "version": "3.5.2"
  }
 },
 "nbformat": 4,
 "nbformat_minor": 2
}
