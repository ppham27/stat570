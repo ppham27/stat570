{
 "cells": [
  {
   "cell_type": "markdown",
   "metadata": {},
   "source": [
    "# Mental Impairment\n",
    "\n",
    "In this notebook, we examine the relationship between mental impairment, socioeconomic status (SES), and life events for 40 subjects."
   ]
  },
  {
   "cell_type": "markdown",
   "metadata": {},
   "source": [
    "## Exploratory Analysis"
   ]
  },
  {
   "cell_type": "code",
   "execution_count": 15,
   "metadata": {},
   "outputs": [
    {
     "data": {
      "text/html": [
       "<div>\n",
       "<style scoped>\n",
       "    .dataframe tbody tr th:only-of-type {\n",
       "        vertical-align: middle;\n",
       "    }\n",
       "\n",
       "    .dataframe tbody tr th {\n",
       "        vertical-align: top;\n",
       "    }\n",
       "\n",
       "    .dataframe thead th {\n",
       "        text-align: right;\n",
       "    }\n",
       "</style>\n",
       "<table border=\"1\" class=\"dataframe\">\n",
       "  <thead>\n",
       "    <tr style=\"text-align: right;\">\n",
       "      <th></th>\n",
       "      <th>Mental Impairment</th>\n",
       "      <th>SES</th>\n",
       "      <th>Life Events</th>\n",
       "      <th>Impaired</th>\n",
       "    </tr>\n",
       "    <tr>\n",
       "      <th>Subject</th>\n",
       "      <th></th>\n",
       "      <th></th>\n",
       "      <th></th>\n",
       "      <th></th>\n",
       "    </tr>\n",
       "  </thead>\n",
       "  <tbody>\n",
       "    <tr>\n",
       "      <th>1</th>\n",
       "      <td>Well</td>\n",
       "      <td>1</td>\n",
       "      <td>1</td>\n",
       "      <td>False</td>\n",
       "    </tr>\n",
       "    <tr>\n",
       "      <th>2</th>\n",
       "      <td>Well</td>\n",
       "      <td>1</td>\n",
       "      <td>9</td>\n",
       "      <td>False</td>\n",
       "    </tr>\n",
       "    <tr>\n",
       "      <th>3</th>\n",
       "      <td>Well</td>\n",
       "      <td>1</td>\n",
       "      <td>4</td>\n",
       "      <td>False</td>\n",
       "    </tr>\n",
       "    <tr>\n",
       "      <th>4</th>\n",
       "      <td>Well</td>\n",
       "      <td>1</td>\n",
       "      <td>3</td>\n",
       "      <td>False</td>\n",
       "    </tr>\n",
       "    <tr>\n",
       "      <th>5</th>\n",
       "      <td>Well</td>\n",
       "      <td>0</td>\n",
       "      <td>2</td>\n",
       "      <td>False</td>\n",
       "    </tr>\n",
       "    <tr>\n",
       "      <th>6</th>\n",
       "      <td>Well</td>\n",
       "      <td>1</td>\n",
       "      <td>0</td>\n",
       "      <td>False</td>\n",
       "    </tr>\n",
       "    <tr>\n",
       "      <th>7</th>\n",
       "      <td>Well</td>\n",
       "      <td>0</td>\n",
       "      <td>1</td>\n",
       "      <td>False</td>\n",
       "    </tr>\n",
       "    <tr>\n",
       "      <th>8</th>\n",
       "      <td>Well</td>\n",
       "      <td>1</td>\n",
       "      <td>3</td>\n",
       "      <td>False</td>\n",
       "    </tr>\n",
       "    <tr>\n",
       "      <th>9</th>\n",
       "      <td>Well</td>\n",
       "      <td>1</td>\n",
       "      <td>3</td>\n",
       "      <td>False</td>\n",
       "    </tr>\n",
       "    <tr>\n",
       "      <th>10</th>\n",
       "      <td>Well</td>\n",
       "      <td>1</td>\n",
       "      <td>7</td>\n",
       "      <td>False</td>\n",
       "    </tr>\n",
       "    <tr>\n",
       "      <th>11</th>\n",
       "      <td>Well</td>\n",
       "      <td>0</td>\n",
       "      <td>1</td>\n",
       "      <td>False</td>\n",
       "    </tr>\n",
       "    <tr>\n",
       "      <th>12</th>\n",
       "      <td>Well</td>\n",
       "      <td>0</td>\n",
       "      <td>2</td>\n",
       "      <td>False</td>\n",
       "    </tr>\n",
       "    <tr>\n",
       "      <th>13</th>\n",
       "      <td>Mild</td>\n",
       "      <td>1</td>\n",
       "      <td>5</td>\n",
       "      <td>False</td>\n",
       "    </tr>\n",
       "    <tr>\n",
       "      <th>14</th>\n",
       "      <td>Mild</td>\n",
       "      <td>0</td>\n",
       "      <td>6</td>\n",
       "      <td>False</td>\n",
       "    </tr>\n",
       "    <tr>\n",
       "      <th>15</th>\n",
       "      <td>Mild</td>\n",
       "      <td>1</td>\n",
       "      <td>3</td>\n",
       "      <td>False</td>\n",
       "    </tr>\n",
       "    <tr>\n",
       "      <th>16</th>\n",
       "      <td>Mild</td>\n",
       "      <td>0</td>\n",
       "      <td>1</td>\n",
       "      <td>False</td>\n",
       "    </tr>\n",
       "    <tr>\n",
       "      <th>17</th>\n",
       "      <td>Mild</td>\n",
       "      <td>1</td>\n",
       "      <td>8</td>\n",
       "      <td>False</td>\n",
       "    </tr>\n",
       "    <tr>\n",
       "      <th>18</th>\n",
       "      <td>Mild</td>\n",
       "      <td>1</td>\n",
       "      <td>2</td>\n",
       "      <td>False</td>\n",
       "    </tr>\n",
       "    <tr>\n",
       "      <th>19</th>\n",
       "      <td>Mild</td>\n",
       "      <td>0</td>\n",
       "      <td>5</td>\n",
       "      <td>False</td>\n",
       "    </tr>\n",
       "    <tr>\n",
       "      <th>20</th>\n",
       "      <td>Mild</td>\n",
       "      <td>1</td>\n",
       "      <td>5</td>\n",
       "      <td>False</td>\n",
       "    </tr>\n",
       "    <tr>\n",
       "      <th>21</th>\n",
       "      <td>Mild</td>\n",
       "      <td>1</td>\n",
       "      <td>9</td>\n",
       "      <td>False</td>\n",
       "    </tr>\n",
       "    <tr>\n",
       "      <th>22</th>\n",
       "      <td>Mild</td>\n",
       "      <td>0</td>\n",
       "      <td>3</td>\n",
       "      <td>False</td>\n",
       "    </tr>\n",
       "    <tr>\n",
       "      <th>23</th>\n",
       "      <td>Mild</td>\n",
       "      <td>1</td>\n",
       "      <td>3</td>\n",
       "      <td>False</td>\n",
       "    </tr>\n",
       "    <tr>\n",
       "      <th>24</th>\n",
       "      <td>Mild</td>\n",
       "      <td>1</td>\n",
       "      <td>1</td>\n",
       "      <td>False</td>\n",
       "    </tr>\n",
       "    <tr>\n",
       "      <th>25</th>\n",
       "      <td>Moderate</td>\n",
       "      <td>0</td>\n",
       "      <td>0</td>\n",
       "      <td>True</td>\n",
       "    </tr>\n",
       "    <tr>\n",
       "      <th>26</th>\n",
       "      <td>Moderate</td>\n",
       "      <td>1</td>\n",
       "      <td>4</td>\n",
       "      <td>True</td>\n",
       "    </tr>\n",
       "    <tr>\n",
       "      <th>27</th>\n",
       "      <td>Moderate</td>\n",
       "      <td>0</td>\n",
       "      <td>3</td>\n",
       "      <td>True</td>\n",
       "    </tr>\n",
       "    <tr>\n",
       "      <th>28</th>\n",
       "      <td>Moderate</td>\n",
       "      <td>0</td>\n",
       "      <td>9</td>\n",
       "      <td>True</td>\n",
       "    </tr>\n",
       "    <tr>\n",
       "      <th>29</th>\n",
       "      <td>Moderate</td>\n",
       "      <td>1</td>\n",
       "      <td>6</td>\n",
       "      <td>True</td>\n",
       "    </tr>\n",
       "    <tr>\n",
       "      <th>30</th>\n",
       "      <td>Moderate</td>\n",
       "      <td>0</td>\n",
       "      <td>4</td>\n",
       "      <td>True</td>\n",
       "    </tr>\n",
       "    <tr>\n",
       "      <th>31</th>\n",
       "      <td>Moderate</td>\n",
       "      <td>0</td>\n",
       "      <td>3</td>\n",
       "      <td>True</td>\n",
       "    </tr>\n",
       "    <tr>\n",
       "      <th>32</th>\n",
       "      <td>Impaired</td>\n",
       "      <td>1</td>\n",
       "      <td>8</td>\n",
       "      <td>True</td>\n",
       "    </tr>\n",
       "    <tr>\n",
       "      <th>33</th>\n",
       "      <td>Impaired</td>\n",
       "      <td>1</td>\n",
       "      <td>2</td>\n",
       "      <td>True</td>\n",
       "    </tr>\n",
       "    <tr>\n",
       "      <th>34</th>\n",
       "      <td>Impaired</td>\n",
       "      <td>1</td>\n",
       "      <td>7</td>\n",
       "      <td>True</td>\n",
       "    </tr>\n",
       "    <tr>\n",
       "      <th>35</th>\n",
       "      <td>Impaired</td>\n",
       "      <td>0</td>\n",
       "      <td>5</td>\n",
       "      <td>True</td>\n",
       "    </tr>\n",
       "    <tr>\n",
       "      <th>36</th>\n",
       "      <td>Impaired</td>\n",
       "      <td>0</td>\n",
       "      <td>4</td>\n",
       "      <td>True</td>\n",
       "    </tr>\n",
       "    <tr>\n",
       "      <th>37</th>\n",
       "      <td>Impaired</td>\n",
       "      <td>0</td>\n",
       "      <td>4</td>\n",
       "      <td>True</td>\n",
       "    </tr>\n",
       "    <tr>\n",
       "      <th>38</th>\n",
       "      <td>Impaired</td>\n",
       "      <td>1</td>\n",
       "      <td>8</td>\n",
       "      <td>True</td>\n",
       "    </tr>\n",
       "    <tr>\n",
       "      <th>39</th>\n",
       "      <td>Impaired</td>\n",
       "      <td>0</td>\n",
       "      <td>8</td>\n",
       "      <td>True</td>\n",
       "    </tr>\n",
       "    <tr>\n",
       "      <th>40</th>\n",
       "      <td>Impaired</td>\n",
       "      <td>0</td>\n",
       "      <td>9</td>\n",
       "      <td>True</td>\n",
       "    </tr>\n",
       "  </tbody>\n",
       "</table>\n",
       "</div>"
      ],
      "text/plain": [
       "        Mental Impairment  SES  Life Events  Impaired\n",
       "Subject                                              \n",
       "1                    Well    1            1     False\n",
       "2                    Well    1            9     False\n",
       "3                    Well    1            4     False\n",
       "4                    Well    1            3     False\n",
       "5                    Well    0            2     False\n",
       "6                    Well    1            0     False\n",
       "7                    Well    0            1     False\n",
       "8                    Well    1            3     False\n",
       "9                    Well    1            3     False\n",
       "10                   Well    1            7     False\n",
       "11                   Well    0            1     False\n",
       "12                   Well    0            2     False\n",
       "13                   Mild    1            5     False\n",
       "14                   Mild    0            6     False\n",
       "15                   Mild    1            3     False\n",
       "16                   Mild    0            1     False\n",
       "17                   Mild    1            8     False\n",
       "18                   Mild    1            2     False\n",
       "19                   Mild    0            5     False\n",
       "20                   Mild    1            5     False\n",
       "21                   Mild    1            9     False\n",
       "22                   Mild    0            3     False\n",
       "23                   Mild    1            3     False\n",
       "24                   Mild    1            1     False\n",
       "25               Moderate    0            0      True\n",
       "26               Moderate    1            4      True\n",
       "27               Moderate    0            3      True\n",
       "28               Moderate    0            9      True\n",
       "29               Moderate    1            6      True\n",
       "30               Moderate    0            4      True\n",
       "31               Moderate    0            3      True\n",
       "32               Impaired    1            8      True\n",
       "33               Impaired    1            2      True\n",
       "34               Impaired    1            7      True\n",
       "35               Impaired    0            5      True\n",
       "36               Impaired    0            4      True\n",
       "37               Impaired    0            4      True\n",
       "38               Impaired    1            8      True\n",
       "39               Impaired    0            8      True\n",
       "40               Impaired    0            9      True"
      ]
     },
     "execution_count": 15,
     "metadata": {},
     "output_type": "execute_result"
    }
   ],
   "source": [
    "import matplotlib.pyplot as plt\n",
    "import numpy as np\n",
    "import pandas as pd\n",
    "import seaborn as sns\n",
    "\n",
    "np.set_printoptions(suppress=True)\n",
    "\n",
    "mental_impairment_data = pd.DataFrame([\n",
    "    (1, 'Well', 1, 1),\n",
    "    (2, 'Well', 1, 9),\n",
    "    (3, 'Well', 1, 4),\n",
    "    (4, 'Well', 1, 3),\n",
    "    (5, 'Well', 0, 2),\n",
    "    (6, 'Well', 1, 0),\n",
    "    (7, 'Well', 0, 1),\n",
    "    (8, 'Well', 1, 3),\n",
    "    (9, 'Well', 1, 3),\n",
    "    (10, 'Well', 1, 7),\n",
    "    (11, 'Well', 0, 1),\n",
    "    (12, 'Well', 0, 2),\n",
    "    (13, 'Mild', 1, 5),\n",
    "    (14, 'Mild', 0, 6),\n",
    "    (15, 'Mild', 1, 3),\n",
    "    (16, 'Mild', 0, 1),\n",
    "    (17, 'Mild', 1, 8),\n",
    "    (18, 'Mild', 1, 2),\n",
    "    (19, 'Mild', 0, 5),\n",
    "    (20, 'Mild', 1, 5),\n",
    "    (21,' Mild', 1, 9),\n",
    "    (22, 'Mild', 0, 3),\n",
    "    (23, 'Mild', 1, 3),\n",
    "    (24, 'Mild', 1, 1),\n",
    "    (25, 'Moderate', 0, 0),\n",
    "    (26, 'Moderate', 1, 4),\n",
    "    (27, 'Moderate', 0, 3),\n",
    "    (28, 'Moderate', 0, 9),\n",
    "    (29, 'Moderate', 1, 6),\n",
    "    (30, 'Moderate', 0, 4),\n",
    "    (31, 'Moderate', 0, 3),\n",
    "    (32, 'Impaired', 1, 8),\n",
    "    (33, 'Impaired', 1, 2),\n",
    "    (34, 'Impaired', 1, 7),\n",
    "    (35, 'Impaired', 0, 5),\n",
    "    (36, 'Impaired', 0, 4),\n",
    "    (37, 'Impaired', 0, 4),\n",
    "    (38, 'Impaired', 1, 8),\n",
    "    (39, 'Impaired', 0, 8),\n",
    "    (40, 'Impaired', 0, 9),\n",
    "], columns=['Subject', 'Mental Impairment', 'SES', 'Life Events'])\n",
    "\n",
    "mental_impairment_data = mental_impairment_data.set_index('Subject')\n",
    "mental_impairment_data['Impaired'] = np.isin(\n",
    "    mental_impairment_data['Mental Impairment'].values, ['Moderate', 'Impaired'])\n",
    "mental_impairment_data"
   ]
  },
  {
   "cell_type": "code",
   "execution_count": 4,
   "metadata": {},
   "outputs": [
    {
     "data": {
      "image/png": "[encoded data removed]",
      "text/plain": [
       "<Figure size 360x288 with 1 Axes>"
      ]
     },
     "metadata": {
      "needs_background": "light"
     },
     "output_type": "display_data"
    }
   ],
   "source": [
    "fig = plt.figure(figsize=(5,4))\n",
    "ax = fig.gca()\n",
    "ax.grid(True)\n",
    "sns.boxplot(x='SES', y='Life Events', hue='Impaired', data=mental_impairment_data, ax=ax)\n",
    "fig.tight_layout()\n",
    "fig.savefig('p1_descriptive.pdf', bbox_inches='tight')"
   ]
  },
  {
   "cell_type": "markdown",
   "metadata": {},
   "source": [
    "## Model"
   ]
  },
  {
   "cell_type": "code",
   "execution_count": 272,
   "metadata": {},
   "outputs": [],
   "source": [
    "import collections\n",
    "\n",
    "from scipy import linalg\n",
    "from scipy import optimize\n",
    "from scipy import special\n",
    "from scipy import stats\n",
    "\n",
    "X = np.column_stack((\n",
    "    np.ones_like(mental_impairment_data['Impaired']), mental_impairment_data[['SES', 'Life Events']]))\n",
    "z = mental_impairment_data['Impaired'].values.astype(np.int64)"
   ]
  },
  {
   "cell_type": "code",
   "execution_count": 273,
   "metadata": {},
   "outputs": [
    {
     "data": {
      "text/html": [
       "<div>\n",
       "<style scoped>\n",
       "    .dataframe tbody tr th:only-of-type {\n",
       "        vertical-align: middle;\n",
       "    }\n",
       "\n",
       "    .dataframe tbody tr th {\n",
       "        vertical-align: top;\n",
       "    }\n",
       "\n",
       "    .dataframe thead th {\n",
       "        text-align: right;\n",
       "    }\n",
       "</style>\n",
       "<table border=\"1\" class=\"dataframe\">\n",
       "  <thead>\n",
       "    <tr style=\"text-align: right;\">\n",
       "      <th></th>\n",
       "      <th>Estimate</th>\n",
       "      <th>Standard error</th>\n",
       "      <th>95\\% CI lower bound</th>\n",
       "      <th>95\\% CI upper bound</th>\n",
       "    </tr>\n",
       "  </thead>\n",
       "  <tbody>\n",
       "    <tr>\n",
       "      <th>$\\gamma_0$</th>\n",
       "      <td>-0.925065</td>\n",
       "      <td>0.723346</td>\n",
       "      <td>-2.342797</td>\n",
       "      <td>0.492666</td>\n",
       "    </tr>\n",
       "    <tr>\n",
       "      <th>$\\gamma_1$</th>\n",
       "      <td>-1.629731</td>\n",
       "      <td>0.780849</td>\n",
       "      <td>-3.160167</td>\n",
       "      <td>-0.099296</td>\n",
       "    </tr>\n",
       "    <tr>\n",
       "      <th>$\\gamma_2$</th>\n",
       "      <td>0.309899</td>\n",
       "      <td>0.147920</td>\n",
       "      <td>0.019980</td>\n",
       "      <td>0.599818</td>\n",
       "    </tr>\n",
       "  </tbody>\n",
       "</table>\n",
       "</div>"
      ],
      "text/plain": [
       "            Estimate  Standard error  95\\% CI lower bound  95\\% CI upper bound\n",
       "$\\gamma_0$ -0.925065        0.723346            -2.342797             0.492666\n",
       "$\\gamma_1$ -1.629731        0.780849            -3.160167            -0.099296\n",
       "$\\gamma_2$  0.309899        0.147920             0.019980             0.599818"
      ]
     },
     "execution_count": 273,
     "metadata": {},
     "output_type": "execute_result"
    }
   ],
   "source": [
    "def score(X, z, gamma):\n",
    "    weight = (2*z - 1)/(1 + np.exp((2*z - 1)*np.matmul(X, gamma)))\n",
    "    return np.sum(weight[:,np.newaxis]*X, axis=0)\n",
    "\n",
    "def fisher_information(X, gamma):\n",
    "    outer_products = np.vectorize(lambda x, y: np.outer(x, y), signature='(m),(m)->(m,m)')(X, X)\n",
    "    weights = np.matmul(X, gamma)\n",
    "    weights = 1/(2 + np.exp(weights) + np.exp(-weights))    \n",
    "    return np.sum(weights[:,np.newaxis,np.newaxis]*outer_products, 0)\n",
    "\n",
    "def fit_logistic_regression(X, z):\n",
    "    gamma_hat = optimize.root(lambda gamma: score(X, z, gamma), [0., 0., 0.])\n",
    "    assert gamma_hat.success, 'Estimate should converge.'\n",
    "    gamma_hat = gamma_hat.x\n",
    "    gamma_hat_variance = linalg.cho_solve(linalg.cho_factor(fisher_information(X, gamma)), np.eye(len(gamma)))\n",
    "    return pd.DataFrame(collections.OrderedDict([\n",
    "        ('Estimate', gamma_hat),\n",
    "        ('Standard error', np.sqrt(np.diag(gamma_hat_variance))),\n",
    "        ('95\\% CI lower bound', gamma_hat + np.sqrt(np.diag(gamma_hat_variance))*stats.norm.ppf(0.025)),\n",
    "        ('95\\% CI upper bound', gamma_hat + np.sqrt(np.diag(gamma_hat_variance))*stats.norm.ppf(0.975)),\n",
    "    ]), index=['$\\gamma_{}$'.format(j) for j in range(len(gamma))])\n",
    "\n",
    "gamma_hat_summary = fit_logistic_regression(X, z)\n",
    "\n",
    "with open('p3_gamma_hat.tex', 'w') as f:\n",
    "    f.write(gamma_hat_summary.to_latex(escape=False))\n",
    "\n",
    "gamma_hat_summary"
   ]
  },
  {
   "cell_type": "code",
   "execution_count": 271,
   "metadata": {},
   "outputs": [
    {
     "data": {
      "text/plain": [
       "0.9785"
      ]
     },
     "execution_count": 271,
     "metadata": {},
     "output_type": "execute_result"
    }
   ],
   "source": [
    "np.random.seed(2018)\n",
    "success = 0\n",
    "num_trials = 2000\n",
    "for i in range(num_trials):\n",
    "    z = stats.bernoulli.rvs(special.expit(np.matmul(np.vstack((X,X,X)), gamma_hat_summary['Estimate'])))    \n",
    "    estimates = fit_logistic_regression(np.vstack((X,X,X)), z)    \n",
    "    success += estimates['95\\% CI lower bound'][0] <= gamma_hat_summary['Estimate'][0] and gamma_hat_summary['Estimate'][1] <= estimates['95\\% CI upper bound'][0]\n",
    "    \n",
    "success/num_trials"
   ]
  },
  {
   "cell_type": "code",
   "execution_count": 256,
   "metadata": {},
   "outputs": [
    {
     "data": {
      "text/plain": [
       "(80, 3)"
      ]
     },
     "execution_count": 256,
     "metadata": {},
     "output_type": "execute_result"
    }
   ],
   "source": [
    "np.vstack((X,X)).shape"
   ]
  },
  {
   "cell_type": "code",
   "execution_count": 261,
   "metadata": {},
   "outputs": [
    {
     "data": {
      "text/plain": [
       "0.942"
      ]
     },
     "execution_count": 261,
     "metadata": {},
     "output_type": "execute_result"
    }
   ],
   "source": [
    "success/num_trials"
   ]
  },
  {
   "cell_type": "code",
   "execution_count": 190,
   "metadata": {},
   "outputs": [
    {
     "data": {
      "text/plain": [
       "array([0.01314517, 0.10279626, 0.13366754, 0.23986298, 0.04215337,\n",
       "       0.03638381, 0.09203672, 0.07686816, 0.03806022, 0.02513363,\n",
       "       0.2240548 , 0.05971563, 0.24904511, 0.19873035, 0.12543827,\n",
       "       0.21378295, 0.17567532, 0.24338646, 0.10141109, 0.24968737,\n",
       "       0.24724797, 0.24964683, 0.06271876, 0.23756594, 0.24542109,\n",
       "       0.09002994, 0.23754954, 0.1546219 , 0.15098517, 0.0190094 ,\n",
       "       0.24825827, 0.01883503, 0.03358891, 0.01587927, 0.12363228,\n",
       "       0.20516338, 0.18869308, 0.2370747 , 0.09439047, 0.18812552,\n",
       "       0.02236262, 0.12105226, 0.12749297, 0.24722869, 0.17522108,\n",
       "       0.24904442, 0.23579483, 0.20312271, 0.24757001, 0.09527472,\n",
       "       0.0716536 , 0.22027522, 0.15372657, 0.04406568, 0.14866537,\n",
       "       0.2499941 , 0.20002082, 0.0244127 , 0.05003317, 0.24967862,\n",
       "       0.06061112, 0.07000361, 0.15575888, 0.07422648, 0.24912318,\n",
       "       0.10826981, 0.05223083, 0.19324835, 0.21577934, 0.09274465,\n",
       "       0.21041603, 0.12610562, 0.06004873, 0.1948146 , 0.15652947,\n",
       "       0.24317355, 0.14267881, 0.23930806, 0.02438349, 0.24226358,\n",
       "       0.16936222, 0.24993938, 0.24578581, 0.22444091, 0.24999933,\n",
       "       0.18807755, 0.11683876, 0.18202071, 0.24272761, 0.24979911,\n",
       "       0.04922154, 0.21821807, 0.05976255, 0.09617083, 0.02361709,\n",
       "       0.11057317, 0.14670631, 0.22659502, 0.22471941, 0.02220176])"
      ]
     },
     "execution_count": 190,
     "metadata": {},
     "output_type": "execute_result"
    }
   ],
   "source": [
    "q = special.expit(np.matmul(X, gamma))\n",
    "#np.outer(z - q, z - q)\n",
    "q*(1-q)"
   ]
  },
  {
   "cell_type": "code",
   "execution_count": 192,
   "metadata": {},
   "outputs": [
    {
     "data": {
      "text/plain": [
       "array([0.01314517, 0.10279626, 0.13366754, 0.23986298, 0.04215337,\n",
       "       0.03638381, 0.09203672, 0.07686816, 0.03806022, 0.02513363,\n",
       "       0.2240548 , 0.05971563, 0.24904511, 0.19873035, 0.12543827,\n",
       "       0.21378295, 0.17567532, 0.24338646, 0.10141109, 0.24968737,\n",
       "       0.24724797, 0.24964683, 0.06271876, 0.23756594, 0.24542109,\n",
       "       0.09002994, 0.23754954, 0.1546219 , 0.15098517, 0.0190094 ,\n",
       "       0.24825827, 0.01883503, 0.03358891, 0.01587927, 0.12363228,\n",
       "       0.20516338, 0.18869308, 0.2370747 , 0.09439047, 0.18812552,\n",
       "       0.02236262, 0.12105226, 0.12749297, 0.24722869, 0.17522108,\n",
       "       0.24904442, 0.23579483, 0.20312271, 0.24757001, 0.09527472,\n",
       "       0.0716536 , 0.22027522, 0.15372657, 0.04406568, 0.14866537,\n",
       "       0.2499941 , 0.20002082, 0.0244127 , 0.05003317, 0.24967862,\n",
       "       0.06061112, 0.07000361, 0.15575888, 0.07422648, 0.24912318,\n",
       "       0.10826981, 0.05223083, 0.19324835, 0.21577934, 0.09274465,\n",
       "       0.21041603, 0.12610562, 0.06004873, 0.1948146 , 0.15652947,\n",
       "       0.24317355, 0.14267881, 0.23930806, 0.02438349, 0.24226358,\n",
       "       0.16936222, 0.24993938, 0.24578581, 0.22444091, 0.24999933,\n",
       "       0.18807755, 0.11683876, 0.18202071, 0.24272761, 0.24979911,\n",
       "       0.04922154, 0.21821807, 0.05976255, 0.09617083, 0.02361709,\n",
       "       0.11057317, 0.14670631, 0.22659502, 0.22471941, 0.02220176])"
      ]
     },
     "execution_count": 192,
     "metadata": {},
     "output_type": "execute_result"
    }
   ],
   "source": [
    "1/(2 + np.exp(np.matmul(X, gamma)) + np.exp(-np.matmul(X, gamma)))"
   ]
  },
  {
   "cell_type": "code",
   "execution_count": 132,
   "metadata": {},
   "outputs": [
    {
     "name": "stdout",
     "output_type": "stream",
     "text": [
      "(0, 0)\n",
      "(0, 1)\n",
      "(0, 2)\n",
      "(0, 3)\n",
      "(0, 4)\n",
      "(0, 5)\n",
      "(0, 6)\n",
      "(0, 8)\n",
      "(0, 9)\n",
      "(1, 0)\n",
      "(1, 1)\n",
      "(1, 2)\n",
      "(1, 3)\n",
      "(1, 4)\n",
      "(1, 5)\n",
      "(1, 6)\n",
      "(1, 7)\n",
      "(1, 8)\n",
      "(1, 9)\n"
     ]
    }
   ],
   "source": [
    "odds_ratio_estimates = pd.DataFrame({\n",
    "    'Count': mental_impairment_data.groupby(['SES', 'Life Events']).size(),\n",
    "})\n",
    "for i in odds_ratio_estimates.index:\n",
    "    print(i)"
   ]
  },
  {
   "cell_type": "code",
   "execution_count": 112,
   "metadata": {},
   "outputs": [
    {
     "name": "stdout",
     "output_type": "stream",
     "text": [
      "-22.680460908852503\n"
     ]
    },
    {
     "data": {
      "text/plain": [
       "-45.44860034885251"
      ]
     },
     "execution_count": 112,
     "metadata": {},
     "output_type": "execute_result"
    }
   ],
   "source": [
    "print(log_likelihood(np.negative([ 0.92506522,  1.62973142, -0.30989884])))\n",
    "log_likelihood([ 0.92506522,  1.62973142, -0.30989884])"
   ]
  },
  {
   "cell_type": "code",
   "execution_count": 68,
   "metadata": {},
   "outputs": [
    {
     "data": {
      "text/plain": [
       "array([0.90420952, 0.44169325, 0.78838222, 0.8354973 , 0.5757297 ,\n",
       "       0.9278951 , 0.64911842, 0.8354973 , 0.8354973 , 0.5952001 ,\n",
       "       0.64911842, 0.5757297 , 0.73209982, 0.28204752, 0.8354973 ,\n",
       "       0.64911842, 0.51889248, 0.8738017 , 0.34877482, 0.73209982,\n",
       "       0.44169325, 0.49884218, 0.8354973 , 0.90420952, 0.71607305,\n",
       "       0.78838222, 0.49884218, 0.13423467, 0.6671679 , 0.42200937,\n",
       "       0.49884218, 0.51889248, 0.8738017 , 0.5952001 , 0.34877482,\n",
       "       0.42200937, 0.42200937, 0.51889248, 0.17449122, 0.13423467])"
      ]
     },
     "execution_count": 68,
     "metadata": {},
     "output_type": "execute_result"
    }
   ],
   "source": [
    "1/(1 + np.exp(-np.matmul(X, [0.92506522,  1.62973142, -0.30989884])))"
   ]
  },
  {
   "cell_type": "code",
   "execution_count": 27,
   "metadata": {},
   "outputs": [],
   "source": [
    "from sklearn import linear_model"
   ]
  },
  {
   "cell_type": "code",
   "execution_count": 154,
   "metadata": {},
   "outputs": [
    {
     "name": "stderr",
     "output_type": "stream",
     "text": [
      "/usr/local/lib/python3.5/dist-packages/sklearn/linear_model/logistic.py:432: FutureWarning: Default solver will be changed to 'lbfgs' in 0.22. Specify a solver to silence this warning.\n",
      "  FutureWarning)\n"
     ]
    },
    {
     "data": {
      "text/plain": [
       "array([[-0.92511511, -1.62968645,  0.3099026 ]])"
      ]
     },
     "execution_count": 154,
     "metadata": {},
     "output_type": "execute_result"
    }
   ],
   "source": [
    "tmp = linear_model.LogisticRegression(C=100000000, fit_intercept=False)\n",
    "tmp.fit(X, z)\n",
    "tmp.coef_"
   ]
  },
  {
   "cell_type": "code",
   "execution_count": 188,
   "metadata": {},
   "outputs": [
    {
     "data": {
      "text/plain": [
       "array([[143.33623892,   6.30241789,  32.98148876],\n",
       "       [  6.30241789, 121.63176689,  37.42449724],\n",
       "       [ 32.98148876,  37.42449724, 139.75335225]])"
      ]
     },
     "execution_count": 188,
     "metadata": {},
     "output_type": "execute_result"
    }
   ],
   "source": [
    "X = np.random.normal(size=(100,3))\n",
    "y = np.random.normal(size=(100,))\n",
    "\n",
    "X.T.dot(np.diagonal(np.outer(y, y))*np.eye(len(y))).dot(X)"
   ]
  },
  {
   "cell_type": "code",
   "execution_count": 189,
   "metadata": {},
   "outputs": [
    {
     "data": {
      "text/plain": [
       "array([[143.33623892,   6.30241789,  32.98148876],\n",
       "       [  6.30241789, 121.63176689,  37.42449724],\n",
       "       [ 32.98148876,  37.42449724, 139.75335225]])"
      ]
     },
     "execution_count": 189,
     "metadata": {},
     "output_type": "execute_result"
    }
   ],
   "source": [
    "np.sum(np.vectorize(lambda x, y: np.outer(x, y),\n",
    "             signature='(m),(m)->(m,m)')(X,X)*np.expand_dims(np.expand_dims(y, -1), -1)**2, 0)"
   ]
  },
  {
   "cell_type": "code",
   "execution_count": 178,
   "metadata": {},
   "outputs": [
    {
     "data": {
      "text/plain": [
       "array([[ 0.02017422,  0.01853516, -0.00230682],\n",
       "       [ 0.01853516,  0.01702928, -0.00211941],\n",
       "       [-0.00230682, -0.00211941,  0.00026377]])"
      ]
     },
     "execution_count": 178,
     "metadata": {},
     "output_type": "execute_result"
    }
   ],
   "source": [
    "np.outer(X[0], X[0])*y[0]*y[0]"
   ]
  }
 ],
 "metadata": {
  "kernelspec": {
   "display_name": "Python 3",
   "language": "python",
   "name": "python3"
  },
  "language_info": {
   "codemirror_mode": {
    "name": "ipython",
    "version": 3
   },
   "file_extension": ".py",
   "mimetype": "text/x-python",
   "name": "python",
   "nbconvert_exporter": "python",
   "pygments_lexer": "ipython3",
   "version": "3.5.2"
  }
 },
 "nbformat": 4,
 "nbformat_minor": 2
}
