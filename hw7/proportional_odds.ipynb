{
 "cells": [
  {
   "cell_type": "markdown",
   "metadata": {},
   "source": [
    "# Proportional Odds Model\n",
    "\n",
    "Fits a proporitional odds model to the mental impairment data."
   ]
  },
  {
   "cell_type": "code",
   "execution_count": 1,
   "metadata": {},
   "outputs": [
    {
     "data": {},
     "metadata": {},
     "output_type": "display_data"
    },
    {
     "data": {
      "text/html": [
       "<table>\n",
       "<thead><tr><th scope=col>Subject</th><th scope=col>Mental Impairment</th><th scope=col>SES</th><th scope=col>Life Events</th></tr></thead>\n",
       "<tbody>\n",
       "\t<tr><td> 1      </td><td>Well    </td><td>1       </td><td>1       </td></tr>\n",
       "\t<tr><td> 2      </td><td>Well    </td><td>1       </td><td>9       </td></tr>\n",
       "\t<tr><td> 3      </td><td>Well    </td><td>1       </td><td>4       </td></tr>\n",
       "\t<tr><td> 4      </td><td>Well    </td><td>1       </td><td>3       </td></tr>\n",
       "\t<tr><td> 5      </td><td>Well    </td><td>0       </td><td>2       </td></tr>\n",
       "\t<tr><td> 6      </td><td>Well    </td><td>1       </td><td>0       </td></tr>\n",
       "\t<tr><td> 7      </td><td>Well    </td><td>0       </td><td>1       </td></tr>\n",
       "\t<tr><td> 8      </td><td>Well    </td><td>1       </td><td>3       </td></tr>\n",
       "\t<tr><td> 9      </td><td>Well    </td><td>1       </td><td>3       </td></tr>\n",
       "\t<tr><td>10      </td><td>Well    </td><td>1       </td><td>7       </td></tr>\n",
       "\t<tr><td>11      </td><td>Well    </td><td>0       </td><td>1       </td></tr>\n",
       "\t<tr><td>12      </td><td>Well    </td><td>0       </td><td>2       </td></tr>\n",
       "\t<tr><td>13      </td><td>Mild    </td><td>1       </td><td>5       </td></tr>\n",
       "\t<tr><td>14      </td><td>Mild    </td><td>0       </td><td>6       </td></tr>\n",
       "\t<tr><td>15      </td><td>Mild    </td><td>1       </td><td>3       </td></tr>\n",
       "\t<tr><td>16      </td><td>Mild    </td><td>0       </td><td>1       </td></tr>\n",
       "\t<tr><td>17      </td><td>Mild    </td><td>1       </td><td>8       </td></tr>\n",
       "\t<tr><td>18      </td><td>Mild    </td><td>1       </td><td>2       </td></tr>\n",
       "\t<tr><td>19      </td><td>Mild    </td><td>0       </td><td>5       </td></tr>\n",
       "\t<tr><td>20      </td><td>Mild    </td><td>1       </td><td>5       </td></tr>\n",
       "\t<tr><td>21      </td><td>Mild    </td><td>1       </td><td>9       </td></tr>\n",
       "\t<tr><td>22      </td><td>Mild    </td><td>0       </td><td>3       </td></tr>\n",
       "\t<tr><td>23      </td><td>Mild    </td><td>1       </td><td>3       </td></tr>\n",
       "\t<tr><td>24      </td><td>Mild    </td><td>1       </td><td>1       </td></tr>\n",
       "\t<tr><td>25      </td><td>Moderate</td><td>0       </td><td>0       </td></tr>\n",
       "\t<tr><td>26      </td><td>Moderate</td><td>1       </td><td>4       </td></tr>\n",
       "\t<tr><td>27      </td><td>Moderate</td><td>0       </td><td>3       </td></tr>\n",
       "\t<tr><td>28      </td><td>Moderate</td><td>0       </td><td>9       </td></tr>\n",
       "\t<tr><td>29      </td><td>Moderate</td><td>1       </td><td>6       </td></tr>\n",
       "\t<tr><td>30      </td><td>Moderate</td><td>0       </td><td>4       </td></tr>\n",
       "\t<tr><td>31      </td><td>Moderate</td><td>0       </td><td>3       </td></tr>\n",
       "\t<tr><td>32      </td><td>Impaired</td><td>1       </td><td>8       </td></tr>\n",
       "\t<tr><td>33      </td><td>Impaired</td><td>1       </td><td>2       </td></tr>\n",
       "\t<tr><td>34      </td><td>Impaired</td><td>1       </td><td>7       </td></tr>\n",
       "\t<tr><td>35      </td><td>Impaired</td><td>0       </td><td>5       </td></tr>\n",
       "\t<tr><td>36      </td><td>Impaired</td><td>0       </td><td>4       </td></tr>\n",
       "\t<tr><td>37      </td><td>Impaired</td><td>0       </td><td>4       </td></tr>\n",
       "\t<tr><td>38      </td><td>Impaired</td><td>1       </td><td>8       </td></tr>\n",
       "\t<tr><td>39      </td><td>Impaired</td><td>0       </td><td>8       </td></tr>\n",
       "\t<tr><td>40      </td><td>Impaired</td><td>0       </td><td>9       </td></tr>\n",
       "</tbody>\n",
       "</table>\n"
      ],
      "text/latex": [
       "\\begin{tabular}{r|llll}\n",
       " Subject & Mental Impairment & SES & Life Events\\\\\n",
       "\\hline\n",
       "\t  1       & Well     & 1        & 1       \\\\\n",
       "\t  2       & Well     & 1        & 9       \\\\\n",
       "\t  3       & Well     & 1        & 4       \\\\\n",
       "\t  4       & Well     & 1        & 3       \\\\\n",
       "\t  5       & Well     & 0        & 2       \\\\\n",
       "\t  6       & Well     & 1        & 0       \\\\\n",
       "\t  7       & Well     & 0        & 1       \\\\\n",
       "\t  8       & Well     & 1        & 3       \\\\\n",
       "\t  9       & Well     & 1        & 3       \\\\\n",
       "\t 10       & Well     & 1        & 7       \\\\\n",
       "\t 11       & Well     & 0        & 1       \\\\\n",
       "\t 12       & Well     & 0        & 2       \\\\\n",
       "\t 13       & Mild     & 1        & 5       \\\\\n",
       "\t 14       & Mild     & 0        & 6       \\\\\n",
       "\t 15       & Mild     & 1        & 3       \\\\\n",
       "\t 16       & Mild     & 0        & 1       \\\\\n",
       "\t 17       & Mild     & 1        & 8       \\\\\n",
       "\t 18       & Mild     & 1        & 2       \\\\\n",
       "\t 19       & Mild     & 0        & 5       \\\\\n",
       "\t 20       & Mild     & 1        & 5       \\\\\n",
       "\t 21       & Mild     & 1        & 9       \\\\\n",
       "\t 22       & Mild     & 0        & 3       \\\\\n",
       "\t 23       & Mild     & 1        & 3       \\\\\n",
       "\t 24       & Mild     & 1        & 1       \\\\\n",
       "\t 25       & Moderate & 0        & 0       \\\\\n",
       "\t 26       & Moderate & 1        & 4       \\\\\n",
       "\t 27       & Moderate & 0        & 3       \\\\\n",
       "\t 28       & Moderate & 0        & 9       \\\\\n",
       "\t 29       & Moderate & 1        & 6       \\\\\n",
       "\t 30       & Moderate & 0        & 4       \\\\\n",
       "\t 31       & Moderate & 0        & 3       \\\\\n",
       "\t 32       & Impaired & 1        & 8       \\\\\n",
       "\t 33       & Impaired & 1        & 2       \\\\\n",
       "\t 34       & Impaired & 1        & 7       \\\\\n",
       "\t 35       & Impaired & 0        & 5       \\\\\n",
       "\t 36       & Impaired & 0        & 4       \\\\\n",
       "\t 37       & Impaired & 0        & 4       \\\\\n",
       "\t 38       & Impaired & 1        & 8       \\\\\n",
       "\t 39       & Impaired & 0        & 8       \\\\\n",
       "\t 40       & Impaired & 0        & 9       \\\\\n",
       "\\end{tabular}\n"
      ],
      "text/markdown": [
       "\n",
       "Subject | Mental Impairment | SES | Life Events | \n",
       "|---|---|---|---|---|---|---|---|---|---|---|---|---|---|---|---|---|---|---|---|---|---|---|---|---|---|---|---|---|---|---|---|---|---|---|---|---|---|---|---|\n",
       "|  1       | Well     | 1        | 1        | \n",
       "|  2       | Well     | 1        | 9        | \n",
       "|  3       | Well     | 1        | 4        | \n",
       "|  4       | Well     | 1        | 3        | \n",
       "|  5       | Well     | 0        | 2        | \n",
       "|  6       | Well     | 1        | 0        | \n",
       "|  7       | Well     | 0        | 1        | \n",
       "|  8       | Well     | 1        | 3        | \n",
       "|  9       | Well     | 1        | 3        | \n",
       "| 10       | Well     | 1        | 7        | \n",
       "| 11       | Well     | 0        | 1        | \n",
       "| 12       | Well     | 0        | 2        | \n",
       "| 13       | Mild     | 1        | 5        | \n",
       "| 14       | Mild     | 0        | 6        | \n",
       "| 15       | Mild     | 1        | 3        | \n",
       "| 16       | Mild     | 0        | 1        | \n",
       "| 17       | Mild     | 1        | 8        | \n",
       "| 18       | Mild     | 1        | 2        | \n",
       "| 19       | Mild     | 0        | 5        | \n",
       "| 20       | Mild     | 1        | 5        | \n",
       "| 21       | Mild     | 1        | 9        | \n",
       "| 22       | Mild     | 0        | 3        | \n",
       "| 23       | Mild     | 1        | 3        | \n",
       "| 24       | Mild     | 1        | 1        | \n",
       "| 25       | Moderate | 0        | 0        | \n",
       "| 26       | Moderate | 1        | 4        | \n",
       "| 27       | Moderate | 0        | 3        | \n",
       "| 28       | Moderate | 0        | 9        | \n",
       "| 29       | Moderate | 1        | 6        | \n",
       "| 30       | Moderate | 0        | 4        | \n",
       "| 31       | Moderate | 0        | 3        | \n",
       "| 32       | Impaired | 1        | 8        | \n",
       "| 33       | Impaired | 1        | 2        | \n",
       "| 34       | Impaired | 1        | 7        | \n",
       "| 35       | Impaired | 0        | 5        | \n",
       "| 36       | Impaired | 0        | 4        | \n",
       "| 37       | Impaired | 0        | 4        | \n",
       "| 38       | Impaired | 1        | 8        | \n",
       "| 39       | Impaired | 0        | 8        | \n",
       "| 40       | Impaired | 0        | 9        | \n",
       "\n",
       "\n"
      ],
      "text/plain": [
       "   Subject Mental Impairment SES Life Events\n",
       "1   1      Well              1   1          \n",
       "2   2      Well              1   9          \n",
       "3   3      Well              1   4          \n",
       "4   4      Well              1   3          \n",
       "5   5      Well              0   2          \n",
       "6   6      Well              1   0          \n",
       "7   7      Well              0   1          \n",
       "8   8      Well              1   3          \n",
       "9   9      Well              1   3          \n",
       "10 10      Well              1   7          \n",
       "11 11      Well              0   1          \n",
       "12 12      Well              0   2          \n",
       "13 13      Mild              1   5          \n",
       "14 14      Mild              0   6          \n",
       "15 15      Mild              1   3          \n",
       "16 16      Mild              0   1          \n",
       "17 17      Mild              1   8          \n",
       "18 18      Mild              1   2          \n",
       "19 19      Mild              0   5          \n",
       "20 20      Mild              1   5          \n",
       "21 21      Mild              1   9          \n",
       "22 22      Mild              0   3          \n",
       "23 23      Mild              1   3          \n",
       "24 24      Mild              1   1          \n",
       "25 25      Moderate          0   0          \n",
       "26 26      Moderate          1   4          \n",
       "27 27      Moderate          0   3          \n",
       "28 28      Moderate          0   9          \n",
       "29 29      Moderate          1   6          \n",
       "30 30      Moderate          0   4          \n",
       "31 31      Moderate          0   3          \n",
       "32 32      Impaired          1   8          \n",
       "33 33      Impaired          1   2          \n",
       "34 34      Impaired          1   7          \n",
       "35 35      Impaired          0   5          \n",
       "36 36      Impaired          0   4          \n",
       "37 37      Impaired          0   4          \n",
       "38 38      Impaired          1   8          \n",
       "39 39      Impaired          0   8          \n",
       "40 40      Impaired          0   9          "
      ]
     },
     "metadata": {},
     "output_type": "display_data"
    }
   ],
   "source": [
    "library(data.table)\n",
    "library(ggplot2)\n",
    "library(MASS)\n",
    "library(xtable)\n",
    "\n",
    "mental.impairment <- data.table(read.csv('mental_impairment.csv', check.names=FALSE))\n",
    "mental.impairment[,`Mental Impairment`:=factor(\n",
    "    `Mental Impairment`,\n",
    "    ordered=TRUE,\n",
    "    c('Well', 'Mild', 'Moderate', 'Impaired'))]\n",
    "mental.impairment"
   ]
  },
  {
   "cell_type": "code",
   "execution_count": 2,
   "metadata": {},
   "outputs": [],
   "source": [
    "model.list <- lapply(list(`Mental Impairment` ~ 1,\n",
    "                          `Mental Impairment` ~ 1 + SES,\n",
    "                          `Mental Impairment` ~ 1 + `Life Events`,\n",
    "                          `Mental Impairment` ~ 1 + SES + `Life Events`),\n",
    "       polr, data=mental.impairment, method='logistic')"
   ]
  },
  {
   "cell_type": "code",
   "execution_count": 3,
   "metadata": {},
   "outputs": [
    {
     "data": {
      "text/html": [
       "<table>\n",
       "<thead><tr><th></th><th scope=col>$\\alpha_0$</th><th scope=col>$\\alpha_1$</th><th scope=col>$\\alpha_2$</th><th scope=col>$\\beta_1$</th><th scope=col>$\\beta_2$</th><th scope=col>Log-likelihood</th></tr></thead>\n",
       "<tbody>\n",
       "\t<tr><th scope=row>Equation \\ref{eqn:p7_model_1}</th><td>-0.8472977 </td><td> 0.40545274</td><td>1.236750   </td><td>        NA </td><td>       NA  </td><td>-54.52103  </td></tr>\n",
       "\t<tr><th scope=row>Equation \\ref{eqn:p7_model_2}</th><td>-1.3637602 </td><td>-0.04172851</td><td>0.830611   </td><td>-0.8553378 </td><td>       NA  </td><td>-53.43718  </td></tr>\n",
       "\t<tr><th scope=row>Equation \\ref{eqn:p7_model_3}</th><td> 0.2614334 </td><td> 1.65627518</td><td>2.587626   </td><td>        NA </td><td>0.2879300  </td><td>-51.26354  </td></tr>\n",
       "\t<tr><th scope=row>Equation \\ref{eqn:p7_model_4}</th><td>-0.2819031 </td><td> 1.21279257</td><td>2.209372   </td><td>-1.1112310 </td><td>0.3188613  </td><td>-49.54895  </td></tr>\n",
       "</tbody>\n",
       "</table>\n"
      ],
      "text/latex": [
       "\\begin{tabular}{r|llllll}\n",
       "  & \\$\\textbackslash{}alpha\\_0\\$ & \\$\\textbackslash{}alpha\\_1\\$ & \\$\\textbackslash{}alpha\\_2\\$ & \\$\\textbackslash{}beta\\_1\\$ & \\$\\textbackslash{}beta\\_2\\$ & Log-likelihood\\\\\n",
       "\\hline\n",
       "\tEquation \\textbackslash{}ref\\{eqn:p7\\_model\\_1\\} & -0.8472977  &  0.40545274 & 1.236750    &         NA  &        NA   & -54.52103  \\\\\n",
       "\tEquation \\textbackslash{}ref\\{eqn:p7\\_model\\_2\\} & -1.3637602  & -0.04172851 & 0.830611    & -0.8553378  &        NA   & -53.43718  \\\\\n",
       "\tEquation \\textbackslash{}ref\\{eqn:p7\\_model\\_3\\} &  0.2614334  &  1.65627518 & 2.587626    &         NA  & 0.2879300   & -51.26354  \\\\\n",
       "\tEquation \\textbackslash{}ref\\{eqn:p7\\_model\\_4\\} & -0.2819031  &  1.21279257 & 2.209372    & -1.1112310  & 0.3188613   & -49.54895  \\\\\n",
       "\\end{tabular}\n"
      ],
      "text/markdown": [
       "\n",
       "| <!--/--> | $\\alpha_0$ | $\\alpha_1$ | $\\alpha_2$ | $\\beta_1$ | $\\beta_2$ | Log-likelihood | \n",
       "|---|---|---|---|\n",
       "| Equation \\ref{eqn:p7_model_1} | -0.8472977  |  0.40545274 | 1.236750    |         NA  |        NA   | -54.52103   | \n",
       "| Equation \\ref{eqn:p7_model_2} | -1.3637602  | -0.04172851 | 0.830611    | -0.8553378  |        NA   | -53.43718   | \n",
       "| Equation \\ref{eqn:p7_model_3} |  0.2614334  |  1.65627518 | 2.587626    |         NA  | 0.2879300   | -51.26354   | \n",
       "| Equation \\ref{eqn:p7_model_4} | -0.2819031  |  1.21279257 | 2.209372    | -1.1112310  | 0.3188613   | -49.54895   | \n",
       "\n",
       "\n"
      ],
      "text/plain": [
       "                               $\\\\alpha_0$ $\\\\alpha_1$ $\\\\alpha_2$ $\\\\beta_1$\n",
       "Equation \\\\ref{eqn:p7_model_1} -0.8472977   0.40545274 1.236750            NA\n",
       "Equation \\\\ref{eqn:p7_model_2} -1.3637602  -0.04172851 0.830611    -0.8553378\n",
       "Equation \\\\ref{eqn:p7_model_3}  0.2614334   1.65627518 2.587626            NA\n",
       "Equation \\\\ref{eqn:p7_model_4} -0.2819031   1.21279257 2.209372    -1.1112310\n",
       "                               $\\\\beta_2$ Log-likelihood\n",
       "Equation \\\\ref{eqn:p7_model_1}        NA  -54.52103     \n",
       "Equation \\\\ref{eqn:p7_model_2}        NA  -53.43718     \n",
       "Equation \\\\ref{eqn:p7_model_3} 0.2879300  -51.26354     \n",
       "Equation \\\\ref{eqn:p7_model_4} 0.3188613  -49.54895     "
      ]
     },
     "metadata": {},
     "output_type": "display_data"
    }
   ],
   "source": [
    "log.likelihood <- function(model, data) {\n",
    "    probabilities = predict(model, data, type='probs')\n",
    "    index <- t(sapply(data$`Mental Impairment`, function(x) { x == levels(x) }))\n",
    "    sum(log(probabilities[index]))\n",
    "}\n",
    "\n",
    "model.summary <- data.frame(\n",
    "    `$\\\\alpha_0$`=sapply(model.list, function(model) { model$zeta[1] }),\n",
    "    `$\\\\alpha_1$`=sapply(model.list, function(model) { model$zeta[2] }),\n",
    "    `$\\\\alpha_2$`=sapply(model.list, function(model) { model$zeta[3] }),\n",
    "    `$\\\\beta_1$`=sapply(\n",
    "        model.list,\n",
    "        function(model) { if('SES' %in% names(model$coefficients)) model$coefficients['SES'] else NA }),\n",
    "    `$\\\\beta_2$`=sapply(\n",
    "        model.list,\n",
    "        function(model) { if('`Life Events`' %in% names(model$coefficients)) model$coefficients['`Life Events`'] else NA }),\n",
    "    `Log-likelihood`=sapply(\n",
    "        model.list,\n",
    "        function(model) { log.likelihood(model, mental.impairment) }),\n",
    "    row.names=c('Equation \\\\ref{eqn:p7_model_1}',\n",
    "                'Equation \\\\ref{eqn:p7_model_2}',\n",
    "                'Equation \\\\ref{eqn:p7_model_3}',\n",
    "                'Equation \\\\ref{eqn:p7_model_4}'),\n",
    "    check.names=FALSE)\n",
    "\n",
    "print(xtable(model.summary,\n",
    "             caption='Results of fitting various models corresponding to each equation.',\n",
    "             label='tab:p7_model_summary',\n",
    "             digits=c(0, 3, 3, 3, 3, 3, 3)),\n",
    "      booktabs=TRUE, file='p7_model_summary.tex',\n",
    "      sanitize.colnames.function=identity,\n",
    "      sanitize.rownames.function=identity)\n",
    "                         \n",
    "model.summary"
   ]
  },
  {
   "cell_type": "code",
   "execution_count": 4,
   "metadata": {},
   "outputs": [
    {
     "data": {
      "text/html": [
       "<table>\n",
       "<thead><tr><th scope=col>Alternate Model</th><th scope=col>Null Model</th><th scope=col>Degrees of freedom</th><th scope=col>Deviance</th><th scope=col>$p$-value</th></tr></thead>\n",
       "<tbody>\n",
       "\t<tr><td>2          </td><td>1          </td><td>1          </td><td>2.167700   </td><td>0.140936928</td></tr>\n",
       "\t<tr><td>3          </td><td>1          </td><td>1          </td><td>6.514977   </td><td>0.010696971</td></tr>\n",
       "\t<tr><td>4          </td><td>1          </td><td>2          </td><td>9.944156   </td><td>0.006928734</td></tr>\n",
       "\t<tr><td>4          </td><td>2          </td><td>1          </td><td>7.776457   </td><td>0.005293151</td></tr>\n",
       "\t<tr><td>4          </td><td>3          </td><td>1          </td><td>3.429180   </td><td>0.064053916</td></tr>\n",
       "</tbody>\n",
       "</table>\n"
      ],
      "text/latex": [
       "\\begin{tabular}{r|lllll}\n",
       " Alternate Model & Null Model & Degrees of freedom & Deviance & \\$p\\$-value\\\\\n",
       "\\hline\n",
       "\t 2           & 1           & 1           & 2.167700    & 0.140936928\\\\\n",
       "\t 3           & 1           & 1           & 6.514977    & 0.010696971\\\\\n",
       "\t 4           & 1           & 2           & 9.944156    & 0.006928734\\\\\n",
       "\t 4           & 2           & 1           & 7.776457    & 0.005293151\\\\\n",
       "\t 4           & 3           & 1           & 3.429180    & 0.064053916\\\\\n",
       "\\end{tabular}\n"
      ],
      "text/markdown": [
       "\n",
       "Alternate Model | Null Model | Degrees of freedom | Deviance | $p$-value | \n",
       "|---|---|---|---|---|\n",
       "| 2           | 1           | 1           | 2.167700    | 0.140936928 | \n",
       "| 3           | 1           | 1           | 6.514977    | 0.010696971 | \n",
       "| 4           | 1           | 2           | 9.944156    | 0.006928734 | \n",
       "| 4           | 2           | 1           | 7.776457    | 0.005293151 | \n",
       "| 4           | 3           | 1           | 3.429180    | 0.064053916 | \n",
       "\n",
       "\n"
      ],
      "text/plain": [
       "  Alternate Model Null Model Degrees of freedom Deviance $p$-value  \n",
       "1 2               1          1                  2.167700 0.140936928\n",
       "2 3               1          1                  6.514977 0.010696971\n",
       "3 4               1          2                  9.944156 0.006928734\n",
       "4 4               2          1                  7.776457 0.005293151\n",
       "5 4               3          1                  3.429180 0.064053916"
      ]
     },
     "metadata": {},
     "output_type": "display_data"
    }
   ],
   "source": [
    "# Set up hypotheses\n",
    "likelihood.ratio.test <- data.frame(\n",
    "    `Alternate Model`=c(2, 3, 4, 4, 4),\n",
    "    `Null Model`=c(1, 1, 1, 2, 3),\n",
    "    `Degrees of freedom`=c(1,1,2,1,1),\n",
    "    check.names=FALSE)\n",
    "\n",
    "# Statistical test\n",
    "likelihood.ratio.test$Deviance <- apply(likelihood.ratio.test, MARGIN=1, FUN=function(hypothesis) {\n",
    "    model.list[[hypothesis['Null Model']]]$deviance - model.list[[hypothesis['Alternate Model']]]$deviance\n",
    "})\n",
    "likelihood.ratio.test$`$p$-value` <- with(\n",
    "    likelihood.ratio.test, pchisq(Deviance, df=`Degrees of freedom`, lower.tail=FALSE))\n",
    "\n",
    "likelihood.ratio.test"
   ]
  },
  {
   "cell_type": "code",
   "execution_count": 5,
   "metadata": {},
   "outputs": [],
   "source": [
    "# Pretty print\n",
    "likelihood.ratio.test$`Alternate Model` <- with(        \n",
    "    likelihood.ratio.test, row.names(model.summary)[`Alternate Model`])\n",
    "likelihood.ratio.test$`Null Model` <- with(\n",
    "    likelihood.ratio.test, row.names(model.summary)[`Null Model`])\n",
    "\n",
    "print(xtable(likelihood.ratio.test,\n",
    "             caption='Likelihood ratio tests comparing the models in Table \\\\ref{tab:p7_model_summary}.',\n",
    "             label='tab:p7_likelihood_ratio_test',\n",
    "             digits=c(0, 0, 0, 0, 5, 5)),\n",
    "      booktabs=TRUE, file='p7_likelihood_ratio_test.tex',\n",
    "      include.rownames=FALSE,\n",
    "      sanitize.colnames.function=identity,\n",
    "      sanitize.text.function=identity)"
   ]
  },
  {
   "cell_type": "code",
   "execution_count": 6,
   "metadata": {},
   "outputs": [],
   "source": [
    "probabilities <- with(mental.impairment, CJ(SES=sort(unique(SES)), `Life Events`=sort(unique(`Life Events`))))\n",
    "probabilities <- cbind(probabilities, predict(model.list[[4]], probabilities, type='prob'))\n",
    "probabilities <- with(\n",
    "    mental.impairment,\n",
    "    melt(probabilities, measure.vars=levels(`Mental Impairment`),\n",
    "         variable.name='Mental Impairment', value.name='Probability'))"
   ]
  },
  {
   "cell_type": "code",
   "execution_count": 7,
   "metadata": {},
   "outputs": [
    {
     "data": {},
     "metadata": {},
     "output_type": "display_data"
    },
    {
     "data": {
      "text/html": [
       "<strong>png:</strong> 2"
      ],
      "text/latex": [
       "\\textbf{png:} 2"
      ],
      "text/markdown": [
       "**png:** 2"
      ],
      "text/plain": [
       "png \n",
       "  2 "
      ]
     },
     "metadata": {},
     "output_type": "display_data"
    },
    {
     "data": {},
     "metadata": {},
     "output_type": "display_data"
    },
    {
     "data": {
      "image/png": "[encoded data removed]",
      "text/plain": [
       "plot without title"
      ]
     },
     "metadata": {},
     "output_type": "display_data"
    }
   ],
   "source": [
    "fig <- ggplot(probabilities, aes(x=`Life Events`, y=Probability, color=`Mental Impairment`)) +\n",
    "  geom_line(aes(group=interaction(factor(SES), `Mental Impairment`)), alpha=0.8) + \n",
    "  geom_point(aes(shape=factor(SES)), size=2.5, alpha=0.8) +  \n",
    "  scale_color_brewer('Mental Impairment', palette='Set1') +\n",
    "  scale_shape_discrete('SES') +\n",
    "  scale_x_continuous('Life Events')\n",
    "\n",
    "pdf('p8_fitted_probabilities.pdf', width =6, height=3.75)\n",
    "fig\n",
    "dev.off()\n",
    "\n",
    "options(repr.plot.width=6, repr.plot.height=3.75)\n",
    "fig"
   ]
  }
 ],
 "metadata": {
  "kernelspec": {
   "display_name": "R",
   "language": "R",
   "name": "ir"
  },
  "language_info": {
   "codemirror_mode": "r",
   "file_extension": ".r",
   "mimetype": "text/x-r-source",
   "name": "R",
   "pygments_lexer": "r",
   "version": "3.5.1"
  }
 },
 "nbformat": 4,
 "nbformat_minor": 2
}
