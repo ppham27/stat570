{
 "cells": [
  {
   "cell_type": "code",
   "execution_count": 1,
   "metadata": {},
   "outputs": [
    {
     "data": {},
     "metadata": {},
     "output_type": "display_data"
    },
    {
     "data": {
      "text/html": [
       "<table>\n",
       "<thead><tr><th scope=col>Subject</th><th scope=col>Mental Impairment</th><th scope=col>SES</th><th scope=col>Life Events</th></tr></thead>\n",
       "<tbody>\n",
       "\t<tr><td> 1      </td><td>Well    </td><td>1       </td><td>1       </td></tr>\n",
       "\t<tr><td> 2      </td><td>Well    </td><td>1       </td><td>9       </td></tr>\n",
       "\t<tr><td> 3      </td><td>Well    </td><td>1       </td><td>4       </td></tr>\n",
       "\t<tr><td> 4      </td><td>Well    </td><td>1       </td><td>3       </td></tr>\n",
       "\t<tr><td> 5      </td><td>Well    </td><td>0       </td><td>2       </td></tr>\n",
       "\t<tr><td> 6      </td><td>Well    </td><td>1       </td><td>0       </td></tr>\n",
       "\t<tr><td> 7      </td><td>Well    </td><td>0       </td><td>1       </td></tr>\n",
       "\t<tr><td> 8      </td><td>Well    </td><td>1       </td><td>3       </td></tr>\n",
       "\t<tr><td> 9      </td><td>Well    </td><td>1       </td><td>3       </td></tr>\n",
       "\t<tr><td>10      </td><td>Well    </td><td>1       </td><td>7       </td></tr>\n",
       "\t<tr><td>11      </td><td>Well    </td><td>0       </td><td>1       </td></tr>\n",
       "\t<tr><td>12      </td><td>Well    </td><td>0       </td><td>2       </td></tr>\n",
       "\t<tr><td>13      </td><td>Mild    </td><td>1       </td><td>5       </td></tr>\n",
       "\t<tr><td>14      </td><td>Mild    </td><td>0       </td><td>6       </td></tr>\n",
       "\t<tr><td>15      </td><td>Mild    </td><td>1       </td><td>3       </td></tr>\n",
       "\t<tr><td>16      </td><td>Mild    </td><td>0       </td><td>1       </td></tr>\n",
       "\t<tr><td>17      </td><td>Mild    </td><td>1       </td><td>8       </td></tr>\n",
       "\t<tr><td>18      </td><td>Mild    </td><td>1       </td><td>2       </td></tr>\n",
       "\t<tr><td>19      </td><td>Mild    </td><td>0       </td><td>5       </td></tr>\n",
       "\t<tr><td>20      </td><td>Mild    </td><td>1       </td><td>5       </td></tr>\n",
       "\t<tr><td>21      </td><td>Mild    </td><td>1       </td><td>9       </td></tr>\n",
       "\t<tr><td>22      </td><td>Mild    </td><td>0       </td><td>3       </td></tr>\n",
       "\t<tr><td>23      </td><td>Mild    </td><td>1       </td><td>3       </td></tr>\n",
       "\t<tr><td>24      </td><td>Mild    </td><td>1       </td><td>1       </td></tr>\n",
       "\t<tr><td>25      </td><td>Moderate</td><td>0       </td><td>0       </td></tr>\n",
       "\t<tr><td>26      </td><td>Moderate</td><td>1       </td><td>4       </td></tr>\n",
       "\t<tr><td>27      </td><td>Moderate</td><td>0       </td><td>3       </td></tr>\n",
       "\t<tr><td>28      </td><td>Moderate</td><td>0       </td><td>9       </td></tr>\n",
       "\t<tr><td>29      </td><td>Moderate</td><td>1       </td><td>6       </td></tr>\n",
       "\t<tr><td>30      </td><td>Moderate</td><td>0       </td><td>4       </td></tr>\n",
       "\t<tr><td>31      </td><td>Moderate</td><td>0       </td><td>3       </td></tr>\n",
       "\t<tr><td>32      </td><td>Impaired</td><td>1       </td><td>8       </td></tr>\n",
       "\t<tr><td>33      </td><td>Impaired</td><td>1       </td><td>2       </td></tr>\n",
       "\t<tr><td>34      </td><td>Impaired</td><td>1       </td><td>7       </td></tr>\n",
       "\t<tr><td>35      </td><td>Impaired</td><td>0       </td><td>5       </td></tr>\n",
       "\t<tr><td>36      </td><td>Impaired</td><td>0       </td><td>4       </td></tr>\n",
       "\t<tr><td>37      </td><td>Impaired</td><td>0       </td><td>4       </td></tr>\n",
       "\t<tr><td>38      </td><td>Impaired</td><td>1       </td><td>8       </td></tr>\n",
       "\t<tr><td>39      </td><td>Impaired</td><td>0       </td><td>8       </td></tr>\n",
       "\t<tr><td>40      </td><td>Impaired</td><td>0       </td><td>9       </td></tr>\n",
       "</tbody>\n",
       "</table>\n"
      ],
      "text/latex": [
       "\\begin{tabular}{r|llll}\n",
       " Subject & Mental Impairment & SES & Life Events\\\\\n",
       "\\hline\n",
       "\t  1       & Well     & 1        & 1       \\\\\n",
       "\t  2       & Well     & 1        & 9       \\\\\n",
       "\t  3       & Well     & 1        & 4       \\\\\n",
       "\t  4       & Well     & 1        & 3       \\\\\n",
       "\t  5       & Well     & 0        & 2       \\\\\n",
       "\t  6       & Well     & 1        & 0       \\\\\n",
       "\t  7       & Well     & 0        & 1       \\\\\n",
       "\t  8       & Well     & 1        & 3       \\\\\n",
       "\t  9       & Well     & 1        & 3       \\\\\n",
       "\t 10       & Well     & 1        & 7       \\\\\n",
       "\t 11       & Well     & 0        & 1       \\\\\n",
       "\t 12       & Well     & 0        & 2       \\\\\n",
       "\t 13       & Mild     & 1        & 5       \\\\\n",
       "\t 14       & Mild     & 0        & 6       \\\\\n",
       "\t 15       & Mild     & 1        & 3       \\\\\n",
       "\t 16       & Mild     & 0        & 1       \\\\\n",
       "\t 17       & Mild     & 1        & 8       \\\\\n",
       "\t 18       & Mild     & 1        & 2       \\\\\n",
       "\t 19       & Mild     & 0        & 5       \\\\\n",
       "\t 20       & Mild     & 1        & 5       \\\\\n",
       "\t 21       & Mild     & 1        & 9       \\\\\n",
       "\t 22       & Mild     & 0        & 3       \\\\\n",
       "\t 23       & Mild     & 1        & 3       \\\\\n",
       "\t 24       & Mild     & 1        & 1       \\\\\n",
       "\t 25       & Moderate & 0        & 0       \\\\\n",
       "\t 26       & Moderate & 1        & 4       \\\\\n",
       "\t 27       & Moderate & 0        & 3       \\\\\n",
       "\t 28       & Moderate & 0        & 9       \\\\\n",
       "\t 29       & Moderate & 1        & 6       \\\\\n",
       "\t 30       & Moderate & 0        & 4       \\\\\n",
       "\t 31       & Moderate & 0        & 3       \\\\\n",
       "\t 32       & Impaired & 1        & 8       \\\\\n",
       "\t 33       & Impaired & 1        & 2       \\\\\n",
       "\t 34       & Impaired & 1        & 7       \\\\\n",
       "\t 35       & Impaired & 0        & 5       \\\\\n",
       "\t 36       & Impaired & 0        & 4       \\\\\n",
       "\t 37       & Impaired & 0        & 4       \\\\\n",
       "\t 38       & Impaired & 1        & 8       \\\\\n",
       "\t 39       & Impaired & 0        & 8       \\\\\n",
       "\t 40       & Impaired & 0        & 9       \\\\\n",
       "\\end{tabular}\n"
      ],
      "text/markdown": [
       "\n",
       "Subject | Mental Impairment | SES | Life Events | \n",
       "|---|---|---|---|---|---|---|---|---|---|---|---|---|---|---|---|---|---|---|---|---|---|---|---|---|---|---|---|---|---|---|---|---|---|---|---|---|---|---|---|\n",
       "|  1       | Well     | 1        | 1        | \n",
       "|  2       | Well     | 1        | 9        | \n",
       "|  3       | Well     | 1        | 4        | \n",
       "|  4       | Well     | 1        | 3        | \n",
       "|  5       | Well     | 0        | 2        | \n",
       "|  6       | Well     | 1        | 0        | \n",
       "|  7       | Well     | 0        | 1        | \n",
       "|  8       | Well     | 1        | 3        | \n",
       "|  9       | Well     | 1        | 3        | \n",
       "| 10       | Well     | 1        | 7        | \n",
       "| 11       | Well     | 0        | 1        | \n",
       "| 12       | Well     | 0        | 2        | \n",
       "| 13       | Mild     | 1        | 5        | \n",
       "| 14       | Mild     | 0        | 6        | \n",
       "| 15       | Mild     | 1        | 3        | \n",
       "| 16       | Mild     | 0        | 1        | \n",
       "| 17       | Mild     | 1        | 8        | \n",
       "| 18       | Mild     | 1        | 2        | \n",
       "| 19       | Mild     | 0        | 5        | \n",
       "| 20       | Mild     | 1        | 5        | \n",
       "| 21       | Mild     | 1        | 9        | \n",
       "| 22       | Mild     | 0        | 3        | \n",
       "| 23       | Mild     | 1        | 3        | \n",
       "| 24       | Mild     | 1        | 1        | \n",
       "| 25       | Moderate | 0        | 0        | \n",
       "| 26       | Moderate | 1        | 4        | \n",
       "| 27       | Moderate | 0        | 3        | \n",
       "| 28       | Moderate | 0        | 9        | \n",
       "| 29       | Moderate | 1        | 6        | \n",
       "| 30       | Moderate | 0        | 4        | \n",
       "| 31       | Moderate | 0        | 3        | \n",
       "| 32       | Impaired | 1        | 8        | \n",
       "| 33       | Impaired | 1        | 2        | \n",
       "| 34       | Impaired | 1        | 7        | \n",
       "| 35       | Impaired | 0        | 5        | \n",
       "| 36       | Impaired | 0        | 4        | \n",
       "| 37       | Impaired | 0        | 4        | \n",
       "| 38       | Impaired | 1        | 8        | \n",
       "| 39       | Impaired | 0        | 8        | \n",
       "| 40       | Impaired | 0        | 9        | \n",
       "\n",
       "\n"
      ],
      "text/plain": [
       "   Subject Mental Impairment SES Life Events\n",
       "1   1      Well              1   1          \n",
       "2   2      Well              1   9          \n",
       "3   3      Well              1   4          \n",
       "4   4      Well              1   3          \n",
       "5   5      Well              0   2          \n",
       "6   6      Well              1   0          \n",
       "7   7      Well              0   1          \n",
       "8   8      Well              1   3          \n",
       "9   9      Well              1   3          \n",
       "10 10      Well              1   7          \n",
       "11 11      Well              0   1          \n",
       "12 12      Well              0   2          \n",
       "13 13      Mild              1   5          \n",
       "14 14      Mild              0   6          \n",
       "15 15      Mild              1   3          \n",
       "16 16      Mild              0   1          \n",
       "17 17      Mild              1   8          \n",
       "18 18      Mild              1   2          \n",
       "19 19      Mild              0   5          \n",
       "20 20      Mild              1   5          \n",
       "21 21      Mild              1   9          \n",
       "22 22      Mild              0   3          \n",
       "23 23      Mild              1   3          \n",
       "24 24      Mild              1   1          \n",
       "25 25      Moderate          0   0          \n",
       "26 26      Moderate          1   4          \n",
       "27 27      Moderate          0   3          \n",
       "28 28      Moderate          0   9          \n",
       "29 29      Moderate          1   6          \n",
       "30 30      Moderate          0   4          \n",
       "31 31      Moderate          0   3          \n",
       "32 32      Impaired          1   8          \n",
       "33 33      Impaired          1   2          \n",
       "34 34      Impaired          1   7          \n",
       "35 35      Impaired          0   5          \n",
       "36 36      Impaired          0   4          \n",
       "37 37      Impaired          0   4          \n",
       "38 38      Impaired          1   8          \n",
       "39 39      Impaired          0   8          \n",
       "40 40      Impaired          0   9          "
      ]
     },
     "metadata": {},
     "output_type": "display_data"
    }
   ],
   "source": [
    "library(data.table)\n",
    "library(MASS)\n",
    "library(xtable)\n",
    "\n",
    "mental.impairment <- data.table(read.csv('mental_impairment.csv', check.names=FALSE))\n",
    "mental.impairment[,`Mental Impairment`:=factor(\n",
    "    `Mental Impairment`,\n",
    "    ordered=TRUE,\n",
    "    c('Well', 'Mild', 'Moderate', 'Impaired'))]\n",
    "mental.impairment"
   ]
  },
  {
   "cell_type": "code",
   "execution_count": 2,
   "metadata": {},
   "outputs": [],
   "source": [
    "model.list <- lapply(list(`Mental Impairment` ~ 1,\n",
    "                          `Mental Impairment` ~ 1 + SES,\n",
    "                          `Mental Impairment` ~ 1 + `Life Events`,\n",
    "                          `Mental Impairment` ~ 1 + SES + `Life Events`),\n",
    "       polr, data=mental.impairment, method='logistic')"
   ]
  },
  {
   "cell_type": "code",
   "execution_count": 3,
   "metadata": {},
   "outputs": [],
   "source": [
    "log.likelihood <- function(model, data) {\n",
    "    probabilities = predict(model, data, type='probs')\n",
    "    index <- t(sapply(data$`Mental Impairment`, function(x) { x == levels(x) }))\n",
    "    sum(log(probabilities[index]))\n",
    "}\n",
    "\n",
    "model.summary <- data.frame(\n",
    "    `$\\\\alpha_0$`=sapply(model.list, function(model) { model$zeta[1] }),\n",
    "    `$\\\\alpha_1$`=sapply(model.list, function(model) { model$zeta[2] }),\n",
    "    `$\\\\alpha_2$`=sapply(model.list, function(model) { model$zeta[3] }),\n",
    "    `$\\\\beta_1$`=sapply(\n",
    "        model.list,\n",
    "        function(model) { if('SES' %in% names(model$coefficients)) model$coefficients['SES'] else 0 }),\n",
    "    `$\\\\beta_2$`=sapply(\n",
    "        model.list,\n",
    "        function(model) { if('`Life Events`' %in% names(model$coefficients)) model$coefficients['`Life Events`'] else 0 }),\n",
    "    `Log-likelihood`=sapply(\n",
    "        model.list,\n",
    "        function(model) { log.likelihood(model, mental.impairment) }),\n",
    "    row.names=c('Equation \\\\ref{eqn:p7_model_1}',\n",
    "                'Equation \\\\ref{eqn:p7_model_2}',\n",
    "                'Equation \\\\ref{eqn:p7_model_3}',\n",
    "                'Equation \\\\ref{eqn:p7_model_4}'),\n",
    "    check.names=FALSE)\n",
    "\n",
    "print(xtable(model.summary,\n",
    "             caption='Results of fitting various models corresponding to each equation.',\n",
    "             label='tab:p7_model_summary'),\n",
    "      booktabs=TRUE, file='p7_model_summary.tex',\n",
    "      sanitize.colnames.function=identity,\n",
    "      sanitize.rownames.function=identity)"
   ]
  },
  {
   "cell_type": "code",
   "execution_count": 227,
   "metadata": {},
   "outputs": [
    {
     "data": {
      "text/html": [
       "<dl class=dl-horizontal>\n",
       "\t<dt>1</dt>\n",
       "\t\t<dd>0</dd>\n",
       "\t<dt>SES</dt>\n",
       "\t\t<dd>-0.85533781338655</dd>\n",
       "\t<dt>3</dt>\n",
       "\t\t<dd>0</dd>\n",
       "\t<dt>SES</dt>\n",
       "\t\t<dd>-1.111231011556</dd>\n",
       "</dl>\n"
      ],
      "text/latex": [
       "\\begin{description*}\n",
       "\\item[1] 0\n",
       "\\item[SES] -0.85533781338655\n",
       "\\item[3] 0\n",
       "\\item[SES] -1.111231011556\n",
       "\\end{description*}\n"
      ],
      "text/markdown": [
       "1\n",
       ":   0SES\n",
       ":   -0.855337813386553\n",
       ":   0SES\n",
       ":   -1.111231011556\n",
       "\n"
      ],
      "text/plain": [
       "                  SES                   SES \n",
       " 0.0000000 -0.8553378  0.0000000 -1.1112310 "
      ]
     },
     "metadata": {},
     "output_type": "display_data"
    }
   ],
   "source": [
    "sapply(model.list, function(model) { if('SES' %in% names(model$coefficients)) model$coefficients['SES'] else 0 })"
   ]
  },
  {
   "cell_type": "code",
   "execution_count": 234,
   "metadata": {},
   "outputs": [
    {
     "data": {
      "text/html": [
       "TRUE"
      ],
      "text/latex": [
       "TRUE"
      ],
      "text/markdown": [
       "TRUE"
      ],
      "text/plain": [
       "[1] TRUE"
      ]
     },
     "metadata": {},
     "output_type": "display_data"
    }
   ],
   "source": [
    "'`Life Events`' %in% names(model.4$coefficients)"
   ]
  },
  {
   "cell_type": "code",
   "execution_count": 236,
   "metadata": {},
   "outputs": [
    {
     "data": {
      "text/html": [
       "<strong>`Life Events`:</strong> 0.318861312253282"
      ],
      "text/latex": [
       "\\textbf{`Life Events`:} 0.318861312253282"
      ],
      "text/markdown": [
       "**`Life Events`:** 0.318861312253282"
      ],
      "text/plain": [
       "`Life Events` \n",
       "    0.3188613 "
      ]
     },
     "metadata": {},
     "output_type": "display_data"
    }
   ],
   "source": [
    "model.4$coefficients['`Life Events`']"
   ]
  },
  {
   "cell_type": "code",
   "execution_count": 212,
   "metadata": {},
   "outputs": [
    {
     "data": {
      "text/html": [
       "<dl class=dl-horizontal>\n",
       "\t<dt>Well|Mild</dt>\n",
       "\t\t<dd>-0.847297656138191</dd>\n",
       "\t<dt>Mild|Moderate</dt>\n",
       "\t\t<dd>0.40545273618637</dd>\n",
       "\t<dt>Moderate|Impaired</dt>\n",
       "\t\t<dd>1.23675028150491</dd>\n",
       "</dl>\n"
      ],
      "text/latex": [
       "\\begin{description*}\n",
       "\\item[Well\\textbackslash{}textbar\\{\\}Mild] -0.847297656138191\n",
       "\\item[Mild\\textbackslash{}textbar\\{\\}Moderate] 0.40545273618637\n",
       "\\item[Moderate\\textbackslash{}textbar\\{\\}Impaired] 1.23675028150491\n",
       "\\end{description*}\n"
      ],
      "text/markdown": [
       "Well|Mild\n",
       ":   -0.847297656138191Mild|Moderate\n",
       ":   0.40545273618637Moderate|Impaired\n",
       ":   1.23675028150491\n",
       "\n"
      ],
      "text/plain": [
       "        Well|Mild     Mild|Moderate Moderate|Impaired \n",
       "       -0.8472977         0.4054527         1.2367503 "
      ]
     },
     "metadata": {},
     "output_type": "display_data"
    }
   ],
   "source": [
    "model.1$zeta"
   ]
  },
  {
   "cell_type": "code",
   "execution_count": 50,
   "metadata": {},
   "outputs": [
    {
     "data": {
      "text/html": [
       "<dl class=dl-horizontal>\n",
       "\t<dt>Well</dt>\n",
       "\t\t<dd>0.624915852554021</dd>\n",
       "\t<dt>Mild</dt>\n",
       "\t\t<dd>0.256422165590043</dd>\n",
       "\t<dt>Moderate</dt>\n",
       "\t\t<dd>0.0713147367278369</dd>\n",
       "\t<dt>Impaired</dt>\n",
       "\t\t<dd>0.0473472451280983</dd>\n",
       "</dl>\n"
      ],
      "text/latex": [
       "\\begin{description*}\n",
       "\\item[Well] 0.624915852554021\n",
       "\\item[Mild] 0.256422165590043\n",
       "\\item[Moderate] 0.0713147367278369\n",
       "\\item[Impaired] 0.0473472451280983\n",
       "\\end{description*}\n"
      ],
      "text/markdown": [
       "Well\n",
       ":   0.624915852554021Mild\n",
       ":   0.256422165590043Moderate\n",
       ":   0.0713147367278369Impaired\n",
       ":   0.0473472451280983\n",
       "\n"
      ],
      "text/plain": [
       "      Well       Mild   Moderate   Impaired \n",
       "0.62491585 0.25642217 0.07131474 0.04734725 "
      ]
     },
     "metadata": {},
     "output_type": "display_data"
    }
   ],
   "source": [
    "predict(model.4, data.frame(`SES`=1, `Life Events`=1, check.names=FALSE), type='probs', interval='confidence')"
   ]
  },
  {
   "cell_type": "code",
   "execution_count": 52,
   "metadata": {},
   "outputs": [
    {
     "data": {
      "text/html": [
       "<ol class=list-inline>\n",
       "\t<li>Well</li>\n",
       "\t<li>Impaired</li>\n",
       "\t<li>Well</li>\n",
       "\t<li>Well</li>\n",
       "\t<li>Mild</li>\n",
       "\t<li>Well</li>\n",
       "\t<li>Mild</li>\n",
       "\t<li>Well</li>\n",
       "\t<li>Well</li>\n",
       "\t<li>Mild</li>\n",
       "\t<li>Mild</li>\n",
       "\t<li>Mild</li>\n",
       "\t<li>Mild</li>\n",
       "\t<li>Impaired</li>\n",
       "\t<li>Well</li>\n",
       "\t<li>Mild</li>\n",
       "\t<li>Impaired</li>\n",
       "\t<li>Well</li>\n",
       "\t<li>Impaired</li>\n",
       "\t<li>Mild</li>\n",
       "\t<li>Impaired</li>\n",
       "\t<li>Mild</li>\n",
       "\t<li>Well</li>\n",
       "\t<li>Well</li>\n",
       "\t<li>Well</li>\n",
       "\t<li>Well</li>\n",
       "\t<li>Mild</li>\n",
       "\t<li>Impaired</li>\n",
       "\t<li>Mild</li>\n",
       "\t<li>Mild</li>\n",
       "\t<li>Mild</li>\n",
       "\t<li>Impaired</li>\n",
       "\t<li>Well</li>\n",
       "\t<li>Mild</li>\n",
       "\t<li>Impaired</li>\n",
       "\t<li>Mild</li>\n",
       "\t<li>Mild</li>\n",
       "\t<li>Impaired</li>\n",
       "\t<li>Impaired</li>\n",
       "\t<li>Impaired</li>\n",
       "</ol>\n",
       "\n",
       "<details>\n",
       "\t<summary style=display:list-item;cursor:pointer>\n",
       "\t\t<strong>Levels</strong>:\n",
       "\t</summary>\n",
       "\t<ol class=list-inline>\n",
       "\t\t<li>'Well'</li>\n",
       "\t\t<li>'Mild'</li>\n",
       "\t\t<li>'Moderate'</li>\n",
       "\t\t<li>'Impaired'</li>\n",
       "\t</ol>\n",
       "</details>"
      ],
      "text/latex": [
       "\\begin{enumerate*}\n",
       "\\item Well\n",
       "\\item Impaired\n",
       "\\item Well\n",
       "\\item Well\n",
       "\\item Mild\n",
       "\\item Well\n",
       "\\item Mild\n",
       "\\item Well\n",
       "\\item Well\n",
       "\\item Mild\n",
       "\\item Mild\n",
       "\\item Mild\n",
       "\\item Mild\n",
       "\\item Impaired\n",
       "\\item Well\n",
       "\\item Mild\n",
       "\\item Impaired\n",
       "\\item Well\n",
       "\\item Impaired\n",
       "\\item Mild\n",
       "\\item Impaired\n",
       "\\item Mild\n",
       "\\item Well\n",
       "\\item Well\n",
       "\\item Well\n",
       "\\item Well\n",
       "\\item Mild\n",
       "\\item Impaired\n",
       "\\item Mild\n",
       "\\item Mild\n",
       "\\item Mild\n",
       "\\item Impaired\n",
       "\\item Well\n",
       "\\item Mild\n",
       "\\item Impaired\n",
       "\\item Mild\n",
       "\\item Mild\n",
       "\\item Impaired\n",
       "\\item Impaired\n",
       "\\item Impaired\n",
       "\\end{enumerate*}\n",
       "\n",
       "\\emph{Levels}: \\begin{enumerate*}\n",
       "\\item 'Well'\n",
       "\\item 'Mild'\n",
       "\\item 'Moderate'\n",
       "\\item 'Impaired'\n",
       "\\end{enumerate*}\n"
      ],
      "text/markdown": [
       "1. Well\n",
       "2. Impaired\n",
       "3. Well\n",
       "4. Well\n",
       "5. Mild\n",
       "6. Well\n",
       "7. Mild\n",
       "8. Well\n",
       "9. Well\n",
       "10. Mild\n",
       "11. Mild\n",
       "12. Mild\n",
       "13. Mild\n",
       "14. Impaired\n",
       "15. Well\n",
       "16. Mild\n",
       "17. Impaired\n",
       "18. Well\n",
       "19. Impaired\n",
       "20. Mild\n",
       "21. Impaired\n",
       "22. Mild\n",
       "23. Well\n",
       "24. Well\n",
       "25. Well\n",
       "26. Well\n",
       "27. Mild\n",
       "28. Impaired\n",
       "29. Mild\n",
       "30. Mild\n",
       "31. Mild\n",
       "32. Impaired\n",
       "33. Well\n",
       "34. Mild\n",
       "35. Impaired\n",
       "36. Mild\n",
       "37. Mild\n",
       "38. Impaired\n",
       "39. Impaired\n",
       "40. Impaired\n",
       "\n",
       "\n",
       "\n",
       "**Levels**: 1. 'Well'\n",
       "2. 'Mild'\n",
       "3. 'Moderate'\n",
       "4. 'Impaired'\n",
       "\n",
       "\n"
      ],
      "text/plain": [
       " [1] Well     Impaired Well     Well     Mild     Well     Mild     Well    \n",
       " [9] Well     Mild     Mild     Mild     Mild     Impaired Well     Mild    \n",
       "[17] Impaired Well     Impaired Mild     Impaired Mild     Well     Well    \n",
       "[25] Well     Well     Mild     Impaired Mild     Mild     Mild     Impaired\n",
       "[33] Well     Mild     Impaired Mild     Mild     Impaired Impaired Impaired\n",
       "Levels: Well Mild Moderate Impaired"
      ]
     },
     "metadata": {},
     "output_type": "display_data"
    }
   ],
   "source": [
    "predict(model.4, mental.impairment)"
   ]
  },
  {
   "cell_type": "code",
   "execution_count": 55,
   "metadata": {},
   "outputs": [
    {
     "data": {
      "text/html": [
       "<table>\n",
       "<thead><tr><th></th><th scope=col>Well</th><th scope=col>Mild</th><th scope=col>Moderate</th><th scope=col>Impaired</th></tr></thead>\n",
       "<tbody>\n",
       "\t<tr><th scope=row>1</th><td>0.62491585</td><td>0.2564222 </td><td>0.07131474</td><td>0.04734725</td></tr>\n",
       "\t<tr><th scope=row>2</th><td>0.11502358</td><td>0.2518325 </td><td>0.24398557</td><td>0.38915837</td></tr>\n",
       "\t<tr><th scope=row>3</th><td>0.39028430</td><td>0.3502175 </td><td>0.14495563</td><td>0.11454256</td></tr>\n",
       "\t<tr><th scope=row>4</th><td>0.46822886</td><td>0.3287373 </td><td>0.11707594</td><td>0.08595788</td></tr>\n",
       "\t<tr><th scope=row>5</th><td>0.28503416</td><td>0.3548980 </td><td>0.18808642</td><td>0.17198137</td></tr>\n",
       "\t<tr><th scope=row>6</th><td>0.69621280</td><td>0.2146344 </td><td>0.05428168</td><td>0.03487110</td></tr>\n",
       "\t<tr><th scope=row>7</th><td>0.35416883</td><td>0.3555319 </td><td>0.15911298</td><td>0.13118624</td></tr>\n",
       "\t<tr><th scope=row>8</th><td>0.46822886</td><td>0.3287373 </td><td>0.11707594</td><td>0.08595788</td></tr>\n",
       "\t<tr><th scope=row>9</th><td>0.46822886</td><td>0.3287373 </td><td>0.11707594</td><td>0.08595788</td></tr>\n",
       "\t<tr><th scope=row>10</th><td>0.19738781</td><td>0.3255946 </td><td>0.22513070</td><td>0.25188691</td></tr>\n",
       "\t<tr><th scope=row>11</th><td>0.35416883</td><td>0.3555319 </td><td>0.15911298</td><td>0.13118624</td></tr>\n",
       "\t<tr><th scope=row>12</th><td>0.28503416</td><td>0.3548980 </td><td>0.18808642</td><td>0.17198137</td></tr>\n",
       "\t<tr><th scope=row>13</th><td>0.31756633</td><td>0.3571768 </td><td>0.17419493</td><td>0.15106190</td></tr>\n",
       "\t<tr><th scope=row>14</th><td>0.10019399</td><td>0.2315350 </td><td>0.24178533</td><td>0.42648565</td></tr>\n",
       "\t<tr><th scope=row>15</th><td>0.46822886</td><td>0.3287373 </td><td>0.11707594</td><td>0.08595788</td></tr>\n",
       "\t<tr><th scope=row>16</th><td>0.35416883</td><td>0.3555319 </td><td>0.15911298</td><td>0.13118624</td></tr>\n",
       "\t<tr><th scope=row>17</th><td>0.15167000</td><td>0.2918553 </td><td>0.23993344</td><td>0.31654127</td></tr>\n",
       "\t<tr><th scope=row>18</th><td>0.54775531</td><td>0.2959818 </td><td>0.09227179</td><td>0.06399113</td></tr>\n",
       "\t<tr><th scope=row>19</th><td>0.13282485</td><td>0.2729369 </td><td>0.24333367</td><td>0.35090454</td></tr>\n",
       "\t<tr><th scope=row>20</th><td>0.31756633</td><td>0.3571768 </td><td>0.17419493</td><td>0.15106190</td></tr>\n",
       "\t<tr><th scope=row>21</th><td>0.11502358</td><td>0.2518325 </td><td>0.24398557</td><td>0.38915837</td></tr>\n",
       "\t<tr><th scope=row>22</th><td>0.22469945</td><td>0.3390046 </td><td>0.21407808</td><td>0.22221786</td></tr>\n",
       "\t<tr><th scope=row>23</th><td>0.46822886</td><td>0.3287373 </td><td>0.11707594</td><td>0.08595788</td></tr>\n",
       "\t<tr><th scope=row>24</th><td>0.62491585</td><td>0.2564222 </td><td>0.07131474</td><td>0.04734725</td></tr>\n",
       "\t<tr><th scope=row>25</th><td>0.42998727</td><td>0.3408054 </td><td>0.13029529</td><td>0.09891202</td></tr>\n",
       "\t<tr><th scope=row>26</th><td>0.39028430</td><td>0.3502175 </td><td>0.14495563</td><td>0.11454256</td></tr>\n",
       "\t<tr><th scope=row>27</th><td>0.22469945</td><td>0.3390046 </td><td>0.21407808</td><td>0.22221786</td></tr>\n",
       "\t<tr><th scope=row>28</th><td>0.04102612</td><td>0.1191445 </td><td>0.18048372</td><td>0.65934567</td></tr>\n",
       "\t<tr><th scope=row>29</th><td>0.25278003</td><td>0.3485130 </td><td>0.20206806</td><td>0.19663890</td></tr>\n",
       "\t<tr><th scope=row>30</th><td>0.17402747</td><td>0.3103145 </td><td>0.23352933</td><td>0.28212871</td></tr>\n",
       "\t<tr><th scope=row>31</th><td>0.22469945</td><td>0.3390046 </td><td>0.21407808</td><td>0.22221786</td></tr>\n",
       "\t<tr><th scope=row>32</th><td>0.15167000</td><td>0.2918553 </td><td>0.23993344</td><td>0.31654127</td></tr>\n",
       "\t<tr><th scope=row>33</th><td>0.54775531</td><td>0.2959818 </td><td>0.09227179</td><td>0.06399113</td></tr>\n",
       "\t<tr><th scope=row>34</th><td>0.19738781</td><td>0.3255946 </td><td>0.22513070</td><td>0.25188691</td></tr>\n",
       "\t<tr><th scope=row>35</th><td>0.13282485</td><td>0.2729369 </td><td>0.24333367</td><td>0.35090454</td></tr>\n",
       "\t<tr><th scope=row>36</th><td>0.17402747</td><td>0.3103145 </td><td>0.23352933</td><td>0.28212871</td></tr>\n",
       "\t<tr><th scope=row>37</th><td>0.17402747</td><td>0.3103145 </td><td>0.23352933</td><td>0.28212871</td></tr>\n",
       "\t<tr><th scope=row>38</th><td>0.15167000</td><td>0.2918553 </td><td>0.23993344</td><td>0.31654127</td></tr>\n",
       "\t<tr><th scope=row>39</th><td>0.05557758</td><td>0.1522454 </td><td>0.20761767</td><td>0.58455931</td></tr>\n",
       "\t<tr><th scope=row>40</th><td>0.04102612</td><td>0.1191445 </td><td>0.18048372</td><td>0.65934567</td></tr>\n",
       "</tbody>\n",
       "</table>\n"
      ],
      "text/latex": [
       "\\begin{tabular}{r|llll}\n",
       "  & Well & Mild & Moderate & Impaired\\\\\n",
       "\\hline\n",
       "\t1 & 0.62491585 & 0.2564222  & 0.07131474 & 0.04734725\\\\\n",
       "\t2 & 0.11502358 & 0.2518325  & 0.24398557 & 0.38915837\\\\\n",
       "\t3 & 0.39028430 & 0.3502175  & 0.14495563 & 0.11454256\\\\\n",
       "\t4 & 0.46822886 & 0.3287373  & 0.11707594 & 0.08595788\\\\\n",
       "\t5 & 0.28503416 & 0.3548980  & 0.18808642 & 0.17198137\\\\\n",
       "\t6 & 0.69621280 & 0.2146344  & 0.05428168 & 0.03487110\\\\\n",
       "\t7 & 0.35416883 & 0.3555319  & 0.15911298 & 0.13118624\\\\\n",
       "\t8 & 0.46822886 & 0.3287373  & 0.11707594 & 0.08595788\\\\\n",
       "\t9 & 0.46822886 & 0.3287373  & 0.11707594 & 0.08595788\\\\\n",
       "\t10 & 0.19738781 & 0.3255946  & 0.22513070 & 0.25188691\\\\\n",
       "\t11 & 0.35416883 & 0.3555319  & 0.15911298 & 0.13118624\\\\\n",
       "\t12 & 0.28503416 & 0.3548980  & 0.18808642 & 0.17198137\\\\\n",
       "\t13 & 0.31756633 & 0.3571768  & 0.17419493 & 0.15106190\\\\\n",
       "\t14 & 0.10019399 & 0.2315350  & 0.24178533 & 0.42648565\\\\\n",
       "\t15 & 0.46822886 & 0.3287373  & 0.11707594 & 0.08595788\\\\\n",
       "\t16 & 0.35416883 & 0.3555319  & 0.15911298 & 0.13118624\\\\\n",
       "\t17 & 0.15167000 & 0.2918553  & 0.23993344 & 0.31654127\\\\\n",
       "\t18 & 0.54775531 & 0.2959818  & 0.09227179 & 0.06399113\\\\\n",
       "\t19 & 0.13282485 & 0.2729369  & 0.24333367 & 0.35090454\\\\\n",
       "\t20 & 0.31756633 & 0.3571768  & 0.17419493 & 0.15106190\\\\\n",
       "\t21 & 0.11502358 & 0.2518325  & 0.24398557 & 0.38915837\\\\\n",
       "\t22 & 0.22469945 & 0.3390046  & 0.21407808 & 0.22221786\\\\\n",
       "\t23 & 0.46822886 & 0.3287373  & 0.11707594 & 0.08595788\\\\\n",
       "\t24 & 0.62491585 & 0.2564222  & 0.07131474 & 0.04734725\\\\\n",
       "\t25 & 0.42998727 & 0.3408054  & 0.13029529 & 0.09891202\\\\\n",
       "\t26 & 0.39028430 & 0.3502175  & 0.14495563 & 0.11454256\\\\\n",
       "\t27 & 0.22469945 & 0.3390046  & 0.21407808 & 0.22221786\\\\\n",
       "\t28 & 0.04102612 & 0.1191445  & 0.18048372 & 0.65934567\\\\\n",
       "\t29 & 0.25278003 & 0.3485130  & 0.20206806 & 0.19663890\\\\\n",
       "\t30 & 0.17402747 & 0.3103145  & 0.23352933 & 0.28212871\\\\\n",
       "\t31 & 0.22469945 & 0.3390046  & 0.21407808 & 0.22221786\\\\\n",
       "\t32 & 0.15167000 & 0.2918553  & 0.23993344 & 0.31654127\\\\\n",
       "\t33 & 0.54775531 & 0.2959818  & 0.09227179 & 0.06399113\\\\\n",
       "\t34 & 0.19738781 & 0.3255946  & 0.22513070 & 0.25188691\\\\\n",
       "\t35 & 0.13282485 & 0.2729369  & 0.24333367 & 0.35090454\\\\\n",
       "\t36 & 0.17402747 & 0.3103145  & 0.23352933 & 0.28212871\\\\\n",
       "\t37 & 0.17402747 & 0.3103145  & 0.23352933 & 0.28212871\\\\\n",
       "\t38 & 0.15167000 & 0.2918553  & 0.23993344 & 0.31654127\\\\\n",
       "\t39 & 0.05557758 & 0.1522454  & 0.20761767 & 0.58455931\\\\\n",
       "\t40 & 0.04102612 & 0.1191445  & 0.18048372 & 0.65934567\\\\\n",
       "\\end{tabular}\n"
      ],
      "text/markdown": [
       "\n",
       "| <!--/--> | Well | Mild | Moderate | Impaired | \n",
       "|---|---|---|---|---|---|---|---|---|---|---|---|---|---|---|---|---|---|---|---|---|---|---|---|---|---|---|---|---|---|---|---|---|---|---|---|---|---|---|---|\n",
       "| 1 | 0.62491585 | 0.2564222  | 0.07131474 | 0.04734725 | \n",
       "| 2 | 0.11502358 | 0.2518325  | 0.24398557 | 0.38915837 | \n",
       "| 3 | 0.39028430 | 0.3502175  | 0.14495563 | 0.11454256 | \n",
       "| 4 | 0.46822886 | 0.3287373  | 0.11707594 | 0.08595788 | \n",
       "| 5 | 0.28503416 | 0.3548980  | 0.18808642 | 0.17198137 | \n",
       "| 6 | 0.69621280 | 0.2146344  | 0.05428168 | 0.03487110 | \n",
       "| 7 | 0.35416883 | 0.3555319  | 0.15911298 | 0.13118624 | \n",
       "| 8 | 0.46822886 | 0.3287373  | 0.11707594 | 0.08595788 | \n",
       "| 9 | 0.46822886 | 0.3287373  | 0.11707594 | 0.08595788 | \n",
       "| 10 | 0.19738781 | 0.3255946  | 0.22513070 | 0.25188691 | \n",
       "| 11 | 0.35416883 | 0.3555319  | 0.15911298 | 0.13118624 | \n",
       "| 12 | 0.28503416 | 0.3548980  | 0.18808642 | 0.17198137 | \n",
       "| 13 | 0.31756633 | 0.3571768  | 0.17419493 | 0.15106190 | \n",
       "| 14 | 0.10019399 | 0.2315350  | 0.24178533 | 0.42648565 | \n",
       "| 15 | 0.46822886 | 0.3287373  | 0.11707594 | 0.08595788 | \n",
       "| 16 | 0.35416883 | 0.3555319  | 0.15911298 | 0.13118624 | \n",
       "| 17 | 0.15167000 | 0.2918553  | 0.23993344 | 0.31654127 | \n",
       "| 18 | 0.54775531 | 0.2959818  | 0.09227179 | 0.06399113 | \n",
       "| 19 | 0.13282485 | 0.2729369  | 0.24333367 | 0.35090454 | \n",
       "| 20 | 0.31756633 | 0.3571768  | 0.17419493 | 0.15106190 | \n",
       "| 21 | 0.11502358 | 0.2518325  | 0.24398557 | 0.38915837 | \n",
       "| 22 | 0.22469945 | 0.3390046  | 0.21407808 | 0.22221786 | \n",
       "| 23 | 0.46822886 | 0.3287373  | 0.11707594 | 0.08595788 | \n",
       "| 24 | 0.62491585 | 0.2564222  | 0.07131474 | 0.04734725 | \n",
       "| 25 | 0.42998727 | 0.3408054  | 0.13029529 | 0.09891202 | \n",
       "| 26 | 0.39028430 | 0.3502175  | 0.14495563 | 0.11454256 | \n",
       "| 27 | 0.22469945 | 0.3390046  | 0.21407808 | 0.22221786 | \n",
       "| 28 | 0.04102612 | 0.1191445  | 0.18048372 | 0.65934567 | \n",
       "| 29 | 0.25278003 | 0.3485130  | 0.20206806 | 0.19663890 | \n",
       "| 30 | 0.17402747 | 0.3103145  | 0.23352933 | 0.28212871 | \n",
       "| 31 | 0.22469945 | 0.3390046  | 0.21407808 | 0.22221786 | \n",
       "| 32 | 0.15167000 | 0.2918553  | 0.23993344 | 0.31654127 | \n",
       "| 33 | 0.54775531 | 0.2959818  | 0.09227179 | 0.06399113 | \n",
       "| 34 | 0.19738781 | 0.3255946  | 0.22513070 | 0.25188691 | \n",
       "| 35 | 0.13282485 | 0.2729369  | 0.24333367 | 0.35090454 | \n",
       "| 36 | 0.17402747 | 0.3103145  | 0.23352933 | 0.28212871 | \n",
       "| 37 | 0.17402747 | 0.3103145  | 0.23352933 | 0.28212871 | \n",
       "| 38 | 0.15167000 | 0.2918553  | 0.23993344 | 0.31654127 | \n",
       "| 39 | 0.05557758 | 0.1522454  | 0.20761767 | 0.58455931 | \n",
       "| 40 | 0.04102612 | 0.1191445  | 0.18048372 | 0.65934567 | \n",
       "\n",
       "\n"
      ],
      "text/plain": [
       "   Well       Mild      Moderate   Impaired  \n",
       "1  0.62491585 0.2564222 0.07131474 0.04734725\n",
       "2  0.11502358 0.2518325 0.24398557 0.38915837\n",
       "3  0.39028430 0.3502175 0.14495563 0.11454256\n",
       "4  0.46822886 0.3287373 0.11707594 0.08595788\n",
       "5  0.28503416 0.3548980 0.18808642 0.17198137\n",
       "6  0.69621280 0.2146344 0.05428168 0.03487110\n",
       "7  0.35416883 0.3555319 0.15911298 0.13118624\n",
       "8  0.46822886 0.3287373 0.11707594 0.08595788\n",
       "9  0.46822886 0.3287373 0.11707594 0.08595788\n",
       "10 0.19738781 0.3255946 0.22513070 0.25188691\n",
       "11 0.35416883 0.3555319 0.15911298 0.13118624\n",
       "12 0.28503416 0.3548980 0.18808642 0.17198137\n",
       "13 0.31756633 0.3571768 0.17419493 0.15106190\n",
       "14 0.10019399 0.2315350 0.24178533 0.42648565\n",
       "15 0.46822886 0.3287373 0.11707594 0.08595788\n",
       "16 0.35416883 0.3555319 0.15911298 0.13118624\n",
       "17 0.15167000 0.2918553 0.23993344 0.31654127\n",
       "18 0.54775531 0.2959818 0.09227179 0.06399113\n",
       "19 0.13282485 0.2729369 0.24333367 0.35090454\n",
       "20 0.31756633 0.3571768 0.17419493 0.15106190\n",
       "21 0.11502358 0.2518325 0.24398557 0.38915837\n",
       "22 0.22469945 0.3390046 0.21407808 0.22221786\n",
       "23 0.46822886 0.3287373 0.11707594 0.08595788\n",
       "24 0.62491585 0.2564222 0.07131474 0.04734725\n",
       "25 0.42998727 0.3408054 0.13029529 0.09891202\n",
       "26 0.39028430 0.3502175 0.14495563 0.11454256\n",
       "27 0.22469945 0.3390046 0.21407808 0.22221786\n",
       "28 0.04102612 0.1191445 0.18048372 0.65934567\n",
       "29 0.25278003 0.3485130 0.20206806 0.19663890\n",
       "30 0.17402747 0.3103145 0.23352933 0.28212871\n",
       "31 0.22469945 0.3390046 0.21407808 0.22221786\n",
       "32 0.15167000 0.2918553 0.23993344 0.31654127\n",
       "33 0.54775531 0.2959818 0.09227179 0.06399113\n",
       "34 0.19738781 0.3255946 0.22513070 0.25188691\n",
       "35 0.13282485 0.2729369 0.24333367 0.35090454\n",
       "36 0.17402747 0.3103145 0.23352933 0.28212871\n",
       "37 0.17402747 0.3103145 0.23352933 0.28212871\n",
       "38 0.15167000 0.2918553 0.23993344 0.31654127\n",
       "39 0.05557758 0.1522454 0.20761767 0.58455931\n",
       "40 0.04102612 0.1191445 0.18048372 0.65934567"
      ]
     },
     "metadata": {},
     "output_type": "display_data"
    }
   ],
   "source": [
    "predict(model.4, mental.impairment, type='probs')"
   ]
  },
  {
   "cell_type": "code",
   "execution_count": 251,
   "metadata": {},
   "outputs": [
    {
     "data": {
      "text/html": [
       "<table>\n",
       "<thead><tr><th scope=col>SES</th><th scope=col>Mental Impairment</th><th scope=col>V1</th></tr></thead>\n",
       "<tbody>\n",
       "\t<tr><td>1       </td><td>Well    </td><td>8       </td></tr>\n",
       "\t<tr><td>0       </td><td>Well    </td><td>4       </td></tr>\n",
       "\t<tr><td>1       </td><td>Mild    </td><td>8       </td></tr>\n",
       "\t<tr><td>0       </td><td>Mild    </td><td>4       </td></tr>\n",
       "\t<tr><td>0       </td><td>Moderate</td><td>5       </td></tr>\n",
       "\t<tr><td>1       </td><td>Moderate</td><td>2       </td></tr>\n",
       "\t<tr><td>1       </td><td>Impaired</td><td>4       </td></tr>\n",
       "\t<tr><td>0       </td><td>Impaired</td><td>5       </td></tr>\n",
       "</tbody>\n",
       "</table>\n"
      ],
      "text/latex": [
       "\\begin{tabular}{r|lll}\n",
       " SES & Mental Impairment & V1\\\\\n",
       "\\hline\n",
       "\t 1        & Well     & 8       \\\\\n",
       "\t 0        & Well     & 4       \\\\\n",
       "\t 1        & Mild     & 8       \\\\\n",
       "\t 0        & Mild     & 4       \\\\\n",
       "\t 0        & Moderate & 5       \\\\\n",
       "\t 1        & Moderate & 2       \\\\\n",
       "\t 1        & Impaired & 4       \\\\\n",
       "\t 0        & Impaired & 5       \\\\\n",
       "\\end{tabular}\n"
      ],
      "text/markdown": [
       "\n",
       "SES | Mental Impairment | V1 | \n",
       "|---|---|---|---|---|---|---|---|\n",
       "| 1        | Well     | 8        | \n",
       "| 0        | Well     | 4        | \n",
       "| 1        | Mild     | 8        | \n",
       "| 0        | Mild     | 4        | \n",
       "| 0        | Moderate | 5        | \n",
       "| 1        | Moderate | 2        | \n",
       "| 1        | Impaired | 4        | \n",
       "| 0        | Impaired | 5        | \n",
       "\n",
       "\n"
      ],
      "text/plain": [
       "  SES Mental Impairment V1\n",
       "1 1   Well              8 \n",
       "2 0   Well              4 \n",
       "3 1   Mild              8 \n",
       "4 0   Mild              4 \n",
       "5 0   Moderate          5 \n",
       "6 1   Moderate          2 \n",
       "7 1   Impaired          4 \n",
       "8 0   Impaired          5 "
      ]
     },
     "metadata": {},
     "output_type": "display_data"
    }
   ],
   "source": [
    "\n",
    "\n",
    "#2*(log.likelihood(model.4, mental.impairment) - log.likelihood(model.3, mental.impairment))\n",
    "mental.impairment[,c(Count=length(Subject)),by=c('SES','Mental Impairment')]"
   ]
  },
  {
   "cell_type": "code",
   "execution_count": 240,
   "metadata": {},
   "outputs": [
    {
     "data": {
      "text/html": [
       "0.00692873352785336"
      ],
      "text/latex": [
       "0.00692873352785336"
      ],
      "text/markdown": [
       "0.00692873352785336"
      ],
      "text/plain": [
       "[1] 0.006928734"
      ]
     },
     "metadata": {},
     "output_type": "display_data"
    }
   ],
   "source": [
    "pchisq(9.94415646919008, df=2, lower.tail=FALSE)"
   ]
  },
  {
   "cell_type": "code",
   "execution_count": 242,
   "metadata": {},
   "outputs": [
    {
     "data": {
      "text/html": [
       "0.00529315088192325"
      ],
      "text/latex": [
       "0.00529315088192325"
      ],
      "text/markdown": [
       "0.00529315088192325"
      ],
      "text/plain": [
       "[1] 0.005293151"
      ]
     },
     "metadata": {},
     "output_type": "display_data"
    }
   ],
   "source": [
    "pchisq(7.77645694350367, df=1, lower.tail=FALSE)"
   ]
  },
  {
   "cell_type": "code",
   "execution_count": 246,
   "metadata": {},
   "outputs": [
    {
     "data": {
      "text/html": [
       "0.0106969708134397"
      ],
      "text/latex": [
       "0.0106969708134397"
      ],
      "text/markdown": [
       "0.0106969708134397"
      ],
      "text/plain": [
       "[1] 0.01069697"
      ]
     },
     "metadata": {},
     "output_type": "display_data"
    }
   ],
   "source": [
    "pchisq(6.51497695475754, df=1, lower.tail=FALSE)"
   ]
  },
  {
   "cell_type": "code",
   "execution_count": 248,
   "metadata": {},
   "outputs": [
    {
     "data": {
      "text/html": [
       "0.0640539164331937"
      ],
      "text/latex": [
       "0.0640539164331937"
      ],
      "text/markdown": [
       "0.0640539164331937"
      ],
      "text/plain": [
       "[1] 0.06405392"
      ]
     },
     "metadata": {},
     "output_type": "display_data"
    }
   ],
   "source": [
    "pchisq(3.42917951443253, df=1, lower.tail=FALSE)"
   ]
  },
  {
   "cell_type": "code",
   "execution_count": 244,
   "metadata": {},
   "outputs": [
    {
     "data": {
      "text/html": [
       "0.140936928414982"
      ],
      "text/latex": [
       "0.140936928414982"
      ],
      "text/markdown": [
       "0.140936928414982"
      ],
      "text/plain": [
       "[1] 0.1409369"
      ]
     },
     "metadata": {},
     "output_type": "display_data"
    }
   ],
   "source": [
    "pchisq(2.1676995256864, df=1, lower.tail=FALSE)"
   ]
  },
  {
   "cell_type": "code",
   "execution_count": 144,
   "metadata": {},
   "outputs": [
    {
     "data": {
      "text/html": [
       "7.77645694350367"
      ],
      "text/latex": [
       "7.77645694350367"
      ],
      "text/markdown": [
       "7.77645694350367"
      ],
      "text/plain": [
       "[1] 7.776457"
      ]
     },
     "metadata": {},
     "output_type": "display_data"
    }
   ],
   "source": [
    "model.2$deviance - model.4$deviance"
   ]
  },
  {
   "cell_type": "code",
   "execution_count": null,
   "metadata": {},
   "outputs": [],
   "source": [
    "model"
   ]
  },
  {
   "cell_type": "code",
   "execution_count": 128,
   "metadata": {},
   "outputs": [
    {
     "data": {
      "text/html": [
       "99.0978961934607"
      ],
      "text/latex": [
       "99.0978961934607"
      ],
      "text/markdown": [
       "99.0978961934607"
      ],
      "text/plain": [
       "[1] 99.0979"
      ]
     },
     "metadata": {},
     "output_type": "display_data"
    }
   ],
   "source": [
    "model.4$deviance"
   ]
  },
  {
   "cell_type": "code",
   "execution_count": 36,
   "metadata": {},
   "outputs": [
    {
     "data": {
      "text/html": [
       "0.62491585002927"
      ],
      "text/latex": [
       "0.62491585002927"
      ],
      "text/markdown": [
       "0.62491585002927"
      ],
      "text/plain": [
       "[1] 0.6249159"
      ]
     },
     "metadata": {},
     "output_type": "display_data"
    }
   ],
   "source": [
    "1/(1+exp(-(-0.2819031 - -1.1112310 - 0.3188613)))"
   ]
  },
  {
   "cell_type": "code",
   "execution_count": 38,
   "metadata": {},
   "outputs": [
    {
     "data": {
      "text/html": [
       "0.881338021781249"
      ],
      "text/latex": [
       "0.881338021781249"
      ],
      "text/markdown": [
       "0.881338021781249"
      ],
      "text/plain": [
       "[1] 0.881338"
      ]
     },
     "metadata": {},
     "output_type": "display_data"
    }
   ],
   "source": [
    "1/(1+exp(-(1.2127926 - -1.1112310 - 0.3188613)))"
   ]
  },
  {
   "cell_type": "code",
   "execution_count": 39,
   "metadata": {},
   "outputs": [
    {
     "data": {
      "text/html": [
       "0.256422171751979"
      ],
      "text/latex": [
       "0.256422171751979"
      ],
      "text/markdown": [
       "0.256422171751979"
      ],
      "text/plain": [
       "[1] 0.2564222"
      ]
     },
     "metadata": {},
     "output_type": "display_data"
    }
   ],
   "source": [
    "0.881338021781249 - 0.62491585002927"
   ]
  }
 ],
 "metadata": {
  "kernelspec": {
   "display_name": "R",
   "language": "R",
   "name": "ir"
  },
  "language_info": {
   "codemirror_mode": "r",
   "file_extension": ".r",
   "mimetype": "text/x-r-source",
   "name": "R",
   "pygments_lexer": "r",
   "version": "3.5.1"
  }
 },
 "nbformat": 4,
 "nbformat_minor": 2
}
