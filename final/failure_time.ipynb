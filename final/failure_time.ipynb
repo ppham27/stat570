{
 "cells": [
  {
   "cell_type": "code",
   "execution_count": 1,
   "metadata": {},
   "outputs": [],
   "source": [
    "import collections\n",
    "import functools\n",
    "import matplotlib.pyplot as plt\n",
    "import numpy as np\n",
    "import pandas as pd\n",
    "import seaborn as sns\n",
    "from scipy import optimize\n",
    "from scipy import special\n",
    "from scipy import stats\n",
    "import statsmodels.api as sm\n",
    "from typing import Callable, NamedTuple, Tuple"
   ]
  },
  {
   "cell_type": "code",
   "execution_count": 2,
   "metadata": {},
   "outputs": [
    {
     "data": {
      "text/html": [
       "<div>\n",
       "<style scoped>\n",
       "    .dataframe tbody tr th:only-of-type {\n",
       "        vertical-align: middle;\n",
       "    }\n",
       "\n",
       "    .dataframe tbody tr th {\n",
       "        vertical-align: top;\n",
       "    }\n",
       "\n",
       "    .dataframe thead th {\n",
       "        text-align: right;\n",
       "    }\n",
       "</style>\n",
       "<table border=\"1\" class=\"dataframe\">\n",
       "  <thead>\n",
       "    <tr style=\"text-align: right;\">\n",
       "      <th></th>\n",
       "      <th>time</th>\n",
       "      <th>failures</th>\n",
       "      <th>temperature</th>\n",
       "    </tr>\n",
       "  </thead>\n",
       "  <tbody>\n",
       "    <tr>\n",
       "      <th>0</th>\n",
       "      <td>$1$</td>\n",
       "      <td>210</td>\n",
       "      <td>24.0</td>\n",
       "    </tr>\n",
       "    <tr>\n",
       "      <th>1</th>\n",
       "      <td>$2$</td>\n",
       "      <td>108</td>\n",
       "      <td>26.0</td>\n",
       "    </tr>\n",
       "    <tr>\n",
       "      <th>2</th>\n",
       "      <td>$3$</td>\n",
       "      <td>58</td>\n",
       "      <td>24.0</td>\n",
       "    </tr>\n",
       "    <tr>\n",
       "      <th>3</th>\n",
       "      <td>$4$</td>\n",
       "      <td>40</td>\n",
       "      <td>26.0</td>\n",
       "    </tr>\n",
       "    <tr>\n",
       "      <th>4</th>\n",
       "      <td>$5$</td>\n",
       "      <td>17</td>\n",
       "      <td>25.0</td>\n",
       "    </tr>\n",
       "    <tr>\n",
       "      <th>5</th>\n",
       "      <td>$6$</td>\n",
       "      <td>10</td>\n",
       "      <td>22.0</td>\n",
       "    </tr>\n",
       "    <tr>\n",
       "      <th>6</th>\n",
       "      <td>$7$</td>\n",
       "      <td>7</td>\n",
       "      <td>23.0</td>\n",
       "    </tr>\n",
       "    <tr>\n",
       "      <th>7</th>\n",
       "      <td>$8$</td>\n",
       "      <td>6</td>\n",
       "      <td>20.0</td>\n",
       "    </tr>\n",
       "    <tr>\n",
       "      <th>8</th>\n",
       "      <td>$9$</td>\n",
       "      <td>5</td>\n",
       "      <td>21.0</td>\n",
       "    </tr>\n",
       "    <tr>\n",
       "      <th>9</th>\n",
       "      <td>$10$</td>\n",
       "      <td>4</td>\n",
       "      <td>18.0</td>\n",
       "    </tr>\n",
       "    <tr>\n",
       "      <th>10</th>\n",
       "      <td>$11$</td>\n",
       "      <td>2</td>\n",
       "      <td>17.0</td>\n",
       "    </tr>\n",
       "    <tr>\n",
       "      <th>11</th>\n",
       "      <td>$12$</td>\n",
       "      <td>3</td>\n",
       "      <td>20.0</td>\n",
       "    </tr>\n",
       "    <tr>\n",
       "      <th>12</th>\n",
       "      <td>$&gt;12$</td>\n",
       "      <td>15</td>\n",
       "      <td>NaN</td>\n",
       "    </tr>\n",
       "  </tbody>\n",
       "</table>\n",
       "</div>"
      ],
      "text/plain": [
       "     time  failures  temperature\n",
       "0     $1$       210         24.0\n",
       "1     $2$       108         26.0\n",
       "2     $3$        58         24.0\n",
       "3     $4$        40         26.0\n",
       "4     $5$        17         25.0\n",
       "5     $6$        10         22.0\n",
       "6     $7$         7         23.0\n",
       "7     $8$         6         20.0\n",
       "8     $9$         5         21.0\n",
       "9    $10$         4         18.0\n",
       "10   $11$         2         17.0\n",
       "11   $12$         3         20.0\n",
       "12  $>12$        15          NaN"
      ]
     },
     "execution_count": 2,
     "metadata": {},
     "output_type": "execute_result"
    }
   ],
   "source": [
    "LABELS = collections.OrderedDict([\n",
    "    ('time', 'Time (weeks), $i$'),\n",
    "    ('failures', 'Failures, $y_i$'),\n",
    "    ('temperature', 'Temperature, $x_i$'),\n",
    "])\n",
    "\n",
    "failure_time_data = pd.DataFrame(collections.OrderedDict([\n",
    "    ('time', ['${}$'.format(week) for week in range(1,13)] + ['$>12$']),\n",
    "    ('failures', [210, 108, 58, 40, 17, 10, 7, 6, 5, 4, 2, 3, 15]),\n",
    "    ('temperature', [24, 26, 24, 26, 25, 22, 23, 20, 21, 18, 17, 20, None]),\n",
    "]))\n",
    "\n",
    "with open('failure_time_data.tex', 'w') as f:\n",
    "    f.write(\n",
    "        pd.DataFrame(collections.OrderedDict(\n",
    "            [(LABELS[i], value) for i, value in failure_time_data.items()])).to_latex(\n",
    "            escape=False, index=False, na_rep=''))\n",
    "\n",
    "failure_time_data"
   ]
  },
  {
   "cell_type": "markdown",
   "metadata": {},
   "source": [
    "# Geometric Model"
   ]
  },
  {
   "cell_type": "code",
   "execution_count": 3,
   "metadata": {},
   "outputs": [
    {
     "data": {
      "text/plain": [
       "0.35471698113207545"
      ]
     },
     "execution_count": 3,
     "metadata": {},
     "output_type": "execute_result"
    }
   ],
   "source": [
    "def score(y, p):\n",
    "    y = np.asarray(y)\n",
    "    N = len(y) - 1\n",
    "    t = np.arange(1, len(y))\n",
    "    return -N*y[-1]/(1-p) + np.sum(y[:-1]*(1/p - (t-1)/(1-p)))\n",
    "\n",
    "def mle(y):\n",
    "    y = np.asarray(y)\n",
    "    return np.sum(y[:-1])/(y[-1]*(len(y) - 1) + np.sum(np.arange(1, len(y))*y[:-1]))\n",
    "\n",
    "score(failure_time_data['failures'], mle(failure_time_data['failures']))\n",
    "mle(failure_time_data['failures'])"
   ]
  },
  {
   "cell_type": "code",
   "execution_count": 4,
   "metadata": {},
   "outputs": [
    {
     "data": {
      "text/plain": [
       "0.00016828364537217432"
      ]
     },
     "execution_count": 4,
     "metadata": {},
     "output_type": "execute_result"
    }
   ],
   "source": [
    "def fisher_information(y, p):\n",
    "    N = len(y) - 1\n",
    "    n = np.sum(y)\n",
    "    return n*(1 - (1-p)**N)/(p*p*(1-p))\n",
    "\n",
    "1/fisher_information(failure_time_data['failures'], mle(failure_time_data['failures']))"
   ]
  },
  {
   "cell_type": "code",
   "execution_count": 5,
   "metadata": {},
   "outputs": [
    {
     "data": {
      "text/plain": [
       "(0.32929150780524236, 0.38014245445890854)"
      ]
     },
     "execution_count": 5,
     "metadata": {},
     "output_type": "execute_result"
    }
   ],
   "source": [
    "stats.norm.interval(\n",
    "    0.95,\n",
    "    loc=mle(failure_time_data['failures']),\n",
    "    scale=np.sqrt(1/fisher_information(failure_time_data['failures'], mle(failure_time_data['failures']))))"
   ]
  },
  {
   "cell_type": "code",
   "execution_count": 6,
   "metadata": {},
   "outputs": [
    {
     "data": {
      "text/plain": [
       "(4.800000000000001, 19.200000000000003)"
      ]
     },
     "execution_count": 6,
     "metadata": {},
     "output_type": "execute_result"
    }
   ],
   "source": [
    "MU = 0.2\n",
    "SIGMA = 0.08\n",
    "\n",
    "def make_beta_shapes(mu, sigma):\n",
    "    x = mu*(1-mu)/(sigma*sigma) - 1\n",
    "    return mu*x, (1-mu)*x\n",
    "\n",
    "PRIOR_ALPHA, PRIOR_BETA = make_beta_shapes(MU, SIGMA)\n",
    "PRIOR_ALPHA, PRIOR_BETA"
   ]
  },
  {
   "cell_type": "code",
   "execution_count": 7,
   "metadata": {},
   "outputs": [
    {
     "data": {
      "text/plain": [
       "(474.8, 874.2)"
      ]
     },
     "execution_count": 7,
     "metadata": {},
     "output_type": "execute_result"
    }
   ],
   "source": [
    "def update_beta_shapes(prior_alpha, prior_beta, y):\n",
    "    y = np.asarray(y)\n",
    "    alpha = prior_alpha + np.sum(y[:-1])\n",
    "    \n",
    "    t = np.arange(1, len(y))\n",
    "    N = len(y) - 1\n",
    "    beta = prior_beta + np.sum((t-1)*y[:-1]) + y[-1]*N\n",
    "    return alpha, beta \n",
    "\n",
    "ALPHA, BETA = update_beta_shapes(PRIOR_ALPHA, PRIOR_BETA, failure_time_data['failures'])\n",
    "ALPHA, BETA "
   ]
  },
  {
   "cell_type": "code",
   "execution_count": 8,
   "metadata": {},
   "outputs": [
    {
     "name": "stderr",
     "output_type": "stream",
     "text": [
      "/usr/local/lib/python3.5/dist-packages/scipy/stats/stats.py:1713: FutureWarning: Using a non-tuple sequence for multidimensional indexing is deprecated; use `arr[tuple(seq)]` instead of `arr[seq]`. In the future this will be interpreted as an array index, `arr[np.array(seq)]`, which will result either in an error or a different result.\n",
      "  return np.add.reduce(sorted[indexer] * weights, axis=axis) / sumval\n"
     ]
    },
    {
     "data": {
      "image/png": "[encoded data removed]",
      "text/plain": [
       "<Figure size 324x252 with 1 Axes>"
      ]
     },
     "metadata": {
      "needs_background": "light"
     },
     "output_type": "display_data"
    }
   ],
   "source": [
    "_PartialRvContinuous = NamedTuple(\n",
    "    '_PartialRvContinuous', [\n",
    "        ('pdf', Callable[[np.array], np.array]),\n",
    "        ('fit', Callable[[np.array], Tuple[float, float]])])\n",
    "\n",
    "np.random.seed(2018)\n",
    "posterior_samples = stats.beta.rvs(a=ALPHA, b=BETA, size=2048)\n",
    "#posterior_quantiles = np.quantile(posterior_samples, q=[0.05, 0.5, 0.95])\n",
    "posterior_quantiles = stats.beta.ppf(q=[0.05, 0.5, 0.95], a=ALPHA, b=BETA)\n",
    "\n",
    "fig = plt.figure(figsize=(4.5,3.5))\n",
    "ax = fig.gca()\n",
    "sns.distplot(posterior_samples, kde=False, ax=ax,\n",
    "             fit=_PartialRvContinuous(pdf=stats.beta.pdf, fit=lambda _: (ALPHA, BETA)))\n",
    "ax.vlines(posterior_quantiles, ymin=0, ymax=1, colors='r')\n",
    "ax.grid(True)\n",
    "ax.set_xlabel('$p$')\n",
    "ax.set_ylabel('Sample count')\n",
    "ax.set_title('Posterior Samples for Failure Time Data')\n",
    "fig.tight_layout()\n",
    "fig.savefig('p1_posterior_samples.pdf', bbox_inches='tight')"
   ]
  },
  {
   "cell_type": "code",
   "execution_count": 9,
   "metadata": {},
   "outputs": [
    {
     "data": {
      "text/plain": [
       "array([0.33070873, 0.35189124, 0.37346975])"
      ]
     },
     "execution_count": 9,
     "metadata": {},
     "output_type": "execute_result"
    }
   ],
   "source": [
    "posterior_quantiles"
   ]
  },
  {
   "cell_type": "code",
   "execution_count": 10,
   "metadata": {},
   "outputs": [
    {
     "data": {
      "text/plain": [
       "0.0803034086438286"
      ]
     },
     "execution_count": 10,
     "metadata": {},
     "output_type": "execute_result"
    }
   ],
   "source": [
    "np.sqrt(np.var(stats.beta.rvs(4.8, 19.2, size=10000)))"
   ]
  },
  {
   "cell_type": "markdown",
   "metadata": {},
   "source": [
    "## Beta Hyperparameter"
   ]
  },
  {
   "cell_type": "code",
   "execution_count": 11,
   "metadata": {},
   "outputs": [
    {
     "data": {
      "text/plain": [
       "    fjac: array([[-0.35881411, -0.93340904],\n",
       "       [ 0.93340904, -0.35881411]])\n",
       "     fun: array([3.03845127e-09, 6.03972694e-09])\n",
       " message: 'The solution converged.'\n",
       "    nfev: 12\n",
       "     qtf: array([-2.30196430e-07,  1.98313292e-08])\n",
       "       r: array([ 534.93252681, -635.33824205,  -36.60794047])\n",
       "  status: 1\n",
       " success: True\n",
       "       x: array([1.413336  , 1.38001102])"
      ]
     },
     "execution_count": 11,
     "metadata": {},
     "output_type": "execute_result"
    }
   ],
   "source": [
    "def score(y, alpha_beta):\n",
    "    alpha, beta = alpha_beta\n",
    "    y = np.asarray(y)\n",
    "    n = np.sum(y)\n",
    "    N = len(y) - 1\n",
    "    t = np.arange(1, N + 1)\n",
    "    \n",
    "    acc = -n*(special.digamma(alpha) - special.digamma(alpha + beta))\n",
    "    acc += y[-1]*(np.array([\n",
    "        special.digamma(alpha),\n",
    "        special.digamma(beta + N),\n",
    "    ]) - special.digamma(alpha + beta + N))\n",
    "    acc += np.sum(y[:-1]*(np.array([\n",
    "        [special.digamma(alpha + 1)]*N,\n",
    "        special.digamma(beta + t - 1),\n",
    "    ]) - special.digamma(alpha + beta + t)), -1)\n",
    "    return acc\n",
    "    \n",
    "optimize.root(functools.partial(score, failure_time_data['failures']), [1, 1])"
   ]
  },
  {
   "cell_type": "markdown",
   "metadata": {},
   "source": [
    "## Binomial Model"
   ]
  },
  {
   "cell_type": "code",
   "execution_count": 12,
   "metadata": {},
   "outputs": [],
   "source": [
    "def pearson_residuals(y, p):\n",
    "    y = np.asarray(y)    \n",
    "    nt = np.ones_like(y[:-1])*np.sum(y)\n",
    "    nt[1:] -= np.cumsum(y)[:-2]\n",
    "    mu = nt*p\n",
    "    return (y[:-1] - mu)/np.sqrt(mu*(1-p))\n",
    "\n",
    "residuals = pearson_residuals(failure_time_data['failures'], mle(failure_time_data['failures']))"
   ]
  },
  {
   "cell_type": "code",
   "execution_count": 13,
   "metadata": {},
   "outputs": [
    {
     "data": {
      "image/png": "[encoded data removed]",
      "text/plain": [
       "<Figure size 324x252 with 1 Axes>"
      ]
     },
     "metadata": {
      "needs_background": "light"
     },
     "output_type": "display_data"
    }
   ],
   "source": [
    "def plot_residuals(residuals, ax=None):\n",
    "    if ax is None:\n",
    "        ax = plt.gca()\n",
    "    ax.plot(np.arange(len(residuals)) + 1, residuals, 'o')\n",
    "    ax.grid(True)\n",
    "    ax.set_ylabel('Pearson residual')\n",
    "    ax.set_xlabel('$t$')\n",
    "    \n",
    "fig = plt.figure(figsize=(4.5, 3.5))\n",
    "ax = fig.gca()\n",
    "plot_residuals(residuals)\n",
    "ax.set_title('Residuals versus Time')\n",
    "fig.tight_layout()\n",
    "fig.savefig('p3_residuals.pdf', bbox_inches='tight')"
   ]
  },
  {
   "cell_type": "code",
   "execution_count": 14,
   "metadata": {},
   "outputs": [
    {
     "data": {
      "image/png": "[encoded data removed]",
      "text/plain": [
       "<Figure size 288x288 with 1 Axes>"
      ]
     },
     "metadata": {
      "needs_background": "light"
     },
     "output_type": "display_data"
    }
   ],
   "source": [
    "fig = plt.figure(figsize=(4, 4))\n",
    "ax = fig.gca()\n",
    "sm.qqplot(residuals, loc=0, scale=1, line='45', ax=ax, fit=False)\n",
    "ax.grid(True)\n",
    "ax.set_title('Q\\u2013Q Plot for Residuals')\n",
    "fig.tight_layout()\n",
    "fig.savefig('p3_qq.pdf', bbox_inches='tight')"
   ]
  },
  {
   "cell_type": "code",
   "execution_count": 15,
   "metadata": {},
   "outputs": [
    {
     "data": {
      "text/html": [
       "<div>\n",
       "<style scoped>\n",
       "    .dataframe tbody tr th:only-of-type {\n",
       "        vertical-align: middle;\n",
       "    }\n",
       "\n",
       "    .dataframe tbody tr th {\n",
       "        vertical-align: top;\n",
       "    }\n",
       "\n",
       "    .dataframe thead th {\n",
       "        text-align: right;\n",
       "    }\n",
       "</style>\n",
       "<table border=\"1\" class=\"dataframe\">\n",
       "  <thead>\n",
       "    <tr style=\"text-align: right;\">\n",
       "      <th></th>\n",
       "      <th>MLE</th>\n",
       "      <th>Standard error</th>\n",
       "      <th>95\\% CI lower bound</th>\n",
       "      <th>95\\% CI upper bound</th>\n",
       "    </tr>\n",
       "  </thead>\n",
       "  <tbody>\n",
       "    <tr>\n",
       "      <th>$\\hat\\beta_0$</th>\n",
       "      <td>-0.090505</td>\n",
       "      <td>0.091144</td>\n",
       "      <td>-0.269143</td>\n",
       "      <td>0.088133</td>\n",
       "    </tr>\n",
       "    <tr>\n",
       "      <th>$\\hat\\beta_1$</th>\n",
       "      <td>-0.174740</td>\n",
       "      <td>0.026138</td>\n",
       "      <td>-0.225969</td>\n",
       "      <td>-0.123511</td>\n",
       "    </tr>\n",
       "  </tbody>\n",
       "</table>\n",
       "</div>"
      ],
      "text/plain": [
       "                    MLE  Standard error  95\\% CI lower bound  \\\n",
       "$\\hat\\beta_0$ -0.090505        0.091144            -0.269143   \n",
       "$\\hat\\beta_1$ -0.174740        0.026138            -0.225969   \n",
       "\n",
       "               95\\% CI upper bound  \n",
       "$\\hat\\beta_0$             0.088133  \n",
       "$\\hat\\beta_1$            -0.123511  "
      ]
     },
     "execution_count": 15,
     "metadata": {},
     "output_type": "execute_result"
    }
   ],
   "source": [
    "def score(y, beta):\n",
    "    y = np.asarray(y)\n",
    "    t = np.arange(1, len(y))\n",
    "    nt = np.ones_like(y[:-1])*np.sum(y)\n",
    "    nt[1:] -= np.cumsum(y)[:-2]    \n",
    "    p = special.expit(beta[0] + beta[1]*t)\n",
    "    mu = nt*p\n",
    "    y = y[:-1]\n",
    "    error = y-mu\n",
    "    return np.sum(np.array([error, t*error]), axis=-1)\n",
    "\n",
    "def observed_information(y, beta):\n",
    "    y = np.asarray(y)\n",
    "    t = np.arange(1, len(y))\n",
    "    nt = np.ones_like(y[:-1])*np.sum(y)\n",
    "    nt[1:] -= np.cumsum(y)[:-2]    \n",
    "    p = special.expit(beta[0] + beta[1]*t)    \n",
    "    X = np.column_stack((np.ones_like(t), t))\n",
    "    return np.matmul(p*(1-p)*nt*X.T, X)\n",
    "\n",
    "beta = optimize.root(\n",
    "    functools.partial(score, failure_time_data['failures']), [0, 0],\n",
    "    jac=lambda beta: -observed_information(failure_time_data['failures'], beta)).x\n",
    "beta_standard_error = np.sqrt(\n",
    "    np.diag(np.linalg.inv(observed_information(failure_time_data['failures'], beta))))\n",
    "\n",
    "time_dependent_model_summary = pd.DataFrame(collections.OrderedDict([    \n",
    "    ('MLE', beta),\n",
    "    ('Standard error', beta_standard_error),\n",
    "    ('95\\% CI lower bound', beta + beta_standard_error*stats.norm.ppf(0.025)),\n",
    "    ('95\\% CI upper bound', beta + beta_standard_error*stats.norm.ppf(0.975)),\n",
    "]), index=['$\\\\hat\\\\beta_0$', '$\\\\hat\\\\beta_1$'])\n",
    "\n",
    "with open('p3_model_summary.tex', 'w') as f:\n",
    "    f.write(time_dependent_model_summary.to_latex(escape=False))\n",
    "\n",
    "time_dependent_model_summary"
   ]
  },
  {
   "cell_type": "code",
   "execution_count": 16,
   "metadata": {},
   "outputs": [
    {
     "data": {
      "image/png": "[encoded data removed]",
      "text/plain": [
       "<Figure size 324x252 with 1 Axes>"
      ]
     },
     "metadata": {
      "needs_background": "light"
     },
     "output_type": "display_data"
    }
   ],
   "source": [
    "residuals = pearson_residuals(failure_time_data['failures'],\n",
    "                              special.expit(beta[0] + beta[1]*np.arange(1, len(failure_time_data))))\n",
    "\n",
    "fig = plt.figure(figsize=(4.5, 3.5))\n",
    "ax = fig.gca()\n",
    "plot_residuals(residuals)\n",
    "ax.set_title('Residuals with Time-Dependent Probability')\n",
    "fig.tight_layout()\n",
    "fig.savefig('p3_residuals_time.pdf', bbox_inches='tight')"
   ]
  },
  {
   "cell_type": "code",
   "execution_count": 17,
   "metadata": {},
   "outputs": [
    {
     "data": {
      "image/png": "[encoded data removed]",
      "text/plain": [
       "<Figure size 288x288 with 1 Axes>"
      ]
     },
     "metadata": {
      "needs_background": "light"
     },
     "output_type": "display_data"
    }
   ],
   "source": [
    "fig = plt.figure(figsize=(4, 4))\n",
    "ax = fig.gca()\n",
    "sm.qqplot(residuals, loc=0, scale=1, line='45', ax=ax, fit=False)\n",
    "ax.grid(True)\n",
    "ax.set_title('Q\\u2013Q Plot for Residuals with Time-dependent Model')\n",
    "fig.tight_layout()\n",
    "fig.savefig('p3_qq_time.pdf', bbox_inches='tight')"
   ]
  }
 ],
 "metadata": {
  "kernelspec": {
   "display_name": "Python 3",
   "language": "python",
   "name": "python3"
  },
  "language_info": {
   "codemirror_mode": {
    "name": "ipython",
    "version": 3
   },
   "file_extension": ".py",
   "mimetype": "text/x-python",
   "name": "python",
   "nbconvert_exporter": "python",
   "pygments_lexer": "ipython3",
   "version": "3.5.2"
  }
 },
 "nbformat": 4,
 "nbformat_minor": 2
}
