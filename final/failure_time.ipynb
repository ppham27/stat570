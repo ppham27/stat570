{
 "cells": [
  {
   "cell_type": "code",
   "execution_count": 677,
   "metadata": {},
   "outputs": [],
   "source": [
    "import collections\n",
    "import functools\n",
    "import matplotlib.pyplot as plt\n",
    "import numpy as np\n",
    "import pandas as pd\n",
    "import seaborn as sns\n",
    "from scipy import optimize\n",
    "from scipy import special\n",
    "from scipy import stats\n",
    "from typing import Callable, NamedTuple, Tuple"
   ]
  },
  {
   "cell_type": "code",
   "execution_count": 47,
   "metadata": {},
   "outputs": [
    {
     "data": {
      "text/html": [
       "<div>\n",
       "<style scoped>\n",
       "    .dataframe tbody tr th:only-of-type {\n",
       "        vertical-align: middle;\n",
       "    }\n",
       "\n",
       "    .dataframe tbody tr th {\n",
       "        vertical-align: top;\n",
       "    }\n",
       "\n",
       "    .dataframe thead th {\n",
       "        text-align: right;\n",
       "    }\n",
       "</style>\n",
       "<table border=\"1\" class=\"dataframe\">\n",
       "  <thead>\n",
       "    <tr style=\"text-align: right;\">\n",
       "      <th></th>\n",
       "      <th>time</th>\n",
       "      <th>failures</th>\n",
       "      <th>temperature</th>\n",
       "    </tr>\n",
       "  </thead>\n",
       "  <tbody>\n",
       "    <tr>\n",
       "      <th>0</th>\n",
       "      <td>$1$</td>\n",
       "      <td>210</td>\n",
       "      <td>24.0</td>\n",
       "    </tr>\n",
       "    <tr>\n",
       "      <th>1</th>\n",
       "      <td>$2$</td>\n",
       "      <td>108</td>\n",
       "      <td>26.0</td>\n",
       "    </tr>\n",
       "    <tr>\n",
       "      <th>2</th>\n",
       "      <td>$3$</td>\n",
       "      <td>58</td>\n",
       "      <td>24.0</td>\n",
       "    </tr>\n",
       "    <tr>\n",
       "      <th>3</th>\n",
       "      <td>$4$</td>\n",
       "      <td>40</td>\n",
       "      <td>26.0</td>\n",
       "    </tr>\n",
       "    <tr>\n",
       "      <th>4</th>\n",
       "      <td>$5$</td>\n",
       "      <td>17</td>\n",
       "      <td>25.0</td>\n",
       "    </tr>\n",
       "    <tr>\n",
       "      <th>5</th>\n",
       "      <td>$6$</td>\n",
       "      <td>10</td>\n",
       "      <td>22.0</td>\n",
       "    </tr>\n",
       "    <tr>\n",
       "      <th>6</th>\n",
       "      <td>$7$</td>\n",
       "      <td>7</td>\n",
       "      <td>23.0</td>\n",
       "    </tr>\n",
       "    <tr>\n",
       "      <th>7</th>\n",
       "      <td>$8$</td>\n",
       "      <td>6</td>\n",
       "      <td>20.0</td>\n",
       "    </tr>\n",
       "    <tr>\n",
       "      <th>8</th>\n",
       "      <td>$9$</td>\n",
       "      <td>5</td>\n",
       "      <td>21.0</td>\n",
       "    </tr>\n",
       "    <tr>\n",
       "      <th>9</th>\n",
       "      <td>$10$</td>\n",
       "      <td>4</td>\n",
       "      <td>18.0</td>\n",
       "    </tr>\n",
       "    <tr>\n",
       "      <th>10</th>\n",
       "      <td>$11$</td>\n",
       "      <td>2</td>\n",
       "      <td>17.0</td>\n",
       "    </tr>\n",
       "    <tr>\n",
       "      <th>11</th>\n",
       "      <td>$12$</td>\n",
       "      <td>3</td>\n",
       "      <td>20.0</td>\n",
       "    </tr>\n",
       "    <tr>\n",
       "      <th>12</th>\n",
       "      <td>$&gt;12$</td>\n",
       "      <td>15</td>\n",
       "      <td>NaN</td>\n",
       "    </tr>\n",
       "  </tbody>\n",
       "</table>\n",
       "</div>"
      ],
      "text/plain": [
       "     time  failures  temperature\n",
       "0     $1$       210         24.0\n",
       "1     $2$       108         26.0\n",
       "2     $3$        58         24.0\n",
       "3     $4$        40         26.0\n",
       "4     $5$        17         25.0\n",
       "5     $6$        10         22.0\n",
       "6     $7$         7         23.0\n",
       "7     $8$         6         20.0\n",
       "8     $9$         5         21.0\n",
       "9    $10$         4         18.0\n",
       "10   $11$         2         17.0\n",
       "11   $12$         3         20.0\n",
       "12  $>12$        15          NaN"
      ]
     },
     "execution_count": 47,
     "metadata": {},
     "output_type": "execute_result"
    }
   ],
   "source": [
    "LABELS = collections.OrderedDict([\n",
    "    ('time', 'Time (weeks), $i$'),\n",
    "    ('failures', 'Failures, $y_i$'),\n",
    "    ('temperature', 'Temperature, $x_i$'),\n",
    "])\n",
    "\n",
    "failure_time_data = pd.DataFrame(collections.OrderedDict([\n",
    "    ('time', ['${}$'.format(week) for week in range(1,13)] + ['$>12$']),\n",
    "    ('failures', [210, 108, 58, 40, 17, 10, 7, 6, 5, 4, 2, 3, 15]),\n",
    "    ('temperature', [24, 26, 24, 26, 25, 22, 23, 20, 21, 18, 17, 20, None]),\n",
    "]))\n",
    "\n",
    "with open('failure_time_data.tex', 'w') as f:\n",
    "    f.write(\n",
    "        pd.DataFrame(collections.OrderedDict(\n",
    "            [(LABELS[i], value) for i, value in failure_time_data.items()])).to_latex(\n",
    "            escape=False, index=False, na_rep=''))\n",
    "\n",
    "failure_time_data"
   ]
  },
  {
   "cell_type": "markdown",
   "metadata": {},
   "source": [
    "# Geometric Model"
   ]
  },
  {
   "cell_type": "code",
   "execution_count": 223,
   "metadata": {},
   "outputs": [
    {
     "data": {
      "text/plain": [
       "0.35471698113207545"
      ]
     },
     "execution_count": 223,
     "metadata": {},
     "output_type": "execute_result"
    }
   ],
   "source": [
    "def score(y, p):\n",
    "    y = np.asarray(y)\n",
    "    N = len(y) - 1\n",
    "    t = np.arange(1, len(y))\n",
    "    return -N*y[-1]/(1-p) + np.sum(y[:-1]*(1/p - (t-1)/(1-p)))\n",
    "\n",
    "def mle(y):\n",
    "    y = np.asarray(y)\n",
    "    return np.sum(y[:-1])/(y[-1]*(len(y) - 1) + np.sum(np.arange(1, len(y))*y[:-1]))\n",
    "\n",
    "score(failure_time_data['failures'], mle(failure_time_data['failures']))\n",
    "mle(failure_time_data['failures'])"
   ]
  },
  {
   "cell_type": "code",
   "execution_count": 239,
   "metadata": {},
   "outputs": [
    {
     "data": {
      "text/plain": [
       "0.00016828364537217432"
      ]
     },
     "execution_count": 239,
     "metadata": {},
     "output_type": "execute_result"
    }
   ],
   "source": [
    "def fisher_information(y, p):\n",
    "    N = len(y) - 1\n",
    "    n = np.sum(y)\n",
    "    return n*(1 - (1-p)**N)/(p*p*(1-p))\n",
    "\n",
    "1/fisher_information(failure_time_data['failures'], mle(failure_time_data['failures']))"
   ]
  },
  {
   "cell_type": "code",
   "execution_count": 254,
   "metadata": {},
   "outputs": [
    {
     "data": {
      "text/plain": [
       "(0.32929150780524236, 0.38014245445890854)"
      ]
     },
     "execution_count": 254,
     "metadata": {},
     "output_type": "execute_result"
    }
   ],
   "source": [
    "stats.norm.interval(\n",
    "    0.95,\n",
    "    loc=mle(failure_time_data['failures']),\n",
    "    scale=np.sqrt(1/fisher_information(failure_time_data['failures'], mle(failure_time_data['failures']))))"
   ]
  },
  {
   "cell_type": "code",
   "execution_count": 640,
   "metadata": {},
   "outputs": [
    {
     "data": {
      "text/plain": [
       "(4.800000000000001, 19.200000000000003)"
      ]
     },
     "execution_count": 640,
     "metadata": {},
     "output_type": "execute_result"
    }
   ],
   "source": [
    "MU = 0.2\n",
    "SIGMA = 0.08\n",
    "\n",
    "def make_beta_shapes(mu, sigma):\n",
    "    x = mu*(1-mu)/(sigma*sigma) - 1\n",
    "    return mu*x, (1-mu)*x\n",
    "\n",
    "PRIOR_ALPHA, PRIOR_BETA = make_beta_shapes(MU, SIGMA)\n",
    "PRIOR_ALPHA, PRIOR_BETA"
   ]
  },
  {
   "cell_type": "code",
   "execution_count": 647,
   "metadata": {},
   "outputs": [
    {
     "data": {
      "text/plain": [
       "(474.8, 874.2)"
      ]
     },
     "execution_count": 647,
     "metadata": {},
     "output_type": "execute_result"
    }
   ],
   "source": [
    "def update_beta_shapes(prior_alpha, prior_beta, y):\n",
    "    y = np.asarray(y)\n",
    "    alpha = prior_alpha + np.sum(y[:-1])\n",
    "    \n",
    "    t = np.arange(1, len(y))\n",
    "    N = len(y) - 1\n",
    "    beta = prior_beta + np.sum((t-1)*y[:-1]) + y[-1]*N\n",
    "    return alpha, beta \n",
    "\n",
    "ALPHA, BETA = update_beta_shapes(PRIOR_ALPHA, PRIOR_BETA, failure_time_data['failures'])\n",
    "ALPHA, BETA "
   ]
  },
  {
   "cell_type": "code",
   "execution_count": 702,
   "metadata": {},
   "outputs": [
    {
     "data": {
      "image/png": "[encoded data removed]",
      "text/plain": [
       "<Figure size 324x252 with 1 Axes>"
      ]
     },
     "metadata": {
      "needs_background": "light"
     },
     "output_type": "display_data"
    }
   ],
   "source": [
    "_PartialRvContinuous = NamedTuple(\n",
    "    '_PartialRvContinuous', [\n",
    "        ('pdf', Callable[[np.array], np.array]),\n",
    "        ('fit', Callable[[np.array], Tuple[float, float]])])\n",
    "\n",
    "np.random.seed(2018)\n",
    "posterior_samples = stats.beta.rvs(a=ALPHA, b=BETA, size=2048)\n",
    "#posterior_quantiles = np.quantile(posterior_samples, q=[0.05, 0.5, 0.95])\n",
    "posterior_quantiles = stats.beta.ppf(q=[0.05, 0.5, 0.95], a=ALPHA, b=BETA)\n",
    "\n",
    "fig = plt.figure(figsize=(4.5,3.5))\n",
    "ax = fig.gca()\n",
    "sns.distplot(posterior_samples, kde=False, ax=ax,\n",
    "             fit=_PartialRvContinuous(pdf=stats.beta.pdf, fit=lambda _: (ALPHA, BETA)))\n",
    "ax.vlines(posterior_quantiles, ymin=0, ymax=1, colors='r')\n",
    "ax.grid(True)\n",
    "ax.set_xlabel('$p$')\n",
    "ax.set_ylabel('Sample Count')\n",
    "ax.set_title('Posterior Samples for Failure Time Data')\n",
    "fig.tight_layout()\n",
    "fig.savefig('p1_posterior_samples.pdf', bbox_inches='tight')"
   ]
  },
  {
   "cell_type": "code",
   "execution_count": 703,
   "metadata": {},
   "outputs": [
    {
     "data": {
      "text/plain": [
       "array([0.33070873, 0.35189124, 0.37346975])"
      ]
     },
     "execution_count": 703,
     "metadata": {},
     "output_type": "execute_result"
    }
   ],
   "source": [
    "posterior_quantiles"
   ]
  },
  {
   "cell_type": "code",
   "execution_count": 637,
   "metadata": {},
   "outputs": [
    {
     "data": {
      "text/plain": [
       "0.08023849939373665"
      ]
     },
     "execution_count": 637,
     "metadata": {},
     "output_type": "execute_result"
    }
   ],
   "source": [
    "np.sqrt(np.var(stats.beta.rvs(4.8, 19.2, size=10000)))"
   ]
  },
  {
   "cell_type": "markdown",
   "metadata": {},
   "source": [
    "## Beta Hyperparameter"
   ]
  },
  {
   "cell_type": "code",
   "execution_count": 621,
   "metadata": {},
   "outputs": [
    {
     "data": {
      "text/plain": [
       "    fjac: array([[-0.35881411, -0.93340904],\n",
       "       [ 0.93340904, -0.35881411]])\n",
       "     fun: array([3.03845127e-09, 6.03972694e-09])\n",
       " message: 'The solution converged.'\n",
       "    nfev: 12\n",
       "     qtf: array([-2.30196430e-07,  1.98313292e-08])\n",
       "       r: array([ 534.93252681, -635.33824205,  -36.60794047])\n",
       "  status: 1\n",
       " success: True\n",
       "       x: array([1.413336  , 1.38001102])"
      ]
     },
     "execution_count": 621,
     "metadata": {},
     "output_type": "execute_result"
    }
   ],
   "source": [
    "def score(y, alpha_beta):\n",
    "    alpha, beta = alpha_beta\n",
    "    y = np.asarray(y)\n",
    "    n = np.sum(y)\n",
    "    N = len(y) - 1\n",
    "    t = np.arange(1, N + 1)\n",
    "    \n",
    "    acc = -n*(special.digamma(alpha) - special.digamma(alpha + beta))\n",
    "    acc += y[-1]*(np.array([\n",
    "        special.digamma(alpha),\n",
    "        special.digamma(beta + N),\n",
    "    ]) - special.digamma(alpha + beta + N))\n",
    "    acc += np.sum(y[:-1]*(np.array([\n",
    "        [special.digamma(alpha + 1)]*N,\n",
    "        special.digamma(beta + t - 1),\n",
    "    ]) - special.digamma(alpha + beta + t)), -1)\n",
    "    return acc\n",
    "    \n",
    "optimize.root(functools.partial(score, failure_time_data['failures']), [1, 1])"
   ]
  },
  {
   "cell_type": "code",
   "execution_count": 628,
   "metadata": {},
   "outputs": [
    {
     "name": "stdout",
     "output_type": "stream",
     "text": [
      "21\n"
     ]
    },
    {
     "data": {
      "text/plain": [
       "array([  0, 240,  89,  46,  23,  20,  15,  11,   7,   5,   3,   3,   2])"
      ]
     },
     "execution_count": 628,
     "metadata": {},
     "output_type": "execute_result"
    }
   ],
   "source": [
    "tmp = np.bincount(stats.geom.rvs(stats.beta.rvs(1.413336, 1.38001102, size=485)))\n",
    "print(np.sum(tmp[13:]))\n",
    "tmp[:13]"
   ]
  },
  {
   "cell_type": "code",
   "execution_count": 629,
   "metadata": {},
   "outputs": [
    {
     "data": {
      "text/plain": [
       "0.5059650626580582"
      ]
     },
     "execution_count": 629,
     "metadata": {},
     "output_type": "execute_result"
    }
   ],
   "source": [
    "1.413336/(1.413336 + 1.38001102)"
   ]
  },
  {
   "cell_type": "code",
   "execution_count": null,
   "metadata": {},
   "outputs": [],
   "source": []
  },
  {
   "cell_type": "code",
   "execution_count": 368,
   "metadata": {},
   "outputs": [
    {
     "data": {
      "text/plain": [
       "    fjac: array([[-0.35881411, -0.93340904],\n",
       "       [ 0.93340904, -0.35881411]])\n",
       "     fun: array([3.03845127e-09, 6.03972694e-09])\n",
       " message: 'The solution converged.'\n",
       "    nfev: 12\n",
       "     qtf: array([-2.30196430e-07,  1.98313292e-08])\n",
       "       r: array([ 534.93252681, -635.33824205,  -36.60794047])\n",
       "  status: 1\n",
       " success: True\n",
       "       x: array([1.413336  , 1.38001102])"
      ]
     },
     "execution_count": 368,
     "metadata": {},
     "output_type": "execute_result"
    }
   ],
   "source": []
  },
  {
   "cell_type": "code",
   "execution_count": 361,
   "metadata": {},
   "outputs": [
    {
     "data": {
      "text/plain": [
       "0.5059650626580582"
      ]
     },
     "execution_count": 361,
     "metadata": {},
     "output_type": "execute_result"
    }
   ],
   "source": [
    "1.413336/(1.413336 + 1.38001102)"
   ]
  },
  {
   "cell_type": "code",
   "execution_count": 253,
   "metadata": {},
   "outputs": [
    {
     "data": {
      "text/plain": [
       "0.32929150780524236"
      ]
     },
     "execution_count": 253,
     "metadata": {},
     "output_type": "execute_result"
    }
   ],
   "source": [
    "np.sqrt(0.00016828364537217432)*stats.norm.ppf(0.025) + 0.35471698113207545"
   ]
  },
  {
   "cell_type": "code",
   "execution_count": 125,
   "metadata": {},
   "outputs": [
    {
     "data": {
      "text/plain": [
       "2.809667566181416"
      ]
     },
     "execution_count": 125,
     "metadata": {},
     "output_type": "execute_result"
    }
   ],
   "source": [
    "tmp = mle(failure_time_data['failures'])\n",
    "tmp\n",
    "\n",
    "np.sum((1 - tmp)**np.arange(13))"
   ]
  },
  {
   "cell_type": "code",
   "execution_count": 128,
   "metadata": {},
   "outputs": [
    {
     "data": {
      "text/plain": [
       "2.8096675661814157"
      ]
     },
     "execution_count": 128,
     "metadata": {},
     "output_type": "execute_result"
    }
   ],
   "source": [
    "(1 - (1-tmp)**13)/tmp"
   ]
  },
  {
   "cell_type": "code",
   "execution_count": 219,
   "metadata": {},
   "outputs": [
    {
     "data": {
      "text/plain": [
       "4.9254021801953245"
      ]
     },
     "execution_count": 219,
     "metadata": {},
     "output_type": "execute_result"
    }
   ],
   "source": [
    "np.sum((np.arange(1,13) - 1)*((1-tmp)**(np.arange(1,13) - 1)))"
   ]
  },
  {
   "cell_type": "code",
   "execution_count": null,
   "metadata": {},
   "outputs": [],
   "source": []
  },
  {
   "cell_type": "code",
   "execution_count": 208,
   "metadata": {},
   "outputs": [
    {
     "data": {
      "text/plain": [
       "0.4776779356290193"
      ]
     },
     "execution_count": 208,
     "metadata": {},
     "output_type": "execute_result"
    }
   ],
   "source": [
    "np.sum(np.arange(4)*tmp**np.arange(4))*(1-tmp)"
   ]
  },
  {
   "cell_type": "code",
   "execution_count": 218,
   "metadata": {},
   "outputs": [
    {
     "data": {
      "text/plain": [
       "0.4776779356290193"
      ]
     },
     "execution_count": 218,
     "metadata": {},
     "output_type": "execute_result"
    }
   ],
   "source": [
    "(tmp - tmp**4)/(1-tmp) - 3*tmp**4"
   ]
  },
  {
   "cell_type": "code",
   "execution_count": 205,
   "metadata": {},
   "outputs": [
    {
     "data": {
      "text/plain": [
       "0.8518860504086725"
      ]
     },
     "execution_count": 205,
     "metadata": {},
     "output_type": "execute_result"
    }
   ],
   "source": [
    "tmp/(1-tmp)**2"
   ]
  },
  {
   "cell_type": "code",
   "execution_count": 221,
   "metadata": {},
   "outputs": [
    {
     "data": {
      "text/plain": [
       "4.925402180195324"
      ]
     },
     "execution_count": 221,
     "metadata": {},
     "output_type": "execute_result"
    }
   ],
   "source": [
    "(1 - tmp - (1-tmp)**12)/tmp**2 - 11*((1-tmp)**12)/tmp"
   ]
  },
  {
   "cell_type": "code",
   "execution_count": 188,
   "metadata": {},
   "outputs": [
    {
     "data": {
      "text/plain": [
       "5.041488246900949"
      ]
     },
     "execution_count": 188,
     "metadata": {},
     "output_type": "execute_result"
    }
   ],
   "source": [
    "tmp2 = 1-tmp\n",
    "((tmp2 - tmp2**11)/tmp - tmp2**11)/tmp"
   ]
  },
  {
   "cell_type": "code",
   "execution_count": 255,
   "metadata": {},
   "outputs": [
    {
     "data": {
      "text/plain": [
       "1145"
      ]
     },
     "execution_count": 255,
     "metadata": {},
     "output_type": "execute_result"
    }
   ],
   "source": [
    "#np.arange(1, len(failure_time_data))*\n",
    "np.sum(np.arange(1, len(failure_time_data))*failure_time_data['failures'].values[:-1])"
   ]
  },
  {
   "cell_type": "code",
   "execution_count": 292,
   "metadata": {},
   "outputs": [
    {
     "data": {
      "text/plain": [
       "0.05"
      ]
     },
     "execution_count": 292,
     "metadata": {},
     "output_type": "execute_result"
    }
   ],
   "source": [
    "alpha = 2\n",
    "beta = 4\n",
    "\n",
    "special.beta(alpha,beta)"
   ]
  },
  {
   "cell_type": "code",
   "execution_count": 296,
   "metadata": {},
   "outputs": [
    {
     "data": {
      "text/plain": [
       "0.04999900893936691"
      ]
     },
     "execution_count": 296,
     "metadata": {},
     "output_type": "execute_result"
    }
   ],
   "source": [
    "s = np.arange(1000)\n",
    "np.sum(special.beta(alpha + 1, beta + s))"
   ]
  },
  {
   "cell_type": "code",
   "execution_count": 290,
   "metadata": {},
   "outputs": [
    {
     "data": {
      "text/plain": [
       "0.024954212454212452"
      ]
     },
     "execution_count": 290,
     "metadata": {},
     "output_type": "execute_result"
    }
   ],
   "source": [
    "np.sum(special.gamma(beta + s)/special.gamma(alpha+beta+s+1))"
   ]
  },
  {
   "cell_type": "code",
   "execution_count": 293,
   "metadata": {},
   "outputs": [
    {
     "data": {
      "text/plain": [
       "0.025"
      ]
     },
     "execution_count": 293,
     "metadata": {},
     "output_type": "execute_result"
    }
   ],
   "source": [
    "special.gamma(beta)/special.gamma(alpha+beta)/alpha"
   ]
  },
  {
   "cell_type": "code",
   "execution_count": 311,
   "metadata": {},
   "outputs": [
    {
     "data": {
      "text/plain": [
       "0.04523809523809523"
      ]
     },
     "execution_count": 311,
     "metadata": {},
     "output_type": "execute_result"
    }
   ],
   "source": [
    "s = np.arange(10)\n",
    "np.sum(special.beta(alpha + 1, beta + s))"
   ]
  },
  {
   "cell_type": "code",
   "execution_count": 316,
   "metadata": {},
   "outputs": [
    {
     "data": {
      "text/plain": [
       "0.045238095238095244"
      ]
     },
     "execution_count": 316,
     "metadata": {},
     "output_type": "execute_result"
    }
   ],
   "source": [
    "special.beta(alpha,beta) - special.beta(alpha, beta + 10)"
   ]
  },
  {
   "cell_type": "code",
   "execution_count": 323,
   "metadata": {},
   "outputs": [
    {
     "data": {
      "text/plain": [
       "2.2155705869689195e-06"
      ]
     },
     "execution_count": 323,
     "metadata": {},
     "output_type": "execute_result"
    }
   ],
   "source": [
    "special.beta(alpha, beta + 3000)/special.beta(alpha,beta)"
   ]
  },
  {
   "cell_type": "code",
   "execution_count": 306,
   "metadata": {},
   "outputs": [
    {
     "data": {
      "text/plain": [
       "0.9981684981684983"
      ]
     },
     "execution_count": 306,
     "metadata": {},
     "output_type": "execute_result"
    }
   ],
   "source": [
    "s = np.arange(100)\n",
    "np.sum(alpha*special.gamma(alpha + beta)*special.gamma(beta+s)/special.gamma(beta)/special.gamma(alpha+beta+s + 1))"
   ]
  }
 ],
 "metadata": {
  "kernelspec": {
   "display_name": "Python 3",
   "language": "python",
   "name": "python3"
  },
  "language_info": {
   "codemirror_mode": {
    "name": "ipython",
    "version": 3
   },
   "file_extension": ".py",
   "mimetype": "text/x-python",
   "name": "python",
   "nbconvert_exporter": "python",
   "pygments_lexer": "ipython3",
   "version": "3.5.2"
  }
 },
 "nbformat": 4,
 "nbformat_minor": 2
}
