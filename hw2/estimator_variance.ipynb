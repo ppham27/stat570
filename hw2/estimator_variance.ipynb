{
 "cells": [
  {
   "cell_type": "code",
   "execution_count": 32,
   "metadata": {},
   "outputs": [],
   "source": [
    "import numpy as np\n",
    "import pandas as pd\n",
    "from scipy import stats"
   ]
  },
  {
   "cell_type": "code",
   "execution_count": 805,
   "metadata": {},
   "outputs": [],
   "source": [
    "np.random.seed(2018)\n",
    "X_MEAN = 20\n",
    "X_STD_ERROR = 3\n",
    "BETA_0 = 2\n",
    "BETA_1 = -2.5\n",
    "\n",
    "ERROR_FACTORY = {\n",
    "    'normal': lambda size: stats.norm.rvs(0, 2, size=size),\n",
    "    'uniform': lambda size: stats.uniform.rvs(-2, 4, size=size),\n",
    "    'skew_normal': lambda size: stats.skewnorm.rvs(\n",
    "        5, -5/np.sqrt(1 + 5**2)*np.sqrt(2/np.pi), 1, size=size),\n",
    "    't': lambda size: stats.t.rvs(2, 0, 1, size=size),\n",
    "    'levy_stable': lambda size: stats.levy_stable.rvs(3/2, 0, size=size)\n",
    "}"
   ]
  },
  {
   "cell_type": "code",
   "execution_count": 804,
   "metadata": {},
   "outputs": [
    {
     "data": {
      "text/plain": [
       "325.45419621461235"
      ]
     },
     "execution_count": 804,
     "metadata": {},
     "output_type": "execute_result"
    }
   ],
   "source": [
    "np.var(ERROR_FACTORY['levy_stable'](1000000))"
   ]
  },
  {
   "cell_type": "code",
   "execution_count": 806,
   "metadata": {},
   "outputs": [
    {
     "data": {
      "text/html": [
       "<div>\n",
       "<style scoped>\n",
       "    .dataframe tbody tr th:only-of-type {\n",
       "        vertical-align: middle;\n",
       "    }\n",
       "\n",
       "    .dataframe tbody tr th {\n",
       "        vertical-align: top;\n",
       "    }\n",
       "\n",
       "    .dataframe thead th {\n",
       "        text-align: right;\n",
       "    }\n",
       "</style>\n",
       "<table border=\"1\" class=\"dataframe\">\n",
       "  <thead>\n",
       "    <tr style=\"text-align: right;\">\n",
       "      <th></th>\n",
       "      <th>n</th>\n",
       "      <th>error_type</th>\n",
       "    </tr>\n",
       "  </thead>\n",
       "  <tbody>\n",
       "    <tr>\n",
       "      <th>0</th>\n",
       "      <td>15</td>\n",
       "      <td>normal</td>\n",
       "    </tr>\n",
       "    <tr>\n",
       "      <th>1</th>\n",
       "      <td>15</td>\n",
       "      <td>uniform</td>\n",
       "    </tr>\n",
       "    <tr>\n",
       "      <th>2</th>\n",
       "      <td>15</td>\n",
       "      <td>skew_normal</td>\n",
       "    </tr>\n",
       "    <tr>\n",
       "      <th>3</th>\n",
       "      <td>15</td>\n",
       "      <td>levy_stable</td>\n",
       "    </tr>\n",
       "    <tr>\n",
       "      <th>4</th>\n",
       "      <td>30</td>\n",
       "      <td>normal</td>\n",
       "    </tr>\n",
       "    <tr>\n",
       "      <th>5</th>\n",
       "      <td>30</td>\n",
       "      <td>uniform</td>\n",
       "    </tr>\n",
       "    <tr>\n",
       "      <th>6</th>\n",
       "      <td>30</td>\n",
       "      <td>skew_normal</td>\n",
       "    </tr>\n",
       "    <tr>\n",
       "      <th>7</th>\n",
       "      <td>30</td>\n",
       "      <td>levy_stable</td>\n",
       "    </tr>\n",
       "  </tbody>\n",
       "</table>\n",
       "</div>"
      ],
      "text/plain": [
       "    n   error_type\n",
       "0  15       normal\n",
       "1  15      uniform\n",
       "2  15  skew_normal\n",
       "3  15  levy_stable\n",
       "4  30       normal\n",
       "5  30      uniform\n",
       "6  30  skew_normal\n",
       "7  30  levy_stable"
      ]
     },
     "execution_count": 806,
     "metadata": {},
     "output_type": "execute_result"
    }
   ],
   "source": [
    "experiments = pd.DataFrame(index=pd.MultiIndex.from_product([\n",
    "    pd.Series([15, 30], dtype=np.int32),\n",
    "    pd.Series(['normal','uniform', 'skew_normal', 'levy_stable'], dtype=np.object),\n",
    "], names=['n', 'error_type'])).reset_index()\n",
    "experiments"
   ]
  },
  {
   "cell_type": "code",
   "execution_count": 809,
   "metadata": {},
   "outputs": [],
   "source": [
    "from collections import OrderedDict\n",
    "\n",
    "from stat570.linear_model.linear_regression import LinearRegression\n",
    "\n",
    "def simulate(n, error_factory, num_trials, confidence_level=0.95, seed=2018):\n",
    "    np.random.seed(seed)    \n",
    "    X = stats.norm.rvs(x_mean, x_std_error, size=(n, 1))\n",
    "    \n",
    "    def simulate_trial():\n",
    "        errors = error_factory(n)\n",
    "        y = BETA_0 + np.squeeze(X*BETA_1) + errors\n",
    "        linear_model = LinearRegression().fit(X, y)\n",
    "        \n",
    "        coefficients = linear_model.coefficients_\n",
    "        \n",
    "        return OrderedDict([\n",
    "            ('beta_0_estimate', coefficients['estimate'][0]),\n",
    "            ('beta_0_variance', np.square(coefficients['std_error'][0])),\n",
    "            ('beta_1_estimate', coefficients['estimate'][1]),\n",
    "            ('beta_1_variance', coefficients['std_error'][1]),\n",
    "        ])\n",
    "    \n",
    "    trial_results = pd.DataFrame([simulate_trial() for _ in range(num_trials)])    \n",
    "    t_conf = stats.t.isf((1 - confidence_level)/2, df=n-2)\n",
    "\n",
    "    beta_0_error = trial_results['beta_0_estimate'] - BETA_0\n",
    "    beta_0_pct_conf_interval = np.sum(\n",
    "        np.abs(beta_0_error) <= t_conf*np.sqrt(trial_results['beta_0_variance']))/num_trials\n",
    "    print(beta_0_pct_conf_interval)\n",
    "    print(np.var(trial_results['beta_0_estimate'] ,ddof=1))\n",
    "    \n",
    "    \n",
    "    return trial_results.mean()"
   ]
  },
  {
   "cell_type": "code",
   "execution_count": 811,
   "metadata": {},
   "outputs": [
    {
     "name": "stdout",
     "output_type": "stream",
     "text": [
      "n                 15\n",
      "error_type    normal\n",
      "Name: 0, dtype: object\n",
      "0.952\n",
      "16.409417148699834\n",
      "beta_0_estimate     2.156427\n",
      "beta_0_variance    16.379581\n",
      "beta_1_estimate    -2.507613\n",
      "beta_1_variance     0.191126\n",
      "dtype: float64\n",
      "n                  15\n",
      "error_type    uniform\n",
      "Name: 1, dtype: object\n",
      "0.951\n",
      "5.587439202117705\n",
      "beta_0_estimate    2.111719\n",
      "beta_0_variance    5.473722\n",
      "beta_1_estimate   -2.505180\n",
      "beta_1_variance    0.111606\n",
      "dtype: float64\n",
      "n                      15\n",
      "error_type    skew_normal\n",
      "Name: 2, dtype: object\n",
      "0.945\n",
      "1.6450778137432107\n",
      "beta_0_estimate    2.008698\n",
      "beta_0_variance    1.631703\n",
      "beta_1_estimate   -2.500502\n",
      "beta_1_variance    0.059968\n",
      "dtype: float64\n",
      "n                      15\n",
      "error_type    levy_stable\n",
      "Name: 3, dtype: object\n",
      "0.947\n",
      "201.47903106500527\n",
      "beta_0_estimate      2.378370\n",
      "beta_0_variance    502.542165\n",
      "beta_1_estimate     -2.520855\n",
      "beta_1_variance      0.311045\n",
      "dtype: float64\n",
      "n                 30\n",
      "error_type    normal\n",
      "Name: 4, dtype: object\n",
      "0.953\n",
      "6.133336566856355\n",
      "beta_0_estimate    2.072645\n",
      "beta_0_variance    6.020336\n",
      "beta_1_estimate   -2.504607\n",
      "beta_1_variance    0.121736\n",
      "dtype: float64\n",
      "n                  30\n",
      "error_type    uniform\n",
      "Name: 5, dtype: object\n",
      "0.956\n",
      "1.9062747312075752\n",
      "beta_0_estimate    2.006088\n",
      "beta_0_variance    2.011352\n",
      "beta_1_estimate   -2.500496\n",
      "beta_1_variance    0.070720\n",
      "dtype: float64\n",
      "n                      30\n",
      "error_type    skew_normal\n",
      "Name: 6, dtype: object\n",
      "0.951\n",
      "0.6021698108437384\n",
      "beta_0_estimate    2.020665\n",
      "beta_0_variance    0.597073\n",
      "beta_1_estimate   -2.500785\n",
      "beta_1_variance    0.038207\n",
      "dtype: float64\n",
      "n                      30\n",
      "error_type    levy_stable\n",
      "Name: 7, dtype: object\n",
      "0.953\n",
      "38.492733210682296\n",
      "beta_0_estimate     1.983050\n",
      "beta_0_variance    74.302566\n",
      "beta_1_estimate    -2.499747\n",
      "beta_1_variance     0.193181\n",
      "dtype: float64\n"
     ]
    }
   ],
   "source": [
    "for _, experiment in experiments.iterrows():\n",
    "    print(experiment)\n",
    "    print(simulate(experiment['n'], ERROR_FACTORY[experiment['error_type']], 1000))"
   ]
  },
  {
   "cell_type": "code",
   "execution_count": 607,
   "metadata": {},
   "outputs": [
    {
     "data": {
      "text/plain": [
       "0.21114095706975328"
      ]
     },
     "execution_count": 607,
     "metadata": {},
     "output_type": "execute_result"
    }
   ],
   "source": [
    "np.mean(stats.t.rvs(1.1,0, 1, 15000000))"
   ]
  }
 ],
 "metadata": {
  "kernelspec": {
   "display_name": "Python 3",
   "language": "python",
   "name": "python3"
  },
  "language_info": {
   "codemirror_mode": {
    "name": "ipython",
    "version": 3
   },
   "file_extension": ".py",
   "mimetype": "text/x-python",
   "name": "python",
   "nbconvert_exporter": "python",
   "pygments_lexer": "ipython3",
   "version": "3.5.2"
  }
 },
 "nbformat": 4,
 "nbformat_minor": 2
}
